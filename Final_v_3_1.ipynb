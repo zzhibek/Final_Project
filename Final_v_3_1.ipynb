{
 "cells": [
  {
   "cell_type": "code",
   "execution_count": 119,
   "metadata": {},
   "outputs": [],
   "source": [
    "# Python 3 \n",
    "# AdaBoost\n",
    "# Done by: \n",
    "import numpy as np\n",
    "import pandas as pd\n",
    "import seaborn as sns\n",
    "import matplotlib.pyplot as plt\n",
    "import json\n",
    "\n",
    "from sklearn.model_selection import train_test_split\n",
    "from sklearn.metrics import r2_score,mean_squared_error\n",
    "from sklearn.ensemble import AdaBoostClassifier\n",
    "from sklearn import metrics\n",
    "\n",
    "import warnings\n",
    "warnings.filterwarnings('ignore')\n",
    "import statsmodels.api as sm"
   ]
  },
  {
   "cell_type": "markdown",
   "metadata": {},
   "source": [
    "Importing lib"
   ]
  },
  {
   "cell_type": "code",
   "execution_count": 120,
   "metadata": {
    "scrolled": true
   },
   "outputs": [
    {
     "data": {
      "text/html": [
       "<div>\n",
       "<style scoped>\n",
       "    .dataframe tbody tr th:only-of-type {\n",
       "        vertical-align: middle;\n",
       "    }\n",
       "\n",
       "    .dataframe tbody tr th {\n",
       "        vertical-align: top;\n",
       "    }\n",
       "\n",
       "    .dataframe thead th {\n",
       "        text-align: right;\n",
       "    }\n",
       "</style>\n",
       "<table border=\"1\" class=\"dataframe\">\n",
       "  <thead>\n",
       "    <tr style=\"text-align: right;\">\n",
       "      <th></th>\n",
       "      <th>video_id</th>\n",
       "      <th>trending_date</th>\n",
       "      <th>title</th>\n",
       "      <th>channel_title</th>\n",
       "      <th>category_id</th>\n",
       "      <th>publish_time</th>\n",
       "      <th>tags</th>\n",
       "      <th>views</th>\n",
       "      <th>likes</th>\n",
       "      <th>dislikes</th>\n",
       "      <th>comment_count</th>\n",
       "      <th>thumbnail_link</th>\n",
       "      <th>comments_disabled</th>\n",
       "      <th>ratings_disabled</th>\n",
       "      <th>video_error_or_removed</th>\n",
       "      <th>description</th>\n",
       "    </tr>\n",
       "  </thead>\n",
       "  <tbody>\n",
       "    <tr>\n",
       "      <th>0</th>\n",
       "      <td>5ugKfHgsmYw</td>\n",
       "      <td>18.07.02</td>\n",
       "      <td>é¸èªããªãåç´ã«è½ä¸ï¼è·¯ä¸ã®è»ã...</td>\n",
       "      <td>æäºéä¿¡æ åã»ã³ã¿ã¼</td>\n",
       "      <td>25</td>\n",
       "      <td>2018-02-06T03:04:37.000Z</td>\n",
       "      <td>äºæ",
       "|\"ä½è³\"|\"ä½è³ç\"|\"ããªã³ãã¿ã...</td>\n",
       "      <td>188085</td>\n",
       "      <td>591</td>\n",
       "      <td>189</td>\n",
       "      <td>0</td>\n",
       "      <td>https://i.ytimg.com/vi/5ugKfHgsmYw/default.jpg</td>\n",
       "      <td>True</td>\n",
       "      <td>False</td>\n",
       "      <td>False</td>\n",
       "      <td>ä½è³çç¥å¼å¸ã®æ°å®¶ã«å¢è½ããé¸ä...</td>\n",
       "    </tr>\n",
       "    <tr>\n",
       "      <th>1</th>\n",
       "      <td>ohObafdd34Y</td>\n",
       "      <td>18.07.02</td>\n",
       "      <td>ã¤ããQ ãç¥­ãç·å®®å·Ãæè¶ å·¨å¤§ã...</td>\n",
       "      <td>ç¥è°·ãããª Kamiya Erina 2</td>\n",
       "      <td>1</td>\n",
       "      <td>2018-02-06T04:01:56.000Z</td>\n",
       "      <td>[none]</td>\n",
       "      <td>90929</td>\n",
       "      <td>442</td>\n",
       "      <td>88</td>\n",
       "      <td>174</td>\n",
       "      <td>https://i.ytimg.com/vi/ohObafdd34Y/default.jpg</td>\n",
       "      <td>False</td>\n",
       "      <td>False</td>\n",
       "      <td>False</td>\n",
       "      <td>NaN</td>\n",
       "    </tr>\n",
       "    <tr>\n",
       "      <th>2</th>\n",
       "      <td>aBr2kKAHN6M</td>\n",
       "      <td>18.07.02</td>\n",
       "      <td>Live Views of Starman</td>\n",
       "      <td>SpaceX</td>\n",
       "      <td>28</td>\n",
       "      <td>2018-02-06T21:38:22.000Z</td>\n",
       "      <td>[none]</td>\n",
       "      <td>6408303</td>\n",
       "      <td>165892</td>\n",
       "      <td>2331</td>\n",
       "      <td>3006</td>\n",
       "      <td>https://i.ytimg.com/vi/aBr2kKAHN6M/default.jpg</td>\n",
       "      <td>False</td>\n",
       "      <td>False</td>\n",
       "      <td>False</td>\n",
       "      <td>NaN</td>\n",
       "    </tr>\n",
       "    <tr>\n",
       "      <th>3</th>\n",
       "      <td>5wNnwChvmsQ</td>\n",
       "      <td>18.07.02</td>\n",
       "      <td>æ±äº¬ãã£ãºãã¼ãªã¾ã¼ãã®å",
       "ã­ã£ã...</td>\n",
       "      <td>ã¢ã·ã¿ãã¯ãã¤</td>\n",
       "      <td>25</td>\n",
       "      <td>2018-02-06T06:08:49.000Z</td>\n",
       "      <td>ã¢ã·ã¿ãã¯ãã¤</td>\n",
       "      <td>96255</td>\n",
       "      <td>1165</td>\n",
       "      <td>277</td>\n",
       "      <td>545</td>\n",
       "      <td>https://i.ytimg.com/vi/5wNnwChvmsQ/default.jpg</td>\n",
       "      <td>False</td>\n",
       "      <td>False</td>\n",
       "      <td>False</td>\n",
       "      <td>æ±äº¬ãã£ãºãã¼ãªã¾ã¼ãã®å",
       "ã­ã£ã...</td>\n",
       "    </tr>\n",
       "    <tr>\n",
       "      <th>4</th>\n",
       "      <td>B7J47qFvdsk</td>\n",
       "      <td>18.07.02</td>\n",
       "      <td>æ¦®åå¥ã",
       "ãè¡æã®æ­»ãã ãµãï¼æ ç...</td>\n",
       "      <td>ã·ãããã¥ãã¤</td>\n",
       "      <td>1</td>\n",
       "      <td>2018-02-06T02:30:00.000Z</td>\n",
       "      <td>[none]</td>\n",
       "      <td>108408</td>\n",
       "      <td>1336</td>\n",
       "      <td>74</td>\n",
       "      <td>201</td>\n",
       "      <td>https://i.ytimg.com/vi/B7J47qFvdsk/default.jpg</td>\n",
       "      <td>False</td>\n",
       "      <td>False</td>\n",
       "      <td>False</td>\n",
       "      <td>å®¶ã«å¸°ã£ã¦ãããµã©ãªã¼ãã³ã®ãã...</td>\n",
       "    </tr>\n",
       "  </tbody>\n",
       "</table>\n",
       "</div>"
      ],
      "text/plain": [
       "      video_id trending_date  \\\n",
       "0  5ugKfHgsmYw      18.07.02   \n",
       "1  ohObafdd34Y      18.07.02   \n",
       "2  aBr2kKAHN6M      18.07.02   \n",
       "3  5wNnwChvmsQ      18.07.02   \n",
       "4  B7J47qFvdsk      18.07.02   \n",
       "\n",
       "                                               title  \\\n",
       "0  é¸èªããªãåç´ã«è½ä¸ï¼è·¯ä¸ã®è»ã...   \n",
       "1  ã¤ããQ ãç¥­ãç·å®®å·Ãæè¶ å·¨å¤§ã...   \n",
       "2                              Live Views of Starman   \n",
       "3  æ±äº¬ãã£ãºãã¼ãªã¾ã¼ãã®å\n",
       "ã­ã£ã...   \n",
       "4  æ¦®åå¥ã\n",
       "ãè¡æã®æ­»ãã ãµãï¼æ ç...   \n",
       "\n",
       "                    channel_title  category_id              publish_time  \\\n",
       "0  æäºéä¿¡æ åã»ã³ã¿ã¼           25  2018-02-06T03:04:37.000Z   \n",
       "1  ç¥è°·ãããª Kamiya Erina 2            1  2018-02-06T04:01:56.000Z   \n",
       "2                          SpaceX           28  2018-02-06T21:38:22.000Z   \n",
       "3           ã¢ã·ã¿ãã¯ãã¤           25  2018-02-06T06:08:49.000Z   \n",
       "4           ã·ãããã¥ãã¤            1  2018-02-06T02:30:00.000Z   \n",
       "\n",
       "                                                tags    views   likes  \\\n",
       "0  äºæ\n",
       "|\"ä½è³\"|\"ä½è³ç\"|\"ããªã³ãã¿ã...   188085     591   \n",
       "1                                             [none]    90929     442   \n",
       "2                                             [none]  6408303  165892   \n",
       "3                              ã¢ã·ã¿ãã¯ãã¤    96255    1165   \n",
       "4                                             [none]   108408    1336   \n",
       "\n",
       "   dislikes  comment_count                                  thumbnail_link  \\\n",
       "0       189              0  https://i.ytimg.com/vi/5ugKfHgsmYw/default.jpg   \n",
       "1        88            174  https://i.ytimg.com/vi/ohObafdd34Y/default.jpg   \n",
       "2      2331           3006  https://i.ytimg.com/vi/aBr2kKAHN6M/default.jpg   \n",
       "3       277            545  https://i.ytimg.com/vi/5wNnwChvmsQ/default.jpg   \n",
       "4        74            201  https://i.ytimg.com/vi/B7J47qFvdsk/default.jpg   \n",
       "\n",
       "   comments_disabled  ratings_disabled  video_error_or_removed  \\\n",
       "0               True             False                   False   \n",
       "1              False             False                   False   \n",
       "2              False             False                   False   \n",
       "3              False             False                   False   \n",
       "4              False             False                   False   \n",
       "\n",
       "                                         description  \n",
       "0  ä½è³çç¥å¼å¸ã®æ°å®¶ã«å¢è½ããé¸ä...  \n",
       "1                                                NaN  \n",
       "2                                                NaN  \n",
       "3  æ±äº¬ãã£ãºãã¼ãªã¾ã¼ãã®å\n",
       "ã­ã£ã...  \n",
       "4  å®¶ã«å¸°ã£ã¦ãããµã©ãªã¼ãã³ã®ãã...  "
      ]
     },
     "execution_count": 120,
     "metadata": {},
     "output_type": "execute_result"
    }
   ],
   "source": [
    "video=pd.read_csv('JPvideos.csv',encoding='latin1')\n",
    "video.head()\n"
   ]
  },
  {
   "cell_type": "code",
   "execution_count": null,
   "metadata": {},
   "outputs": [],
   "source": []
  },
  {
   "cell_type": "code",
   "execution_count": 121,
   "metadata": {},
   "outputs": [
    {
     "data": {
      "text/html": [
       "<div>\n",
       "<style scoped>\n",
       "    .dataframe tbody tr th:only-of-type {\n",
       "        vertical-align: middle;\n",
       "    }\n",
       "\n",
       "    .dataframe tbody tr th {\n",
       "        vertical-align: top;\n",
       "    }\n",
       "\n",
       "    .dataframe thead th {\n",
       "        text-align: right;\n",
       "    }\n",
       "</style>\n",
       "<table border=\"1\" class=\"dataframe\">\n",
       "  <thead>\n",
       "    <tr style=\"text-align: right;\">\n",
       "      <th></th>\n",
       "      <th>video_id</th>\n",
       "      <th>trending_date</th>\n",
       "      <th>title</th>\n",
       "      <th>channel_title</th>\n",
       "      <th>category_id</th>\n",
       "      <th>publish_time</th>\n",
       "      <th>tags</th>\n",
       "      <th>views</th>\n",
       "      <th>likes</th>\n",
       "      <th>dislikes</th>\n",
       "      <th>comment_count</th>\n",
       "      <th>thumbnail_link</th>\n",
       "      <th>comments_disabled</th>\n",
       "      <th>ratings_disabled</th>\n",
       "      <th>video_error_or_removed</th>\n",
       "      <th>description</th>\n",
       "    </tr>\n",
       "  </thead>\n",
       "  <tbody>\n",
       "    <tr>\n",
       "      <th>count</th>\n",
       "      <td>20523</td>\n",
       "      <td>20523</td>\n",
       "      <td>20523</td>\n",
       "      <td>20523</td>\n",
       "      <td>20523.000000</td>\n",
       "      <td>20523</td>\n",
       "      <td>20523</td>\n",
       "      <td>2.052300e+04</td>\n",
       "      <td>2.052300e+04</td>\n",
       "      <td>20523.000000</td>\n",
       "      <td>20523.000000</td>\n",
       "      <td>20523</td>\n",
       "      <td>20523</td>\n",
       "      <td>20523</td>\n",
       "      <td>20523</td>\n",
       "      <td>18399</td>\n",
       "    </tr>\n",
       "    <tr>\n",
       "      <th>unique</th>\n",
       "      <td>12912</td>\n",
       "      <td>122</td>\n",
       "      <td>13087</td>\n",
       "      <td>4649</td>\n",
       "      <td>NaN</td>\n",
       "      <td>12505</td>\n",
       "      <td>8761</td>\n",
       "      <td>NaN</td>\n",
       "      <td>NaN</td>\n",
       "      <td>NaN</td>\n",
       "      <td>NaN</td>\n",
       "      <td>13093</td>\n",
       "      <td>2</td>\n",
       "      <td>2</td>\n",
       "      <td>2</td>\n",
       "      <td>10743</td>\n",
       "    </tr>\n",
       "    <tr>\n",
       "      <th>top</th>\n",
       "      <td>#NAME?</td>\n",
       "      <td>18.04.04</td>\n",
       "      <td>ãå¹ãããè² ããè©±é¡ã®é¢ç½ãç»å...</td>\n",
       "      <td>DHCãã¬ã</td>\n",
       "      <td>NaN</td>\n",
       "      <td>2018-02-06T08:00:01.000Z</td>\n",
       "      <td>[none]</td>\n",
       "      <td>NaN</td>\n",
       "      <td>NaN</td>\n",
       "      <td>NaN</td>\n",
       "      <td>NaN</td>\n",
       "      <td>https://i.ytimg.com/vi/5ugKfHgsmYw/default.jpg</td>\n",
       "      <td>False</td>\n",
       "      <td>False</td>\n",
       "      <td>False</td>\n",
       "      <td>èª¬æ</td>\n",
       "    </tr>\n",
       "    <tr>\n",
       "      <th>freq</th>\n",
       "      <td>282</td>\n",
       "      <td>199</td>\n",
       "      <td>17</td>\n",
       "      <td>169</td>\n",
       "      <td>NaN</td>\n",
       "      <td>12</td>\n",
       "      <td>3200</td>\n",
       "      <td>NaN</td>\n",
       "      <td>NaN</td>\n",
       "      <td>NaN</td>\n",
       "      <td>NaN</td>\n",
       "      <td>8</td>\n",
       "      <td>19109</td>\n",
       "      <td>19133</td>\n",
       "      <td>20511</td>\n",
       "      <td>94</td>\n",
       "    </tr>\n",
       "    <tr>\n",
       "      <th>mean</th>\n",
       "      <td>NaN</td>\n",
       "      <td>NaN</td>\n",
       "      <td>NaN</td>\n",
       "      <td>NaN</td>\n",
       "      <td>19.807533</td>\n",
       "      <td>NaN</td>\n",
       "      <td>NaN</td>\n",
       "      <td>2.620215e+05</td>\n",
       "      <td>8.059587e+03</td>\n",
       "      <td>366.823613</td>\n",
       "      <td>1196.077864</td>\n",
       "      <td>NaN</td>\n",
       "      <td>NaN</td>\n",
       "      <td>NaN</td>\n",
       "      <td>NaN</td>\n",
       "      <td>NaN</td>\n",
       "    </tr>\n",
       "    <tr>\n",
       "      <th>std</th>\n",
       "      <td>NaN</td>\n",
       "      <td>NaN</td>\n",
       "      <td>NaN</td>\n",
       "      <td>NaN</td>\n",
       "      <td>6.655895</td>\n",
       "      <td>NaN</td>\n",
       "      <td>NaN</td>\n",
       "      <td>1.294938e+06</td>\n",
       "      <td>8.384837e+04</td>\n",
       "      <td>2658.598540</td>\n",
       "      <td>14943.608305</td>\n",
       "      <td>NaN</td>\n",
       "      <td>NaN</td>\n",
       "      <td>NaN</td>\n",
       "      <td>NaN</td>\n",
       "      <td>NaN</td>\n",
       "    </tr>\n",
       "    <tr>\n",
       "      <th>min</th>\n",
       "      <td>NaN</td>\n",
       "      <td>NaN</td>\n",
       "      <td>NaN</td>\n",
       "      <td>NaN</td>\n",
       "      <td>1.000000</td>\n",
       "      <td>NaN</td>\n",
       "      <td>NaN</td>\n",
       "      <td>7.980000e+02</td>\n",
       "      <td>0.000000e+00</td>\n",
       "      <td>0.000000</td>\n",
       "      <td>0.000000</td>\n",
       "      <td>NaN</td>\n",
       "      <td>NaN</td>\n",
       "      <td>NaN</td>\n",
       "      <td>NaN</td>\n",
       "      <td>NaN</td>\n",
       "    </tr>\n",
       "    <tr>\n",
       "      <th>25%</th>\n",
       "      <td>NaN</td>\n",
       "      <td>NaN</td>\n",
       "      <td>NaN</td>\n",
       "      <td>NaN</td>\n",
       "      <td>17.000000</td>\n",
       "      <td>NaN</td>\n",
       "      <td>NaN</td>\n",
       "      <td>1.710000e+04</td>\n",
       "      <td>1.210000e+02</td>\n",
       "      <td>9.000000</td>\n",
       "      <td>19.000000</td>\n",
       "      <td>NaN</td>\n",
       "      <td>NaN</td>\n",
       "      <td>NaN</td>\n",
       "      <td>NaN</td>\n",
       "      <td>NaN</td>\n",
       "    </tr>\n",
       "    <tr>\n",
       "      <th>50%</th>\n",
       "      <td>NaN</td>\n",
       "      <td>NaN</td>\n",
       "      <td>NaN</td>\n",
       "      <td>NaN</td>\n",
       "      <td>22.000000</td>\n",
       "      <td>NaN</td>\n",
       "      <td>NaN</td>\n",
       "      <td>6.408400e+04</td>\n",
       "      <td>6.480000e+02</td>\n",
       "      <td>43.000000</td>\n",
       "      <td>133.000000</td>\n",
       "      <td>NaN</td>\n",
       "      <td>NaN</td>\n",
       "      <td>NaN</td>\n",
       "      <td>NaN</td>\n",
       "      <td>NaN</td>\n",
       "    </tr>\n",
       "    <tr>\n",
       "      <th>75%</th>\n",
       "      <td>NaN</td>\n",
       "      <td>NaN</td>\n",
       "      <td>NaN</td>\n",
       "      <td>NaN</td>\n",
       "      <td>24.000000</td>\n",
       "      <td>NaN</td>\n",
       "      <td>NaN</td>\n",
       "      <td>1.833670e+05</td>\n",
       "      <td>2.303000e+03</td>\n",
       "      <td>178.000000</td>\n",
       "      <td>488.000000</td>\n",
       "      <td>NaN</td>\n",
       "      <td>NaN</td>\n",
       "      <td>NaN</td>\n",
       "      <td>NaN</td>\n",
       "      <td>NaN</td>\n",
       "    </tr>\n",
       "    <tr>\n",
       "      <th>max</th>\n",
       "      <td>NaN</td>\n",
       "      <td>NaN</td>\n",
       "      <td>NaN</td>\n",
       "      <td>NaN</td>\n",
       "      <td>29.000000</td>\n",
       "      <td>NaN</td>\n",
       "      <td>NaN</td>\n",
       "      <td>6.279639e+07</td>\n",
       "      <td>4.470923e+06</td>\n",
       "      <td>119053.000000</td>\n",
       "      <td>905925.000000</td>\n",
       "      <td>NaN</td>\n",
       "      <td>NaN</td>\n",
       "      <td>NaN</td>\n",
       "      <td>NaN</td>\n",
       "      <td>NaN</td>\n",
       "    </tr>\n",
       "  </tbody>\n",
       "</table>\n",
       "</div>"
      ],
      "text/plain": [
       "       video_id trending_date  \\\n",
       "count     20523         20523   \n",
       "unique    12912           122   \n",
       "top      #NAME?      18.04.04   \n",
       "freq        282           199   \n",
       "mean        NaN           NaN   \n",
       "std         NaN           NaN   \n",
       "min         NaN           NaN   \n",
       "25%         NaN           NaN   \n",
       "50%         NaN           NaN   \n",
       "75%         NaN           NaN   \n",
       "max         NaN           NaN   \n",
       "\n",
       "                                                    title channel_title  \\\n",
       "count                                               20523         20523   \n",
       "unique                                              13087          4649   \n",
       "top     ãå¹ãããè² ããè©±é¡ã®é¢ç½ãç»å...  DHCãã¬ã   \n",
       "freq                                                   17           169   \n",
       "mean                                                  NaN           NaN   \n",
       "std                                                   NaN           NaN   \n",
       "min                                                   NaN           NaN   \n",
       "25%                                                   NaN           NaN   \n",
       "50%                                                   NaN           NaN   \n",
       "75%                                                   NaN           NaN   \n",
       "max                                                   NaN           NaN   \n",
       "\n",
       "         category_id              publish_time    tags         views  \\\n",
       "count   20523.000000                     20523   20523  2.052300e+04   \n",
       "unique           NaN                     12505    8761           NaN   \n",
       "top              NaN  2018-02-06T08:00:01.000Z  [none]           NaN   \n",
       "freq             NaN                        12    3200           NaN   \n",
       "mean       19.807533                       NaN     NaN  2.620215e+05   \n",
       "std         6.655895                       NaN     NaN  1.294938e+06   \n",
       "min         1.000000                       NaN     NaN  7.980000e+02   \n",
       "25%        17.000000                       NaN     NaN  1.710000e+04   \n",
       "50%        22.000000                       NaN     NaN  6.408400e+04   \n",
       "75%        24.000000                       NaN     NaN  1.833670e+05   \n",
       "max        29.000000                       NaN     NaN  6.279639e+07   \n",
       "\n",
       "               likes       dislikes  comment_count  \\\n",
       "count   2.052300e+04   20523.000000   20523.000000   \n",
       "unique           NaN            NaN            NaN   \n",
       "top              NaN            NaN            NaN   \n",
       "freq             NaN            NaN            NaN   \n",
       "mean    8.059587e+03     366.823613    1196.077864   \n",
       "std     8.384837e+04    2658.598540   14943.608305   \n",
       "min     0.000000e+00       0.000000       0.000000   \n",
       "25%     1.210000e+02       9.000000      19.000000   \n",
       "50%     6.480000e+02      43.000000     133.000000   \n",
       "75%     2.303000e+03     178.000000     488.000000   \n",
       "max     4.470923e+06  119053.000000  905925.000000   \n",
       "\n",
       "                                        thumbnail_link comments_disabled  \\\n",
       "count                                            20523             20523   \n",
       "unique                                           13093                 2   \n",
       "top     https://i.ytimg.com/vi/5ugKfHgsmYw/default.jpg             False   \n",
       "freq                                                 8             19109   \n",
       "mean                                               NaN               NaN   \n",
       "std                                                NaN               NaN   \n",
       "min                                                NaN               NaN   \n",
       "25%                                                NaN               NaN   \n",
       "50%                                                NaN               NaN   \n",
       "75%                                                NaN               NaN   \n",
       "max                                                NaN               NaN   \n",
       "\n",
       "       ratings_disabled video_error_or_removed description  \n",
       "count             20523                  20523       18399  \n",
       "unique                2                      2       10743  \n",
       "top               False                  False      èª¬æ  \n",
       "freq              19133                  20511          94  \n",
       "mean                NaN                    NaN         NaN  \n",
       "std                 NaN                    NaN         NaN  \n",
       "min                 NaN                    NaN         NaN  \n",
       "25%                 NaN                    NaN         NaN  \n",
       "50%                 NaN                    NaN         NaN  \n",
       "75%                 NaN                    NaN         NaN  \n",
       "max                 NaN                    NaN         NaN  "
      ]
     },
     "execution_count": 121,
     "metadata": {},
     "output_type": "execute_result"
    }
   ],
   "source": [
    "video.describe(include=\"all\")"
   ]
  },
  {
   "cell_type": "code",
   "execution_count": 122,
   "metadata": {},
   "outputs": [
    {
     "name": "stdout",
     "output_type": "stream",
     "text": [
      "<class 'pandas.core.frame.DataFrame'>\n",
      "RangeIndex: 20523 entries, 0 to 20522\n",
      "Data columns (total 16 columns):\n",
      " #   Column                  Non-Null Count  Dtype \n",
      "---  ------                  --------------  ----- \n",
      " 0   video_id                20523 non-null  object\n",
      " 1   trending_date           20523 non-null  object\n",
      " 2   title                   20523 non-null  object\n",
      " 3   channel_title           20523 non-null  object\n",
      " 4   category_id             20523 non-null  int64 \n",
      " 5   publish_time            20523 non-null  object\n",
      " 6   tags                    20523 non-null  object\n",
      " 7   views                   20523 non-null  int64 \n",
      " 8   likes                   20523 non-null  int64 \n",
      " 9   dislikes                20523 non-null  int64 \n",
      " 10  comment_count           20523 non-null  int64 \n",
      " 11  thumbnail_link          20523 non-null  object\n",
      " 12  comments_disabled       20523 non-null  bool  \n",
      " 13  ratings_disabled        20523 non-null  bool  \n",
      " 14  video_error_or_removed  20523 non-null  bool  \n",
      " 15  description             18399 non-null  object\n",
      "dtypes: bool(3), int64(5), object(8)\n",
      "memory usage: 2.1+ MB\n"
     ]
    }
   ],
   "source": [
    "video.info()"
   ]
  },
  {
   "cell_type": "code",
   "execution_count": 123,
   "metadata": {},
   "outputs": [
    {
     "name": "stdout",
     "output_type": "stream",
     "text": [
      "Index(['video_id', 'trending_date', 'title', 'channel_title', 'category_id',\n",
      "       'publish_time', 'tags', 'views', 'likes', 'dislikes', 'comment_count',\n",
      "       'thumbnail_link', 'comments_disabled', 'ratings_disabled',\n",
      "       'video_error_or_removed', 'description'],\n",
      "      dtype='object')\n",
      "video_id                  object\n",
      "trending_date             object\n",
      "title                     object\n",
      "channel_title             object\n",
      "category_id                int64\n",
      "publish_time              object\n",
      "tags                      object\n",
      "views                      int64\n",
      "likes                      int64\n",
      "dislikes                   int64\n",
      "comment_count              int64\n",
      "thumbnail_link            object\n",
      "comments_disabled           bool\n",
      "ratings_disabled            bool\n",
      "video_error_or_removed      bool\n",
      "description               object\n",
      "dtype: object\n"
     ]
    }
   ],
   "source": [
    "print(video.columns)\n",
    "print(video.dtypes)"
   ]
  },
  {
   "cell_type": "code",
   "execution_count": null,
   "metadata": {},
   "outputs": [],
   "source": []
  },
  {
   "cell_type": "code",
   "execution_count": null,
   "metadata": {},
   "outputs": [],
   "source": []
  },
  {
   "cell_type": "code",
   "execution_count": 124,
   "metadata": {},
   "outputs": [
    {
     "data": {
      "text/plain": [
       "24    6259\n",
       "22    3915\n",
       "17    2037\n",
       "25    1392\n",
       "10    1290\n",
       "1     1220\n",
       "15    1127\n",
       "20    1030\n",
       "26     799\n",
       "23     743\n",
       "2      280\n",
       "28     158\n",
       "19     143\n",
       "27     112\n",
       "29      18\n",
       "Name: category_id, dtype: int64"
      ]
     },
     "execution_count": 124,
     "metadata": {},
     "output_type": "execute_result"
    }
   ],
   "source": [
    "video['category_id'].value_counts()"
   ]
  },
  {
   "cell_type": "code",
   "execution_count": null,
   "metadata": {},
   "outputs": [],
   "source": []
  },
  {
   "cell_type": "code",
   "execution_count": 125,
   "metadata": {},
   "outputs": [
    {
     "data": {
      "text/plain": [
       "(20523, 16)"
      ]
     },
     "execution_count": 125,
     "metadata": {},
     "output_type": "execute_result"
    }
   ],
   "source": [
    "video.shape"
   ]
  },
  {
   "cell_type": "code",
   "execution_count": 126,
   "metadata": {},
   "outputs": [
    {
     "data": {
      "text/html": [
       "<div>\n",
       "<style scoped>\n",
       "    .dataframe tbody tr th:only-of-type {\n",
       "        vertical-align: middle;\n",
       "    }\n",
       "\n",
       "    .dataframe tbody tr th {\n",
       "        vertical-align: top;\n",
       "    }\n",
       "\n",
       "    .dataframe thead th {\n",
       "        text-align: right;\n",
       "    }\n",
       "</style>\n",
       "<table border=\"1\" class=\"dataframe\">\n",
       "  <thead>\n",
       "    <tr style=\"text-align: right;\">\n",
       "      <th></th>\n",
       "      <th>video_id</th>\n",
       "      <th>trending_date</th>\n",
       "      <th>title</th>\n",
       "      <th>channel_title</th>\n",
       "      <th>category_id</th>\n",
       "      <th>publish_time</th>\n",
       "      <th>tags</th>\n",
       "      <th>views</th>\n",
       "      <th>likes</th>\n",
       "      <th>dislikes</th>\n",
       "      <th>comment_count</th>\n",
       "      <th>thumbnail_link</th>\n",
       "      <th>comments_disabled</th>\n",
       "      <th>ratings_disabled</th>\n",
       "      <th>video_error_or_removed</th>\n",
       "      <th>description</th>\n",
       "      <th>pred_views</th>\n",
       "    </tr>\n",
       "  </thead>\n",
       "  <tbody>\n",
       "    <tr>\n",
       "      <th>0</th>\n",
       "      <td>5ugKfHgsmYw</td>\n",
       "      <td>18.07.02</td>\n",
       "      <td>é¸èªããªãåç´ã«è½ä¸ï¼è·¯ä¸ã®è»ã...</td>\n",
       "      <td>æäºéä¿¡æ åã»ã³ã¿ã¼</td>\n",
       "      <td>25</td>\n",
       "      <td>2018-02-06T03:04:37.000Z</td>\n",
       "      <td>äºæ",
       "|\"ä½è³\"|\"ä½è³ç\"|\"ããªã³ãã¿ã...</td>\n",
       "      <td>188085</td>\n",
       "      <td>591</td>\n",
       "      <td>189</td>\n",
       "      <td>0</td>\n",
       "      <td>https://i.ytimg.com/vi/5ugKfHgsmYw/default.jpg</td>\n",
       "      <td>True</td>\n",
       "      <td>False</td>\n",
       "      <td>False</td>\n",
       "      <td>ä½è³çç¥å¼å¸ã®æ°å®¶ã«å¢è½ããé¸ä...</td>\n",
       "      <td>188085</td>\n",
       "    </tr>\n",
       "    <tr>\n",
       "      <th>1</th>\n",
       "      <td>ohObafdd34Y</td>\n",
       "      <td>18.07.02</td>\n",
       "      <td>ã¤ããQ ãç¥­ãç·å®®å·Ãæè¶ å·¨å¤§ã...</td>\n",
       "      <td>ç¥è°·ãããª Kamiya Erina 2</td>\n",
       "      <td>1</td>\n",
       "      <td>2018-02-06T04:01:56.000Z</td>\n",
       "      <td>[none]</td>\n",
       "      <td>90929</td>\n",
       "      <td>442</td>\n",
       "      <td>88</td>\n",
       "      <td>174</td>\n",
       "      <td>https://i.ytimg.com/vi/ohObafdd34Y/default.jpg</td>\n",
       "      <td>False</td>\n",
       "      <td>False</td>\n",
       "      <td>False</td>\n",
       "      <td>NaN</td>\n",
       "      <td>90929</td>\n",
       "    </tr>\n",
       "    <tr>\n",
       "      <th>2</th>\n",
       "      <td>aBr2kKAHN6M</td>\n",
       "      <td>18.07.02</td>\n",
       "      <td>Live Views of Starman</td>\n",
       "      <td>SpaceX</td>\n",
       "      <td>28</td>\n",
       "      <td>2018-02-06T21:38:22.000Z</td>\n",
       "      <td>[none]</td>\n",
       "      <td>6408303</td>\n",
       "      <td>165892</td>\n",
       "      <td>2331</td>\n",
       "      <td>3006</td>\n",
       "      <td>https://i.ytimg.com/vi/aBr2kKAHN6M/default.jpg</td>\n",
       "      <td>False</td>\n",
       "      <td>False</td>\n",
       "      <td>False</td>\n",
       "      <td>NaN</td>\n",
       "      <td>6408303</td>\n",
       "    </tr>\n",
       "    <tr>\n",
       "      <th>3</th>\n",
       "      <td>5wNnwChvmsQ</td>\n",
       "      <td>18.07.02</td>\n",
       "      <td>æ±äº¬ãã£ãºãã¼ãªã¾ã¼ãã®å",
       "ã­ã£ã...</td>\n",
       "      <td>ã¢ã·ã¿ãã¯ãã¤</td>\n",
       "      <td>25</td>\n",
       "      <td>2018-02-06T06:08:49.000Z</td>\n",
       "      <td>ã¢ã·ã¿ãã¯ãã¤</td>\n",
       "      <td>96255</td>\n",
       "      <td>1165</td>\n",
       "      <td>277</td>\n",
       "      <td>545</td>\n",
       "      <td>https://i.ytimg.com/vi/5wNnwChvmsQ/default.jpg</td>\n",
       "      <td>False</td>\n",
       "      <td>False</td>\n",
       "      <td>False</td>\n",
       "      <td>æ±äº¬ãã£ãºãã¼ãªã¾ã¼ãã®å",
       "ã­ã£ã...</td>\n",
       "      <td>96255</td>\n",
       "    </tr>\n",
       "    <tr>\n",
       "      <th>4</th>\n",
       "      <td>B7J47qFvdsk</td>\n",
       "      <td>18.07.02</td>\n",
       "      <td>æ¦®åå¥ã",
       "ãè¡æã®æ­»ãã ãµãï¼æ ç...</td>\n",
       "      <td>ã·ãããã¥ãã¤</td>\n",
       "      <td>1</td>\n",
       "      <td>2018-02-06T02:30:00.000Z</td>\n",
       "      <td>[none]</td>\n",
       "      <td>108408</td>\n",
       "      <td>1336</td>\n",
       "      <td>74</td>\n",
       "      <td>201</td>\n",
       "      <td>https://i.ytimg.com/vi/B7J47qFvdsk/default.jpg</td>\n",
       "      <td>False</td>\n",
       "      <td>False</td>\n",
       "      <td>False</td>\n",
       "      <td>å®¶ã«å¸°ã£ã¦ãããµã©ãªã¼ãã³ã®ãã...</td>\n",
       "      <td>108408</td>\n",
       "    </tr>\n",
       "  </tbody>\n",
       "</table>\n",
       "</div>"
      ],
      "text/plain": [
       "      video_id trending_date  \\\n",
       "0  5ugKfHgsmYw      18.07.02   \n",
       "1  ohObafdd34Y      18.07.02   \n",
       "2  aBr2kKAHN6M      18.07.02   \n",
       "3  5wNnwChvmsQ      18.07.02   \n",
       "4  B7J47qFvdsk      18.07.02   \n",
       "\n",
       "                                               title  \\\n",
       "0  é¸èªããªãåç´ã«è½ä¸ï¼è·¯ä¸ã®è»ã...   \n",
       "1  ã¤ããQ ãç¥­ãç·å®®å·Ãæè¶ å·¨å¤§ã...   \n",
       "2                              Live Views of Starman   \n",
       "3  æ±äº¬ãã£ãºãã¼ãªã¾ã¼ãã®å\n",
       "ã­ã£ã...   \n",
       "4  æ¦®åå¥ã\n",
       "ãè¡æã®æ­»ãã ãµãï¼æ ç...   \n",
       "\n",
       "                    channel_title  category_id              publish_time  \\\n",
       "0  æäºéä¿¡æ åã»ã³ã¿ã¼           25  2018-02-06T03:04:37.000Z   \n",
       "1  ç¥è°·ãããª Kamiya Erina 2            1  2018-02-06T04:01:56.000Z   \n",
       "2                          SpaceX           28  2018-02-06T21:38:22.000Z   \n",
       "3           ã¢ã·ã¿ãã¯ãã¤           25  2018-02-06T06:08:49.000Z   \n",
       "4           ã·ãããã¥ãã¤            1  2018-02-06T02:30:00.000Z   \n",
       "\n",
       "                                                tags    views   likes  \\\n",
       "0  äºæ\n",
       "|\"ä½è³\"|\"ä½è³ç\"|\"ããªã³ãã¿ã...   188085     591   \n",
       "1                                             [none]    90929     442   \n",
       "2                                             [none]  6408303  165892   \n",
       "3                              ã¢ã·ã¿ãã¯ãã¤    96255    1165   \n",
       "4                                             [none]   108408    1336   \n",
       "\n",
       "   dislikes  comment_count                                  thumbnail_link  \\\n",
       "0       189              0  https://i.ytimg.com/vi/5ugKfHgsmYw/default.jpg   \n",
       "1        88            174  https://i.ytimg.com/vi/ohObafdd34Y/default.jpg   \n",
       "2      2331           3006  https://i.ytimg.com/vi/aBr2kKAHN6M/default.jpg   \n",
       "3       277            545  https://i.ytimg.com/vi/5wNnwChvmsQ/default.jpg   \n",
       "4        74            201  https://i.ytimg.com/vi/B7J47qFvdsk/default.jpg   \n",
       "\n",
       "   comments_disabled  ratings_disabled  video_error_or_removed  \\\n",
       "0               True             False                   False   \n",
       "1              False             False                   False   \n",
       "2              False             False                   False   \n",
       "3              False             False                   False   \n",
       "4              False             False                   False   \n",
       "\n",
       "                                         description  pred_views  \n",
       "0  ä½è³çç¥å¼å¸ã®æ°å®¶ã«å¢è½ããé¸ä...      188085  \n",
       "1                                                NaN       90929  \n",
       "2                                                NaN     6408303  \n",
       "3  æ±äº¬ãã£ãºãã¼ãªã¾ã¼ãã®å\n",
       "ã­ã£ã...       96255  \n",
       "4  å®¶ã«å¸°ã£ã¦ãããµã©ãªã¼ãã³ã®ãã...      108408  "
      ]
     },
     "execution_count": 126,
     "metadata": {},
     "output_type": "execute_result"
    }
   ],
   "source": [
    "video[\"pred_views\"]=video['views']\n",
    "\n",
    "video.head()"
   ]
  },
  {
   "cell_type": "code",
   "execution_count": 127,
   "metadata": {},
   "outputs": [],
   "source": [
    "video.drop(['views'], axis=1, inplace=True)\n"
   ]
  },
  {
   "cell_type": "code",
   "execution_count": 128,
   "metadata": {},
   "outputs": [
    {
     "data": {
      "text/html": [
       "<div>\n",
       "<style scoped>\n",
       "    .dataframe tbody tr th:only-of-type {\n",
       "        vertical-align: middle;\n",
       "    }\n",
       "\n",
       "    .dataframe tbody tr th {\n",
       "        vertical-align: top;\n",
       "    }\n",
       "\n",
       "    .dataframe thead th {\n",
       "        text-align: right;\n",
       "    }\n",
       "</style>\n",
       "<table border=\"1\" class=\"dataframe\">\n",
       "  <thead>\n",
       "    <tr style=\"text-align: right;\">\n",
       "      <th></th>\n",
       "      <th>video_id</th>\n",
       "      <th>trending_date</th>\n",
       "      <th>title</th>\n",
       "      <th>channel_title</th>\n",
       "      <th>category_id</th>\n",
       "      <th>publish_time</th>\n",
       "      <th>tags</th>\n",
       "      <th>likes</th>\n",
       "      <th>dislikes</th>\n",
       "      <th>comment_count</th>\n",
       "      <th>thumbnail_link</th>\n",
       "      <th>comments_disabled</th>\n",
       "      <th>ratings_disabled</th>\n",
       "      <th>video_error_or_removed</th>\n",
       "      <th>description</th>\n",
       "      <th>pred_views</th>\n",
       "    </tr>\n",
       "  </thead>\n",
       "  <tbody>\n",
       "    <tr>\n",
       "      <th>0</th>\n",
       "      <td>5ugKfHgsmYw</td>\n",
       "      <td>18.07.02</td>\n",
       "      <td>é¸èªããªãåç´ã«è½ä¸ï¼è·¯ä¸ã®è»ã...</td>\n",
       "      <td>æäºéä¿¡æ åã»ã³ã¿ã¼</td>\n",
       "      <td>25</td>\n",
       "      <td>2018-02-06T03:04:37.000Z</td>\n",
       "      <td>äºæ",
       "|\"ä½è³\"|\"ä½è³ç\"|\"ããªã³ãã¿ã...</td>\n",
       "      <td>591</td>\n",
       "      <td>189</td>\n",
       "      <td>0</td>\n",
       "      <td>https://i.ytimg.com/vi/5ugKfHgsmYw/default.jpg</td>\n",
       "      <td>True</td>\n",
       "      <td>False</td>\n",
       "      <td>False</td>\n",
       "      <td>ä½è³çç¥å¼å¸ã®æ°å®¶ã«å¢è½ããé¸ä...</td>\n",
       "      <td>188085</td>\n",
       "    </tr>\n",
       "    <tr>\n",
       "      <th>1</th>\n",
       "      <td>ohObafdd34Y</td>\n",
       "      <td>18.07.02</td>\n",
       "      <td>ã¤ããQ ãç¥­ãç·å®®å·Ãæè¶ å·¨å¤§ã...</td>\n",
       "      <td>ç¥è°·ãããª Kamiya Erina 2</td>\n",
       "      <td>1</td>\n",
       "      <td>2018-02-06T04:01:56.000Z</td>\n",
       "      <td>[none]</td>\n",
       "      <td>442</td>\n",
       "      <td>88</td>\n",
       "      <td>174</td>\n",
       "      <td>https://i.ytimg.com/vi/ohObafdd34Y/default.jpg</td>\n",
       "      <td>False</td>\n",
       "      <td>False</td>\n",
       "      <td>False</td>\n",
       "      <td>NaN</td>\n",
       "      <td>90929</td>\n",
       "    </tr>\n",
       "    <tr>\n",
       "      <th>2</th>\n",
       "      <td>aBr2kKAHN6M</td>\n",
       "      <td>18.07.02</td>\n",
       "      <td>Live Views of Starman</td>\n",
       "      <td>SpaceX</td>\n",
       "      <td>28</td>\n",
       "      <td>2018-02-06T21:38:22.000Z</td>\n",
       "      <td>[none]</td>\n",
       "      <td>165892</td>\n",
       "      <td>2331</td>\n",
       "      <td>3006</td>\n",
       "      <td>https://i.ytimg.com/vi/aBr2kKAHN6M/default.jpg</td>\n",
       "      <td>False</td>\n",
       "      <td>False</td>\n",
       "      <td>False</td>\n",
       "      <td>NaN</td>\n",
       "      <td>6408303</td>\n",
       "    </tr>\n",
       "    <tr>\n",
       "      <th>3</th>\n",
       "      <td>5wNnwChvmsQ</td>\n",
       "      <td>18.07.02</td>\n",
       "      <td>æ±äº¬ãã£ãºãã¼ãªã¾ã¼ãã®å",
       "ã­ã£ã...</td>\n",
       "      <td>ã¢ã·ã¿ãã¯ãã¤</td>\n",
       "      <td>25</td>\n",
       "      <td>2018-02-06T06:08:49.000Z</td>\n",
       "      <td>ã¢ã·ã¿ãã¯ãã¤</td>\n",
       "      <td>1165</td>\n",
       "      <td>277</td>\n",
       "      <td>545</td>\n",
       "      <td>https://i.ytimg.com/vi/5wNnwChvmsQ/default.jpg</td>\n",
       "      <td>False</td>\n",
       "      <td>False</td>\n",
       "      <td>False</td>\n",
       "      <td>æ±äº¬ãã£ãºãã¼ãªã¾ã¼ãã®å",
       "ã­ã£ã...</td>\n",
       "      <td>96255</td>\n",
       "    </tr>\n",
       "    <tr>\n",
       "      <th>4</th>\n",
       "      <td>B7J47qFvdsk</td>\n",
       "      <td>18.07.02</td>\n",
       "      <td>æ¦®åå¥ã",
       "ãè¡æã®æ­»ãã ãµãï¼æ ç...</td>\n",
       "      <td>ã·ãããã¥ãã¤</td>\n",
       "      <td>1</td>\n",
       "      <td>2018-02-06T02:30:00.000Z</td>\n",
       "      <td>[none]</td>\n",
       "      <td>1336</td>\n",
       "      <td>74</td>\n",
       "      <td>201</td>\n",
       "      <td>https://i.ytimg.com/vi/B7J47qFvdsk/default.jpg</td>\n",
       "      <td>False</td>\n",
       "      <td>False</td>\n",
       "      <td>False</td>\n",
       "      <td>å®¶ã«å¸°ã£ã¦ãããµã©ãªã¼ãã³ã®ãã...</td>\n",
       "      <td>108408</td>\n",
       "    </tr>\n",
       "  </tbody>\n",
       "</table>\n",
       "</div>"
      ],
      "text/plain": [
       "      video_id trending_date  \\\n",
       "0  5ugKfHgsmYw      18.07.02   \n",
       "1  ohObafdd34Y      18.07.02   \n",
       "2  aBr2kKAHN6M      18.07.02   \n",
       "3  5wNnwChvmsQ      18.07.02   \n",
       "4  B7J47qFvdsk      18.07.02   \n",
       "\n",
       "                                               title  \\\n",
       "0  é¸èªããªãåç´ã«è½ä¸ï¼è·¯ä¸ã®è»ã...   \n",
       "1  ã¤ããQ ãç¥­ãç·å®®å·Ãæè¶ å·¨å¤§ã...   \n",
       "2                              Live Views of Starman   \n",
       "3  æ±äº¬ãã£ãºãã¼ãªã¾ã¼ãã®å\n",
       "ã­ã£ã...   \n",
       "4  æ¦®åå¥ã\n",
       "ãè¡æã®æ­»ãã ãµãï¼æ ç...   \n",
       "\n",
       "                    channel_title  category_id              publish_time  \\\n",
       "0  æäºéä¿¡æ åã»ã³ã¿ã¼           25  2018-02-06T03:04:37.000Z   \n",
       "1  ç¥è°·ãããª Kamiya Erina 2            1  2018-02-06T04:01:56.000Z   \n",
       "2                          SpaceX           28  2018-02-06T21:38:22.000Z   \n",
       "3           ã¢ã·ã¿ãã¯ãã¤           25  2018-02-06T06:08:49.000Z   \n",
       "4           ã·ãããã¥ãã¤            1  2018-02-06T02:30:00.000Z   \n",
       "\n",
       "                                                tags   likes  dislikes  \\\n",
       "0  äºæ\n",
       "|\"ä½è³\"|\"ä½è³ç\"|\"ããªã³ãã¿ã...     591       189   \n",
       "1                                             [none]     442        88   \n",
       "2                                             [none]  165892      2331   \n",
       "3                              ã¢ã·ã¿ãã¯ãã¤    1165       277   \n",
       "4                                             [none]    1336        74   \n",
       "\n",
       "   comment_count                                  thumbnail_link  \\\n",
       "0              0  https://i.ytimg.com/vi/5ugKfHgsmYw/default.jpg   \n",
       "1            174  https://i.ytimg.com/vi/ohObafdd34Y/default.jpg   \n",
       "2           3006  https://i.ytimg.com/vi/aBr2kKAHN6M/default.jpg   \n",
       "3            545  https://i.ytimg.com/vi/5wNnwChvmsQ/default.jpg   \n",
       "4            201  https://i.ytimg.com/vi/B7J47qFvdsk/default.jpg   \n",
       "\n",
       "   comments_disabled  ratings_disabled  video_error_or_removed  \\\n",
       "0               True             False                   False   \n",
       "1              False             False                   False   \n",
       "2              False             False                   False   \n",
       "3              False             False                   False   \n",
       "4              False             False                   False   \n",
       "\n",
       "                                         description  pred_views  \n",
       "0  ä½è³çç¥å¼å¸ã®æ°å®¶ã«å¢è½ããé¸ä...      188085  \n",
       "1                                                NaN       90929  \n",
       "2                                                NaN     6408303  \n",
       "3  æ±äº¬ãã£ãºãã¼ãªã¾ã¼ãã®å\n",
       "ã­ã£ã...       96255  \n",
       "4  å®¶ã«å¸°ã£ã¦ãããµã©ãªã¼ãã³ã®ãã...      108408  "
      ]
     },
     "execution_count": 128,
     "metadata": {},
     "output_type": "execute_result"
    }
   ],
   "source": [
    "video.head()"
   ]
  },
  {
   "cell_type": "code",
   "execution_count": null,
   "metadata": {},
   "outputs": [],
   "source": [
    "\n"
   ]
  },
  {
   "cell_type": "code",
   "execution_count": null,
   "metadata": {},
   "outputs": [],
   "source": []
  },
  {
   "cell_type": "code",
   "execution_count": 129,
   "metadata": {
    "scrolled": true
   },
   "outputs": [],
   "source": [
    "video['publish_time'] = pd.to_datetime(video['publish_time'], format='%Y-%m-%dT%H:%M:%S.%fZ')"
   ]
  },
  {
   "cell_type": "code",
   "execution_count": 130,
   "metadata": {},
   "outputs": [
    {
     "data": {
      "text/plain": [
       "video_id                     0\n",
       "trending_date                0\n",
       "title                        0\n",
       "channel_title                0\n",
       "category_id                  0\n",
       "publish_time                 0\n",
       "tags                         0\n",
       "likes                        0\n",
       "dislikes                     0\n",
       "comment_count                0\n",
       "thumbnail_link               0\n",
       "comments_disabled            0\n",
       "ratings_disabled             0\n",
       "video_error_or_removed       0\n",
       "description               2124\n",
       "pred_views                   0\n",
       "dtype: int64"
      ]
     },
     "execution_count": 130,
     "metadata": {},
     "output_type": "execute_result"
    }
   ],
   "source": [
    "video.isnull().sum()"
   ]
  },
  {
   "cell_type": "code",
   "execution_count": 131,
   "metadata": {},
   "outputs": [
    {
     "data": {
      "text/plain": [
       "<matplotlib.axes._subplots.AxesSubplot at 0x1e1db8c8>"
      ]
     },
     "execution_count": 131,
     "metadata": {},
     "output_type": "execute_result"
    },
    {
     "data": {
      "image/png": "[encoded data removed]",
      "text/plain": [
       "<Figure size 432x288 with 1 Axes>"
      ]
     },
     "metadata": {
      "needs_background": "light"
     },
     "output_type": "display_data"
    }
   ],
   "source": [
    "sns.heatmap(video.isnull(), yticklabels=False, cbar=False, cmap='YlGnBu')"
   ]
  },
  {
   "cell_type": "code",
   "execution_count": 132,
   "metadata": {},
   "outputs": [],
   "source": [
    "video=video.dropna()"
   ]
  },
  {
   "cell_type": "code",
   "execution_count": 133,
   "metadata": {},
   "outputs": [
    {
     "data": {
      "text/plain": [
       "<matplotlib.axes._subplots.AxesSubplot at 0x1daa72c8>"
      ]
     },
     "execution_count": 133,
     "metadata": {},
     "output_type": "execute_result"
    },
    {
     "data": {
      "image/png": "[encoded data removed]",
      "text/plain": [
       "<Figure size 432x288 with 1 Axes>"
      ]
     },
     "metadata": {
      "needs_background": "light"
     },
     "output_type": "display_data"
    }
   ],
   "source": [
    "sns.heatmap(video.isnull(), yticklabels=False, cbar=False, cmap='YlGnBu')"
   ]
  },
  {
   "cell_type": "code",
   "execution_count": 134,
   "metadata": {},
   "outputs": [
    {
     "data": {
      "text/html": [
       "<div>\n",
       "<style scoped>\n",
       "    .dataframe tbody tr th:only-of-type {\n",
       "        vertical-align: middle;\n",
       "    }\n",
       "\n",
       "    .dataframe tbody tr th {\n",
       "        vertical-align: top;\n",
       "    }\n",
       "\n",
       "    .dataframe thead th {\n",
       "        text-align: right;\n",
       "    }\n",
       "</style>\n",
       "<table border=\"1\" class=\"dataframe\">\n",
       "  <thead>\n",
       "    <tr style=\"text-align: right;\">\n",
       "      <th></th>\n",
       "      <th>pred_views</th>\n",
       "      <th>likes</th>\n",
       "      <th>dislikes</th>\n",
       "      <th>title</th>\n",
       "    </tr>\n",
       "  </thead>\n",
       "  <tbody>\n",
       "    <tr>\n",
       "      <th>15908</th>\n",
       "      <td>189834</td>\n",
       "      <td>558</td>\n",
       "      <td>334</td>\n",
       "      <td>ã¸ã£ãã¼ãºæ°ä½å¶ã§ä¸­å±",
       "æ­£åºã¨æ¨æ...</td>\n",
       "    </tr>\n",
       "    <tr>\n",
       "      <th>17111</th>\n",
       "      <td>142054</td>\n",
       "      <td>1034</td>\n",
       "      <td>198</td>\n",
       "      <td>å®®å·æ³°ä»é¸æã®è¨¼è¨ãå¦å®ããäºä...</td>\n",
       "    </tr>\n",
       "    <tr>\n",
       "      <th>17596</th>\n",
       "      <td>100012</td>\n",
       "      <td>1081</td>\n",
       "      <td>74</td>\n",
       "      <td>ãããï¼ãã¤ã¾ã¿ï¼çãã ã¨ã©ã¯ã...</td>\n",
       "    </tr>\n",
       "    <tr>\n",
       "      <th>6360</th>\n",
       "      <td>8035</td>\n",
       "      <td>431</td>\n",
       "      <td>8</td>\n",
       "      <td>ãèª°ã ãã15thã·ã¼ãºã³éå¹ã¹ãã·...</td>\n",
       "    </tr>\n",
       "    <tr>\n",
       "      <th>19558</th>\n",
       "      <td>450511</td>\n",
       "      <td>19556</td>\n",
       "      <td>293</td>\n",
       "      <td>é¢¨è¹ã«ç©å",
       "¥ãã¦å²ã£ããããã¡ãã...</td>\n",
       "    </tr>\n",
       "  </tbody>\n",
       "</table>\n",
       "</div>"
      ],
      "text/plain": [
       "       pred_views  likes  dislikes  \\\n",
       "15908      189834    558       334   \n",
       "17111      142054   1034       198   \n",
       "17596      100012   1081        74   \n",
       "6360         8035    431         8   \n",
       "19558      450511  19556       293   \n",
       "\n",
       "                                                   title  \n",
       "15908  ã¸ã£ãã¼ãºæ°ä½å¶ã§ä¸­å±\n",
       "æ­£åºã¨æ¨æ...  \n",
       "17111  å®®å·æ³°ä»é¸æã®è¨¼è¨ãå¦å®ããäºä...  \n",
       "17596  ãããï¼ãã¤ã¾ã¿ï¼çãã ã¨ã©ã¯ã...  \n",
       "6360   ãèª°ã ãã15thã·ã¼ãºã³éå¹ã¹ãã·...  \n",
       "19558  é¢¨è¹ã«ç©å\n",
       "¥ãã¦å²ã£ããããã¡ãã...  "
      ]
     },
     "execution_count": 134,
     "metadata": {},
     "output_type": "execute_result"
    }
   ],
   "source": [
    "selected=['pred_views','likes','dislikes','title']\n",
    "video[selected].sample(5)"
   ]
  },
  {
   "cell_type": "code",
   "execution_count": 135,
   "metadata": {},
   "outputs": [
    {
     "data": {
      "text/html": [
       "<div>\n",
       "<style scoped>\n",
       "    .dataframe tbody tr th:only-of-type {\n",
       "        vertical-align: middle;\n",
       "    }\n",
       "\n",
       "    .dataframe tbody tr th {\n",
       "        vertical-align: top;\n",
       "    }\n",
       "\n",
       "    .dataframe thead th {\n",
       "        text-align: right;\n",
       "    }\n",
       "</style>\n",
       "<table border=\"1\" class=\"dataframe\">\n",
       "  <thead>\n",
       "    <tr style=\"text-align: right;\">\n",
       "      <th></th>\n",
       "      <th>pred_views</th>\n",
       "      <th>likes</th>\n",
       "      <th>dislikes</th>\n",
       "      <th>comment_count</th>\n",
       "    </tr>\n",
       "  </thead>\n",
       "  <tbody>\n",
       "    <tr>\n",
       "      <th>0</th>\n",
       "      <td>188085</td>\n",
       "      <td>591</td>\n",
       "      <td>189</td>\n",
       "      <td>0</td>\n",
       "    </tr>\n",
       "    <tr>\n",
       "      <th>3</th>\n",
       "      <td>96255</td>\n",
       "      <td>1165</td>\n",
       "      <td>277</td>\n",
       "      <td>545</td>\n",
       "    </tr>\n",
       "    <tr>\n",
       "      <th>4</th>\n",
       "      <td>108408</td>\n",
       "      <td>1336</td>\n",
       "      <td>74</td>\n",
       "      <td>201</td>\n",
       "    </tr>\n",
       "    <tr>\n",
       "      <th>5</th>\n",
       "      <td>193593</td>\n",
       "      <td>0</td>\n",
       "      <td>0</td>\n",
       "      <td>53</td>\n",
       "    </tr>\n",
       "    <tr>\n",
       "      <th>7</th>\n",
       "      <td>66272</td>\n",
       "      <td>51</td>\n",
       "      <td>167</td>\n",
       "      <td>164</td>\n",
       "    </tr>\n",
       "  </tbody>\n",
       "</table>\n",
       "</div>"
      ],
      "text/plain": [
       "   pred_views  likes  dislikes  comment_count\n",
       "0      188085    591       189              0\n",
       "3       96255   1165       277            545\n",
       "4      108408   1336        74            201\n",
       "5      193593      0         0             53\n",
       "7       66272     51       167            164"
      ]
     },
     "execution_count": 135,
     "metadata": {},
     "output_type": "execute_result"
    }
   ],
   "source": [
    "video[['pred_views','likes','dislikes','comment_count']].head()"
   ]
  },
  {
   "cell_type": "code",
   "execution_count": null,
   "metadata": {},
   "outputs": [],
   "source": []
  },
  {
   "cell_type": "code",
   "execution_count": null,
   "metadata": {},
   "outputs": [],
   "source": []
  },
  {
   "cell_type": "code",
   "execution_count": null,
   "metadata": {},
   "outputs": [],
   "source": []
  },
  {
   "cell_type": "code",
   "execution_count": 136,
   "metadata": {},
   "outputs": [
    {
     "data": {
      "image/png": "[encoded data removed]",
      "text/plain": [
       "<Figure size 432x288 with 1 Axes>"
      ]
     },
     "metadata": {
      "needs_background": "light"
     },
     "output_type": "display_data"
    }
   ],
   "source": [
    "\n",
    "ax1 = video.plot.scatter(x='likes',y='dislikes')"
   ]
  },
  {
   "cell_type": "code",
   "execution_count": 137,
   "metadata": {},
   "outputs": [
    {
     "data": {
      "image/png": "[encoded data removed]",
      "text/plain": [
       "<Figure size 432x288 with 2 Axes>"
      ]
     },
     "metadata": {
      "needs_background": "light"
     },
     "output_type": "display_data"
    }
   ],
   "source": [
    "corr = video.corr()\n",
    "sns.heatmap(corr, xticklabels=corr.columns, yticklabels=corr.columns)\n",
    "plt.show()"
   ]
  },
  {
   "cell_type": "code",
   "execution_count": 138,
   "metadata": {},
   "outputs": [],
   "source": [
    "publish_year = []\n",
    "d = {}\n",
    "cnt = 0\n",
    "for i in video['publish_time']:\n",
    "    publish_year.append(i.year)\n",
    "\n",
    "video['publish_year'] = publish_year"
   ]
  },
  {
   "cell_type": "code",
   "execution_count": 139,
   "metadata": {},
   "outputs": [
    {
     "data": {
      "text/html": [
       "<div>\n",
       "<style scoped>\n",
       "    .dataframe tbody tr th:only-of-type {\n",
       "        vertical-align: middle;\n",
       "    }\n",
       "\n",
       "    .dataframe tbody tr th {\n",
       "        vertical-align: top;\n",
       "    }\n",
       "\n",
       "    .dataframe thead th {\n",
       "        text-align: right;\n",
       "    }\n",
       "</style>\n",
       "<table border=\"1\" class=\"dataframe\">\n",
       "  <thead>\n",
       "    <tr style=\"text-align: right;\">\n",
       "      <th></th>\n",
       "      <th>likes</th>\n",
       "      <th>dislikes</th>\n",
       "      <th>pred_views</th>\n",
       "      <th>comment_count</th>\n",
       "    </tr>\n",
       "    <tr>\n",
       "      <th>publish_year</th>\n",
       "      <th></th>\n",
       "      <th></th>\n",
       "      <th></th>\n",
       "      <th></th>\n",
       "    </tr>\n",
       "  </thead>\n",
       "  <tbody>\n",
       "    <tr>\n",
       "      <th>2015</th>\n",
       "      <td>56.000000</td>\n",
       "      <td>0.000000</td>\n",
       "      <td>6965.000000</td>\n",
       "      <td>9.000000</td>\n",
       "    </tr>\n",
       "    <tr>\n",
       "      <th>2017</th>\n",
       "      <td>15.000000</td>\n",
       "      <td>0.000000</td>\n",
       "      <td>6012.000000</td>\n",
       "      <td>4.000000</td>\n",
       "    </tr>\n",
       "    <tr>\n",
       "      <th>2018</th>\n",
       "      <td>8810.319037</td>\n",
       "      <td>389.578441</td>\n",
       "      <td>275190.591705</td>\n",
       "      <td>1300.471352</td>\n",
       "    </tr>\n",
       "  </tbody>\n",
       "</table>\n",
       "</div>"
      ],
      "text/plain": [
       "                    likes    dislikes     pred_views  comment_count\n",
       "publish_year                                                       \n",
       "2015            56.000000    0.000000    6965.000000       9.000000\n",
       "2017            15.000000    0.000000    6012.000000       4.000000\n",
       "2018          8810.319037  389.578441  275190.591705    1300.471352"
      ]
     },
     "execution_count": 139,
     "metadata": {},
     "output_type": "execute_result"
    },
    {
     "data": {
      "image/png": "[encoded data removed]",
      "text/plain": [
       "<Figure size 432x288 with 1 Axes>"
      ]
     },
     "metadata": {
      "needs_background": "light"
     },
     "output_type": "display_data"
    }
   ],
   "source": [
    "sns.barplot(x=video[\"publish_year\"],y=video[\"comment_count\"])\n",
    "video.groupby(\"publish_year\")[\"likes\",\"dislikes\",\"pred_views\",\"comment_count\"].mean()\n"
   ]
  },
  {
   "cell_type": "code",
   "execution_count": 140,
   "metadata": {},
   "outputs": [],
   "source": [
    "trending_month = []\n",
    "m = {}\n",
    "cntr = 0\n",
    "for i in video['publish_time']:\n",
    "    trending_month.append(i.month)\n",
    "\n",
    "video['trending_month'] = trending_month"
   ]
  },
  {
   "cell_type": "code",
   "execution_count": 141,
   "metadata": {},
   "outputs": [
    {
     "data": {
      "text/plain": [
       "<matplotlib.axes._subplots.AxesSubplot at 0x1db4c5c8>"
      ]
     },
     "execution_count": 141,
     "metadata": {},
     "output_type": "execute_result"
    },
    {
     "data": {
      "image/png": "[encoded data removed]",
      "text/plain": [
       "<Figure size 432x288 with 1 Axes>"
      ]
     },
     "metadata": {
      "needs_background": "light"
     },
     "output_type": "display_data"
    }
   ],
   "source": [
    "sns.countplot(x=video[\"trending_month\"],data=video)"
   ]
  },
  {
   "cell_type": "code",
   "execution_count": 142,
   "metadata": {},
   "outputs": [
    {
     "data": {
      "text/plain": [
       "<matplotlib.axes._subplots.AxesSubplot at 0x1db5f108>"
      ]
     },
     "execution_count": 142,
     "metadata": {},
     "output_type": "execute_result"
    },
    {
     "data": {
      "image/png": "[encoded data removed]",
      "text/plain": [
       "<Figure size 432x288 with 1 Axes>"
      ]
     },
     "metadata": {
      "needs_background": "light"
     },
     "output_type": "display_data"
    }
   ],
   "source": [
    "sns.barplot(x=video[\"trending_month\"],y=video[\"likes\"])"
   ]
  },
  {
   "cell_type": "code",
   "execution_count": 143,
   "metadata": {},
   "outputs": [
    {
     "data": {
      "text/plain": [
       "<matplotlib.axes._subplots.AxesSubplot at 0x1dc68888>"
      ]
     },
     "execution_count": 143,
     "metadata": {},
     "output_type": "execute_result"
    },
    {
     "data": {
      "image/png": "[encoded data removed]",
      "text/plain": [
       "<Figure size 432x288 with 1 Axes>"
      ]
     },
     "metadata": {
      "needs_background": "light"
     },
     "output_type": "display_data"
    }
   ],
   "source": [
    "sns.barplot(x=video[\"trending_month\"],y=video[\"dislikes\"])"
   ]
  },
  {
   "cell_type": "code",
   "execution_count": 144,
   "metadata": {},
   "outputs": [
    {
     "data": {
      "text/plain": [
       "<matplotlib.axes._subplots.AxesSubplot at 0x1dc63a08>"
      ]
     },
     "execution_count": 144,
     "metadata": {},
     "output_type": "execute_result"
    },
    {
     "data": {
      "image/png": "[encoded data removed]",
      "text/plain": [
       "<Figure size 432x288 with 1 Axes>"
      ]
     },
     "metadata": {
      "needs_background": "light"
     },
     "output_type": "display_data"
    }
   ],
   "source": [
    "sns.barplot(x=video[\"trending_month\"],y=video[\"pred_views\"])"
   ]
  },
  {
   "cell_type": "code",
   "execution_count": 145,
   "metadata": {},
   "outputs": [
    {
     "data": {
      "text/html": [
       "<div>\n",
       "<style scoped>\n",
       "    .dataframe tbody tr th:only-of-type {\n",
       "        vertical-align: middle;\n",
       "    }\n",
       "\n",
       "    .dataframe tbody tr th {\n",
       "        vertical-align: top;\n",
       "    }\n",
       "\n",
       "    .dataframe thead th {\n",
       "        text-align: right;\n",
       "    }\n",
       "</style>\n",
       "<table border=\"1\" class=\"dataframe\">\n",
       "  <thead>\n",
       "    <tr style=\"text-align: right;\">\n",
       "      <th></th>\n",
       "      <th>likes</th>\n",
       "      <th>dislikes</th>\n",
       "      <th>pred_views</th>\n",
       "      <th>comment_count</th>\n",
       "    </tr>\n",
       "    <tr>\n",
       "      <th>trending_month</th>\n",
       "      <th></th>\n",
       "      <th></th>\n",
       "      <th></th>\n",
       "      <th></th>\n",
       "    </tr>\n",
       "  </thead>\n",
       "  <tbody>\n",
       "    <tr>\n",
       "      <th>1</th>\n",
       "      <td>483.000000</td>\n",
       "      <td>184.000000</td>\n",
       "      <td>497363.333333</td>\n",
       "      <td>73.666667</td>\n",
       "    </tr>\n",
       "    <tr>\n",
       "      <th>2</th>\n",
       "      <td>5412.916026</td>\n",
       "      <td>273.522472</td>\n",
       "      <td>230027.716144</td>\n",
       "      <td>739.786221</td>\n",
       "    </tr>\n",
       "    <tr>\n",
       "      <th>3</th>\n",
       "      <td>7055.923295</td>\n",
       "      <td>337.098776</td>\n",
       "      <td>230118.539336</td>\n",
       "      <td>1003.864729</td>\n",
       "    </tr>\n",
       "    <tr>\n",
       "      <th>4</th>\n",
       "      <td>7455.498127</td>\n",
       "      <td>346.598716</td>\n",
       "      <td>256154.761102</td>\n",
       "      <td>943.692081</td>\n",
       "    </tr>\n",
       "    <tr>\n",
       "      <th>5</th>\n",
       "      <td>13975.667807</td>\n",
       "      <td>574.420749</td>\n",
       "      <td>366703.540535</td>\n",
       "      <td>2269.982674</td>\n",
       "    </tr>\n",
       "    <tr>\n",
       "      <th>6</th>\n",
       "      <td>9037.534125</td>\n",
       "      <td>354.853116</td>\n",
       "      <td>276010.046489</td>\n",
       "      <td>1329.336301</td>\n",
       "    </tr>\n",
       "    <tr>\n",
       "      <th>8</th>\n",
       "      <td>15.000000</td>\n",
       "      <td>0.000000</td>\n",
       "      <td>6012.000000</td>\n",
       "      <td>4.000000</td>\n",
       "    </tr>\n",
       "    <tr>\n",
       "      <th>11</th>\n",
       "      <td>56.000000</td>\n",
       "      <td>0.000000</td>\n",
       "      <td>6965.000000</td>\n",
       "      <td>9.000000</td>\n",
       "    </tr>\n",
       "  </tbody>\n",
       "</table>\n",
       "</div>"
      ],
      "text/plain": [
       "                       likes    dislikes     pred_views  comment_count\n",
       "trending_month                                                        \n",
       "1                 483.000000  184.000000  497363.333333      73.666667\n",
       "2                5412.916026  273.522472  230027.716144     739.786221\n",
       "3                7055.923295  337.098776  230118.539336    1003.864729\n",
       "4                7455.498127  346.598716  256154.761102     943.692081\n",
       "5               13975.667807  574.420749  366703.540535    2269.982674\n",
       "6                9037.534125  354.853116  276010.046489    1329.336301\n",
       "8                  15.000000    0.000000    6012.000000       4.000000\n",
       "11                 56.000000    0.000000    6965.000000       9.000000"
      ]
     },
     "execution_count": 145,
     "metadata": {},
     "output_type": "execute_result"
    },
    {
     "data": {
      "image/png": "[encoded data removed]",
      "text/plain": [
       "<Figure size 432x288 with 1 Axes>"
      ]
     },
     "metadata": {
      "needs_background": "light"
     },
     "output_type": "display_data"
    }
   ],
   "source": [
    "sns.barplot(x=video[\"trending_month\"],y=video[\"comment_count\"])\n",
    "video.groupby(\"trending_month\")[\"likes\",\"dislikes\",\"pred_views\",\"comment_count\"].mean()"
   ]
  },
  {
   "cell_type": "code",
   "execution_count": 146,
   "metadata": {},
   "outputs": [
    {
     "name": "stdout",
     "output_type": "stream",
     "text": [
      "ãå¹ãããè² ããè©±é¡ã®é¢ç½ãç»åé                                                                                                                                                                                                                                           17\n",
      "ãªã¯ã¨ã¹ããå³èã§å¼¾ãèªãã¾ãï¼ï¼ï¼                                                                                                                                                                                                                                        14\n",
      "è¥¿åç§æ¨¹ã®è¨å ±ãæ±ååä¹ãäºè¨ãã¦ããäºå®ãçºè¦ï¼ï¼ï¼å¹´åã®éè¦ã§è¦ããå",
      "å®¹ã¨ã¯ï¼                                                                                                                                                                    8\n",
      "é¸èªããªãåç´ã«è½ä¸ï¼è·¯ä¸ã®è»ãæ®å½±                                                                                                                                                                                                                                         8\n",
      "ãæå¼·ã®é£¯ãã­ãçµ¶å¯¾ã«æ·±å¤ã«è¦ãªãã§ãã ããã                                                                                                                                                                                                                          7\n",
      "                                                                                                                                                                                                                                                                                              ..\n",
      "Loveãmusic 18 03 18 ã¸ã§ãã¼ãã¤ â¡                                                                                                                                                                                                                                                   1\n",
      "ãæ¬",
      "å46 å¹³æåæ¢¨å¥ã 2018.02.20 GIRLS LOCKS!                                                                                                                                                                                                                                         1\n",
      "20180417 GANG PARADE(ã®ã£ã³ãã¬) ãGANG 2ã in Zepp DiverCity                                                                                                                                                                                                                           1\n",
      "ä»æã¯ãã§ããã ãã´ã¸ã©ãªç«ãªã­ã¡ããâåç©ç",
      "é¢éé¢æ¥ã»æ¯åº¦ï½å¸°å®",
      "ã¾ã§ã®ãªã­ã¡ããã®æ§å­âæ¿ããç«ã»ãããç«ã»ã­ã£ããã¿ã¯ã¼ãå¤§å¥½ãâ¥ããªã­ã¡ããã­ããç«åç»ãCat videoãã­ã¸ãã©ç«ã¨ã®æ®ãã     1\n",
      "ã¤ã±ã¡ã³ãããäºåæµç·ãã¯ã¼ãã³ãºå å",
      "¥ï¼è»å¼çã®å¤§è°·é¸æãç®æãå®æ¦ç»æ¿                                                                                                                                                                                   1\n",
      "Name: title, Length: 11737, dtype: int64\n"
     ]
    }
   ],
   "source": [
    "print(video[\"title\"].value_counts())\n"
   ]
  },
  {
   "cell_type": "code",
   "execution_count": 147,
   "metadata": {},
   "outputs": [
    {
     "name": "stdout",
     "output_type": "stream",
     "text": [
      "DHCãã¬ã                                        169\n",
      "é£ãããã§ãããã                         145\n",
      "é£ãããé£¯                                     108\n",
      "MEGWIN TV                                            90\n",
      "ã¯ãããè¿·ä½åå ´                             88\n",
      "                                                   ... \n",
      "TAK ROOM                                              1\n",
      "ãã¤ãªã³ã¬ã¼ã«è±ä¼è©± | Bilingirl Chika      1\n",
      "Lestia Ashdoll                                        1\n",
      "æ©ã¿ã®æå¸³                                       1\n",
      "Ying Mun Chin                                         1\n",
      "Name: channel_title, Length: 3982, dtype: int64\n"
     ]
    }
   ],
   "source": [
    "print(video[\"channel_title\"].value_counts())"
   ]
  },
  {
   "cell_type": "code",
   "execution_count": 148,
   "metadata": {},
   "outputs": [
    {
     "name": "stdout",
     "output_type": "stream",
     "text": [
      "[none]                                                                                                                                                                                                                                                                                                                                                                                                                                                                                                                                  1983\n",
      "Fishing|\"bassfishing\"|\"é£ã\"|\"ãã¹é£ã\"|\"ãã©ãã¯ãã¹\"|\"ãã©ãã¯ãã¹é£ã\"|\"ã©ã¤ãã·ã§ã¢ã¸ã®ã³ã°\"|\"ã·ã§ã¢ã¸ã®ã³ã°\"|\"ã¸ã®ã³ã°\"|\"ä½è³ããã§ããã\"|\"é£ãããã§ããã\"|\"æ³³ããé£ã\"|\"ã¢ã¸ã³ã°\"|\"ã¨ã®ã³ã°\"|\"ä½è³\"|\"ç¦å²¡\"|\"é·å´\"|\"å¤§å\"|\"çæ¬\"|\"å®®å´\"|\"é¹¿å",
      "å³¶\"|\"ä¹å·\"|\"ããã£ã±ã\"|\"é¸ã£ã±ã\"|\"éæ± \"|\"ãªã¶ã¼ãã¼\"|\"ã¯ãªã¼ã¯\"|\"å·\"|\"å·ãã¹\"|\"ãã¹ãã£ãã·ã³ã°\"|\"æ¥\"|\"å¤\"|\"ç§\"|\"å¬\"|\"ã«ã¢ã¼ãã£ãã·ã³ã°\"     145\n",
      "æç|\"ãã­ã°\"|\"ã¨ã³ã¿ã¼ãã¤ã¡ã³ã\"|\"ãã£ã¦ã¿ã\"|\"ãã­ã\"|\"ãã¼ãã\"|\"ä½è³ããã§ããã\"|\"é£ãããã§ããã\"                                                                                                                                                                                                                                                                                                                                                                                      108\n",
      "ãã¼ãã|\"ä½è³ããã§ããã\"|\"é£ãããã§ããã\"|\"é£ã\"                                                                                                                                                                                                                                                                                                                                                                                                                                                               76\n",
      "hajime|\"ã¯ããããã¡ãã¼\"|\"funny\"|\"crazy\"|\"japanese\"|\"ã¯ãã\"                                                                                                                                                                                                                                                                                                                                                                                                                                                                  69\n",
      "                                                                                                                                                                                                                                                                                                                                                                                                                                                                                                                                        ... \n",
      "ç«|\"ã­ã\"|\"ãã³\"|\"å­ç«\"|\"å¯æã\"|\"ãããã\"|\"åã\"|\"çã\"|\"çãã\"|\"ä¼è©±\"|\"å¬ãã\"|\"åã¶\"|\"å¯ç¬ãã\"|\"ç¬ãã\"|\"Afro Blue\"|\"Cats\"|\"funny\"|\"cute\"|\"unique\"|\"Animal\"|\"Animals\"|\"Pets\"|\"mew\"|\"meow\"|\"friendship\"|\"kitten\"|\"talking cat\"|\"ã¡ã",
      "ã¼ã\"|\"é£ã¹ã\"|\"èãã\"|\"ãæ°ã«å",
      "¥ã\"|\"æªæ\"|\"ä¿è­·\"|\"ä¿è­·ç«\"|\"ã¨ãªã¶ãã¹ã«ã©ã¼\"|\"é¤\"|\"ããã¤\"                                                                                                                                 1\n",
      "ä»æ¥ã¤ããè©±ãèãã|\"UCXmgmN2IBl8sc_leDcfsWXg\"|\"ãã¥ã¼ã¹\"|\"è¸è½\"|\"è¸è½äºº\"|\"è²´å",
      "¬ä¿\"|\"è²´ä¹è±\"|\"ç¸æ²\"                                                                                                                                                                                                                                                                                                                                                                                                             1\n",
      "ã©ãå·|\"ã©ãå·é£å \"|\"ã«ãªã¹ããã©ã¶ã¼ãº\"|\"ã¸ã§ã¼ã¸\"|\"ã¸ã­ã¼\"|\"MINO\"|\"æ±æµ·ãªã³ã¨ã¢\"|\"MAHOTO\"|\"ããã¤\"|\"ãã°ãã¼\"|\"ããã\"|\"ã¨ãã¿ã¤\"|\"ããã¾ã\"|\"è«ç¼é¡\"|\"HIKAKIN\"|\"æç\"|\"å¤é£¯\"|\"ãé£¯\"|\"ãé",
      "\"|\"æ¥½ãã\"|\"é¢ç½ã\"|\"ç­æã\"|\"ããã®ã\"|\"ç­\"|\"æ¬\"|\"æ¬ã®é£æ\"|\"å±±\"|\"æ¢æ¤\"                                                                                                                                                                                      1\n",
      "Y.LIFESTYLE|\"ystyle\"|\"ã¯ã¤ã©ã¤ãã¹ã¿ã¤ã«\"|\"ç½é»\"|\"åç´\"|\"ã¤ã³ããªã¢\"|\"æ®ãã\"|\"ã¢ããã¼ã³\"|\"ä¸»å©¦\"|\"æé¤\"|\"çæ´»\"|\"ã©ã¤ãããã¯\"|\"ãªã­ã·ã¯ãªã¼ã³\"|\"çé¢æé¤\"                                                                                                                                                                                                                                                                                                                                1\n",
      "ã¯ã¬ã¤ã¸ã¼ã¸ã£ã¼ãã¼|\"ã¯ã¬ã¤ã¸ã¼\"|\"ã¯ã¬ã¤ã¸ã¼ã¸ã£ã¼ãã¼ 2018å¹´4æ25æ¥\"|\"ã¯ã¬ã¤ã¸ã¼ã¸ã£\"                                                                                                                                                                                                                                                                                                                                                                                                                 1\n",
      "Name: tags, Length: 8292, dtype: int64\n"
     ]
    }
   ],
   "source": [
    "print(video[\"tags\"].value_counts())"
   ]
  },
  {
   "cell_type": "code",
   "execution_count": 149,
   "metadata": {},
   "outputs": [
    {
     "data": {
      "text/plain": [
       "<matplotlib.axes._subplots.AxesSubplot at 0x1de9a948>"
      ]
     },
     "execution_count": 149,
     "metadata": {},
     "output_type": "execute_result"
    },
    {
     "data": {
      "image/png": "[encoded data removed]",
      "text/plain": [
       "<Figure size 432x288 with 1 Axes>"
      ]
     },
     "metadata": {
      "needs_background": "light"
     },
     "output_type": "display_data"
    }
   ],
   "source": [
    "sns.barplot(x=video[\"category_id\"],y=video[\"pred_views\"],data=video,hue=\"publish_year\")"
   ]
  },
  {
   "cell_type": "code",
   "execution_count": 150,
   "metadata": {},
   "outputs": [
    {
     "data": {
      "text/plain": [
       "<matplotlib.axes._subplots.AxesSubplot at 0x1dffe748>"
      ]
     },
     "execution_count": 150,
     "metadata": {},
     "output_type": "execute_result"
    },
    {
     "data": {
      "image/png": "[encoded data removed]",
      "text/plain": [
       "<Figure size 432x288 with 1 Axes>"
      ]
     },
     "metadata": {
      "needs_background": "light"
     },
     "output_type": "display_data"
    }
   ],
   "source": [
    "sns.barplot(x=video[\"category_id\"],y=video[\"likes\"],data=video,hue=\"publish_year\")"
   ]
  },
  {
   "cell_type": "code",
   "execution_count": 151,
   "metadata": {},
   "outputs": [
    {
     "data": {
      "text/plain": [
       "<matplotlib.axes._subplots.AxesSubplot at 0x1de74548>"
      ]
     },
     "execution_count": 151,
     "metadata": {},
     "output_type": "execute_result"
    },
    {
     "data": {
      "image/png": "[encoded data removed]",
      "text/plain": [
       "<Figure size 432x288 with 1 Axes>"
      ]
     },
     "metadata": {
      "needs_background": "light"
     },
     "output_type": "display_data"
    }
   ],
   "source": [
    "sns.barplot(x=video[\"category_id\"],y=video[\"dislikes\"],data=video, hue=\"publish_year\")"
   ]
  },
  {
   "cell_type": "code",
   "execution_count": 152,
   "metadata": {},
   "outputs": [
    {
     "data": {
      "text/plain": [
       "<matplotlib.axes._subplots.AxesSubplot at 0x1da31e48>"
      ]
     },
     "execution_count": 152,
     "metadata": {},
     "output_type": "execute_result"
    },
    {
     "data": {
      "image/png": "[encoded data removed]",
      "text/plain": [
       "<Figure size 432x288 with 1 Axes>"
      ]
     },
     "metadata": {
      "needs_background": "light"
     },
     "output_type": "display_data"
    }
   ],
   "source": [
    "sns.barplot(x=video[\"category_id\"],y=video[\"comment_count\"],data=video,hue=\"publish_year\")"
   ]
  },
  {
   "cell_type": "code",
   "execution_count": 153,
   "metadata": {},
   "outputs": [],
   "source": [
    "y=np.log(video[\"pred_views\"])\n",
    "x1=np.log(video[\"likes\"])\n",
    "x2=np.log(video[\"dislikes\"])\n",
    "x3=np.log(video[\"comment_count\"])"
   ]
  },
  {
   "cell_type": "code",
   "execution_count": 154,
   "metadata": {},
   "outputs": [
    {
     "data": {
      "text/plain": [
       "<matplotlib.axes._subplots.AxesSubplot at 0x1da37c48>"
      ]
     },
     "execution_count": 154,
     "metadata": {},
     "output_type": "execute_result"
    },
    {
     "data": {
      "image/png": "[encoded data removed]",
      "text/plain": [
       "<Figure size 432x288 with 1 Axes>"
      ]
     },
     "metadata": {
      "needs_background": "light"
     },
     "output_type": "display_data"
    }
   ],
   "source": [
    "sns.regplot(x=x1,y=y,fit_reg=False)"
   ]
  },
  {
   "cell_type": "code",
   "execution_count": 155,
   "metadata": {},
   "outputs": [
    {
     "data": {
      "text/plain": [
       "<matplotlib.axes._subplots.AxesSubplot at 0x20326c08>"
      ]
     },
     "execution_count": 155,
     "metadata": {},
     "output_type": "execute_result"
    },
    {
     "data": {
      "image/png": "[encoded data removed]",
      "text/plain": [
       "<Figure size 432x288 with 1 Axes>"
      ]
     },
     "metadata": {
      "needs_background": "light"
     },
     "output_type": "display_data"
    }
   ],
   "source": [
    "sns.regplot(x=x2,y=y,fit_reg=False)"
   ]
  },
  {
   "cell_type": "code",
   "execution_count": 156,
   "metadata": {},
   "outputs": [
    {
     "data": {
      "text/plain": [
       "<matplotlib.axes._subplots.AxesSubplot at 0x203b9ac8>"
      ]
     },
     "execution_count": 156,
     "metadata": {},
     "output_type": "execute_result"
    },
    {
     "data": {
      "image/png": "[encoded data removed]",
      "text/plain": [
       "<Figure size 432x288 with 1 Axes>"
      ]
     },
     "metadata": {
      "needs_background": "light"
     },
     "output_type": "display_data"
    }
   ],
   "source": [
    "sns.regplot(x=x3,y=y,fit_reg=False)"
   ]
  },
  {
   "cell_type": "code",
   "execution_count": 157,
   "metadata": {},
   "outputs": [
    {
     "name": "stdout",
     "output_type": "stream",
     "text": [
      "False    17076\n",
      "True      1323\n",
      "Name: comments_disabled, dtype: int64\n"
     ]
    },
    {
     "data": {
      "text/plain": [
       "<matplotlib.axes._subplots.AxesSubplot at 0x20423988>"
      ]
     },
     "execution_count": 157,
     "metadata": {},
     "output_type": "execute_result"
    },
    {
     "data": {
      "image/png": "[encoded data removed]",
      "text/plain": [
       "<Figure size 432x288 with 1 Axes>"
      ]
     },
     "metadata": {
      "needs_background": "light"
     },
     "output_type": "display_data"
    }
   ],
   "source": [
    "print(video[\"comments_disabled\"].value_counts())\n",
    "sns.countplot(x=\"comments_disabled\",data=video)"
   ]
  },
  {
   "cell_type": "code",
   "execution_count": 158,
   "metadata": {},
   "outputs": [
    {
     "name": "stdout",
     "output_type": "stream",
     "text": [
      "False    17145\n",
      "True      1254\n",
      "Name: ratings_disabled, dtype: int64\n"
     ]
    },
    {
     "data": {
      "text/plain": [
       "<matplotlib.axes._subplots.AxesSubplot at 0x203b94c8>"
      ]
     },
     "execution_count": 158,
     "metadata": {},
     "output_type": "execute_result"
    },
    {
     "data": {
      "image/png": "[encoded data removed]",
      "text/plain": [
       "<Figure size 432x288 with 1 Axes>"
      ]
     },
     "metadata": {
      "needs_background": "light"
     },
     "output_type": "display_data"
    }
   ],
   "source": [
    "print(video[\"ratings_disabled\"].value_counts())\n",
    "sns.countplot(x=\"ratings_disabled\",data=video)"
   ]
  },
  {
   "cell_type": "code",
   "execution_count": 159,
   "metadata": {},
   "outputs": [
    {
     "name": "stdout",
     "output_type": "stream",
     "text": [
      "False    18387\n",
      "True        12\n",
      "Name: video_error_or_removed, dtype: int64\n"
     ]
    },
    {
     "data": {
      "text/plain": [
       "<matplotlib.axes._subplots.AxesSubplot at 0x204d94c8>"
      ]
     },
     "execution_count": 159,
     "metadata": {},
     "output_type": "execute_result"
    },
    {
     "data": {
      "image/png": "[encoded data removed]",
      "text/plain": [
       "<Figure size 432x288 with 1 Axes>"
      ]
     },
     "metadata": {
      "needs_background": "light"
     },
     "output_type": "display_data"
    }
   ],
   "source": [
    "print(video[\"video_error_or_removed\"].value_counts())\n",
    "sns.countplot(x=\"video_error_or_removed\",data=video)"
   ]
  },
  {
   "cell_type": "code",
   "execution_count": null,
   "metadata": {},
   "outputs": [],
   "source": []
  },
  {
   "cell_type": "code",
   "execution_count": 160,
   "metadata": {},
   "outputs": [
    {
     "data": {
      "text/plain": [
       "<matplotlib.axes._subplots.AxesSubplot at 0x21518c08>"
      ]
     },
     "execution_count": 160,
     "metadata": {},
     "output_type": "execute_result"
    },
    {
     "data": {
      "image/png": "[encoded data removed]",
      "text/plain": [
       "<Figure size 720x1080 with 1 Axes>"
      ]
     },
     "metadata": {
      "needs_background": "light"
     },
     "output_type": "display_data"
    }
   ],
   "source": [
    "like_dislike_ratio = video.groupby('category_id')['likes'].agg('sum') / video.groupby('category_id')['dislikes'].agg('sum')\n",
    "like_dislike_ratio = like_dislike_ratio.sort_values(ascending=False).reset_index()\n",
    "like_dislike_ratio.columns = ['category_id','ratio']\n",
    "plt.subplots(figsize=(10, 15))\n",
    "sns.barplot(x=\"category_id\", y=\"ratio\", data=like_dislike_ratio,\n",
    "            label=\"Likes-Dislikes Ratio\", color=\"b\")"
   ]
  },
  {
   "cell_type": "code",
   "execution_count": 161,
   "metadata": {},
   "outputs": [
    {
     "data": {
      "text/plain": [
       "<matplotlib.axes._subplots.AxesSubplot at 0x215de588>"
      ]
     },
     "execution_count": 161,
     "metadata": {},
     "output_type": "execute_result"
    },
    {
     "data": {
      "image/png": "[encoded data removed]",
      "text/plain": [
       "<Figure size 720x1080 with 1 Axes>"
      ]
     },
     "metadata": {
      "needs_background": "light"
     },
     "output_type": "display_data"
    }
   ],
   "source": [
    "views_comment_ratio = video.groupby('category_id')['pred_views'].agg('sum') / video.groupby('category_id')['comment_count'].agg('sum')\n",
    "views_comment_ratio = views_comment_ratio.sort_values(ascending=False).reset_index()\n",
    "views_comment_ratio.columns = ['category_id','ratio']\n",
    "plt.subplots(figsize=(10, 15))\n",
    "sns.barplot(x=\"category_id\", y=\"ratio\", data=views_comment_ratio,\n",
    "            label=\"Views-Comments Ratio\", color=\"r\")"
   ]
  },
  {
   "cell_type": "code",
   "execution_count": 162,
   "metadata": {},
   "outputs": [
    {
     "data": {
      "text/plain": [
       "<matplotlib.axes._subplots.AxesSubplot at 0x216adc48>"
      ]
     },
     "execution_count": 162,
     "metadata": {},
     "output_type": "execute_result"
    },
    {
     "data": {
      "image/png": "[encoded data removed]",
      "text/plain": [
       "<Figure size 720x1080 with 1 Axes>"
      ]
     },
     "metadata": {
      "needs_background": "light"
     },
     "output_type": "display_data"
    }
   ],
   "source": [
    "view_dislike_ratio = video.groupby('category_id')['dislikes'].agg('sum') / video.groupby('category_id')['pred_views'].agg('sum')\n",
    "view_dislike_ratio = view_dislike_ratio.sort_values(ascending=False).reset_index()\n",
    "view_dislike_ratio.columns = ['category_id','ratio']\n",
    "plt.subplots(figsize=(10, 15))\n",
    "sns.barplot(x=\"category_id\", y=\"ratio\", data=view_dislike_ratio,\n",
    "            label=\"Views-Dislikes Ratio\", color=\"y\")"
   ]
  },
  {
   "cell_type": "code",
   "execution_count": null,
   "metadata": {},
   "outputs": [],
   "source": []
  },
  {
   "cell_type": "code",
   "execution_count": null,
   "metadata": {},
   "outputs": [],
   "source": []
  },
  {
   "cell_type": "code",
   "execution_count": 163,
   "metadata": {},
   "outputs": [
    {
     "data": {
      "text/html": [
       "<div>\n",
       "<style scoped>\n",
       "    .dataframe tbody tr th:only-of-type {\n",
       "        vertical-align: middle;\n",
       "    }\n",
       "\n",
       "    .dataframe tbody tr th {\n",
       "        vertical-align: top;\n",
       "    }\n",
       "\n",
       "    .dataframe thead th {\n",
       "        text-align: right;\n",
       "    }\n",
       "</style>\n",
       "<table border=\"1\" class=\"dataframe\">\n",
       "  <thead>\n",
       "    <tr style=\"text-align: right;\">\n",
       "      <th></th>\n",
       "      <th>video_id</th>\n",
       "      <th>trending_date</th>\n",
       "      <th>title</th>\n",
       "      <th>channel_title</th>\n",
       "      <th>category_id</th>\n",
       "      <th>publish_time</th>\n",
       "      <th>tags</th>\n",
       "      <th>likes</th>\n",
       "      <th>dislikes</th>\n",
       "      <th>comment_count</th>\n",
       "      <th>thumbnail_link</th>\n",
       "      <th>comments_disabled</th>\n",
       "      <th>ratings_disabled</th>\n",
       "      <th>video_error_or_removed</th>\n",
       "      <th>description</th>\n",
       "      <th>pred_views</th>\n",
       "      <th>publish_year</th>\n",
       "      <th>trending_month</th>\n",
       "    </tr>\n",
       "  </thead>\n",
       "  <tbody>\n",
       "    <tr>\n",
       "      <th>0</th>\n",
       "      <td>5ugKfHgsmYw</td>\n",
       "      <td>18.07.02</td>\n",
       "      <td>é¸èªããªãåç´ã«è½ä¸ï¼è·¯ä¸ã®è»ã...</td>\n",
       "      <td>æäºéä¿¡æ åã»ã³ã¿ã¼</td>\n",
       "      <td>25</td>\n",
       "      <td>2018-02-06 03:04:37</td>\n",
       "      <td>äºæ",
       "|\"ä½è³\"|\"ä½è³ç\"|\"ããªã³ãã¿ã...</td>\n",
       "      <td>591</td>\n",
       "      <td>189</td>\n",
       "      <td>0</td>\n",
       "      <td>https://i.ytimg.com/vi/5ugKfHgsmYw/default.jpg</td>\n",
       "      <td>True</td>\n",
       "      <td>False</td>\n",
       "      <td>False</td>\n",
       "      <td>ä½è³çç¥å¼å¸ã®æ°å®¶ã«å¢è½ããé¸ä...</td>\n",
       "      <td>188085</td>\n",
       "      <td>2018</td>\n",
       "      <td>2</td>\n",
       "    </tr>\n",
       "    <tr>\n",
       "      <th>3</th>\n",
       "      <td>5wNnwChvmsQ</td>\n",
       "      <td>18.07.02</td>\n",
       "      <td>æ±äº¬ãã£ãºãã¼ãªã¾ã¼ãã®å",
       "ã­ã£ã...</td>\n",
       "      <td>ã¢ã·ã¿ãã¯ãã¤</td>\n",
       "      <td>25</td>\n",
       "      <td>2018-02-06 06:08:49</td>\n",
       "      <td>ã¢ã·ã¿ãã¯ãã¤</td>\n",
       "      <td>1165</td>\n",
       "      <td>277</td>\n",
       "      <td>545</td>\n",
       "      <td>https://i.ytimg.com/vi/5wNnwChvmsQ/default.jpg</td>\n",
       "      <td>False</td>\n",
       "      <td>False</td>\n",
       "      <td>False</td>\n",
       "      <td>æ±äº¬ãã£ãºãã¼ãªã¾ã¼ãã®å",
       "ã­ã£ã...</td>\n",
       "      <td>96255</td>\n",
       "      <td>2018</td>\n",
       "      <td>2</td>\n",
       "    </tr>\n",
       "    <tr>\n",
       "      <th>4</th>\n",
       "      <td>B7J47qFvdsk</td>\n",
       "      <td>18.07.02</td>\n",
       "      <td>æ¦®åå¥ã",
       "ãè¡æã®æ­»ãã ãµãï¼æ ç...</td>\n",
       "      <td>ã·ãããã¥ãã¤</td>\n",
       "      <td>1</td>\n",
       "      <td>2018-02-06 02:30:00</td>\n",
       "      <td>[none]</td>\n",
       "      <td>1336</td>\n",
       "      <td>74</td>\n",
       "      <td>201</td>\n",
       "      <td>https://i.ytimg.com/vi/B7J47qFvdsk/default.jpg</td>\n",
       "      <td>False</td>\n",
       "      <td>False</td>\n",
       "      <td>False</td>\n",
       "      <td>å®¶ã«å¸°ã£ã¦ãããµã©ãªã¼ãã³ã®ãã...</td>\n",
       "      <td>108408</td>\n",
       "      <td>2018</td>\n",
       "      <td>2</td>\n",
       "    </tr>\n",
       "    <tr>\n",
       "      <th>5</th>\n",
       "      <td>OIDfjdGERr8</td>\n",
       "      <td>18.07.02</td>\n",
       "      <td>æè³ãã¤ãããã®æ­»å ãå",
       "å¤«ã»åç...</td>\n",
       "      <td>æ¿ç½ï¼ï¼ã¹ã¼ãã¼è¸è½ãã£ã³ãã«ï...</td>\n",
       "      <td>22</td>\n",
       "      <td>2018-02-06 03:27:10</td>\n",
       "      <td>æè³ãã¤ã|\"å",
       "«æ¨äºå¸å­\"|\"æ²³éæ¯å­...</td>\n",
       "      <td>0</td>\n",
       "      <td>0</td>\n",
       "      <td>53</td>\n",
       "      <td>https://i.ytimg.com/vi/OIDfjdGERr8/default.jpg</td>\n",
       "      <td>False</td>\n",
       "      <td>True</td>\n",
       "      <td>False</td>\n",
       "      <td>Twitterå§ãã¾ããï¼\\n\\nç»é²ãããã...</td>\n",
       "      <td>193593</td>\n",
       "      <td>2018</td>\n",
       "      <td>2</td>\n",
       "    </tr>\n",
       "    <tr>\n",
       "      <th>7</th>\n",
       "      <td>MPQaySneSUc</td>\n",
       "      <td>18.07.02</td>\n",
       "      <td>ç´æLIVE ã°ããã£! 2018å¹´2æ6æ¥ 180206</td>\n",
       "      <td>ãã¤ã­ã³ã° 2018</td>\n",
       "      <td>23</td>\n",
       "      <td>2018-02-06 07:01:29</td>\n",
       "      <td>[none]</td>\n",
       "      <td>51</td>\n",
       "      <td>167</td>\n",
       "      <td>164</td>\n",
       "      <td>https://i.ytimg.com/vi/MPQaySneSUc/default.jpg</td>\n",
       "      <td>False</td>\n",
       "      <td>False</td>\n",
       "      <td>False</td>\n",
       "      <td>ç´æLIVE ã°ããã£! 2018å¹´2æ6æ¥ 180206</td>\n",
       "      <td>66272</td>\n",
       "      <td>2018</td>\n",
       "      <td>2</td>\n",
       "    </tr>\n",
       "  </tbody>\n",
       "</table>\n",
       "</div>"
      ],
      "text/plain": [
       "      video_id trending_date  \\\n",
       "0  5ugKfHgsmYw      18.07.02   \n",
       "3  5wNnwChvmsQ      18.07.02   \n",
       "4  B7J47qFvdsk      18.07.02   \n",
       "5  OIDfjdGERr8      18.07.02   \n",
       "7  MPQaySneSUc      18.07.02   \n",
       "\n",
       "                                               title  \\\n",
       "0  é¸èªããªãåç´ã«è½ä¸ï¼è·¯ä¸ã®è»ã...   \n",
       "3  æ±äº¬ãã£ãºãã¼ãªã¾ã¼ãã®å\n",
       "ã­ã£ã...   \n",
       "4  æ¦®åå¥ã\n",
       "ãè¡æã®æ­»ãã ãµãï¼æ ç...   \n",
       "5  æè³ãã¤ãããã®æ­»å ãå\n",
       "å¤«ã»åç...   \n",
       "7    ç´æLIVE ã°ããã£! 2018å¹´2æ6æ¥ 180206   \n",
       "\n",
       "                                       channel_title  category_id  \\\n",
       "0                     æäºéä¿¡æ åã»ã³ã¿ã¼           25   \n",
       "3                              ã¢ã·ã¿ãã¯ãã¤           25   \n",
       "4                              ã·ãããã¥ãã¤            1   \n",
       "5  æ¿ç½ï¼ï¼ã¹ã¼ãã¼è¸è½ãã£ã³ãã«ï...           22   \n",
       "7                               ãã¤ã­ã³ã° 2018           23   \n",
       "\n",
       "         publish_time                                               tags  \\\n",
       "0 2018-02-06 03:04:37  äºæ\n",
       "|\"ä½è³\"|\"ä½è³ç\"|\"ããªã³ãã¿ã...   \n",
       "3 2018-02-06 06:08:49                              ã¢ã·ã¿ãã¯ãã¤   \n",
       "4 2018-02-06 02:30:00                                             [none]   \n",
       "5 2018-02-06 03:27:10  æè³ãã¤ã|\"å\n",
       "«æ¨äºå¸å­\"|\"æ²³éæ¯å­...   \n",
       "7 2018-02-06 07:01:29                                             [none]   \n",
       "\n",
       "   likes  dislikes  comment_count  \\\n",
       "0    591       189              0   \n",
       "3   1165       277            545   \n",
       "4   1336        74            201   \n",
       "5      0         0             53   \n",
       "7     51       167            164   \n",
       "\n",
       "                                   thumbnail_link  comments_disabled  \\\n",
       "0  https://i.ytimg.com/vi/5ugKfHgsmYw/default.jpg               True   \n",
       "3  https://i.ytimg.com/vi/5wNnwChvmsQ/default.jpg              False   \n",
       "4  https://i.ytimg.com/vi/B7J47qFvdsk/default.jpg              False   \n",
       "5  https://i.ytimg.com/vi/OIDfjdGERr8/default.jpg              False   \n",
       "7  https://i.ytimg.com/vi/MPQaySneSUc/default.jpg              False   \n",
       "\n",
       "   ratings_disabled  video_error_or_removed  \\\n",
       "0             False                   False   \n",
       "3             False                   False   \n",
       "4             False                   False   \n",
       "5              True                   False   \n",
       "7             False                   False   \n",
       "\n",
       "                                         description  pred_views  \\\n",
       "0  ä½è³çç¥å¼å¸ã®æ°å®¶ã«å¢è½ããé¸ä...      188085   \n",
       "3  æ±äº¬ãã£ãºãã¼ãªã¾ã¼ãã®å\n",
       "ã­ã£ã...       96255   \n",
       "4  å®¶ã«å¸°ã£ã¦ãããµã©ãªã¼ãã³ã®ãã...      108408   \n",
       "5  Twitterå§ãã¾ããï¼\\n\\nç»é²ãããã...      193593   \n",
       "7    ç´æLIVE ã°ããã£! 2018å¹´2æ6æ¥ 180206       66272   \n",
       "\n",
       "   publish_year  trending_month  \n",
       "0          2018               2  \n",
       "3          2018               2  \n",
       "4          2018               2  \n",
       "5          2018               2  \n",
       "7          2018               2  "
      ]
     },
     "execution_count": 163,
     "metadata": {},
     "output_type": "execute_result"
    }
   ],
   "source": [
    "video.head()"
   ]
  },
  {
   "cell_type": "code",
   "execution_count": 164,
   "metadata": {},
   "outputs": [
    {
     "data": {
      "text/plain": [
       "Index(['video_id', 'trending_date', 'title', 'channel_title', 'category_id',\n",
       "       'publish_time', 'tags', 'likes', 'dislikes', 'comment_count',\n",
       "       'thumbnail_link', 'comments_disabled', 'ratings_disabled',\n",
       "       'video_error_or_removed', 'description', 'pred_views', 'publish_year',\n",
       "       'trending_month'],\n",
       "      dtype='object')"
      ]
     },
     "execution_count": 164,
     "metadata": {},
     "output_type": "execute_result"
    }
   ],
   "source": [
    "video.columns"
   ]
  },
  {
   "cell_type": "code",
   "execution_count": 165,
   "metadata": {},
   "outputs": [],
   "source": [
    "video.drop(['video_id', 'trending_date', 'title', 'channel_title', 'publish_time', 'tags', 'thumbnail_link', 'description', 'comments_disabled', 'ratings_disabled', 'video_error_or_removed', 'publish_year'], axis=1, inplace=True)"
   ]
  },
  {
   "cell_type": "code",
   "execution_count": 166,
   "metadata": {},
   "outputs": [
    {
     "data": {
      "text/plain": [
       "275146.8050981032"
      ]
     },
     "execution_count": 166,
     "metadata": {},
     "output_type": "execute_result"
    }
   ],
   "source": [
    "\n",
    "mean_views = video['pred_views'].mean()\n",
    "mean_views"
   ]
  },
  {
   "cell_type": "code",
   "execution_count": 170,
   "metadata": {},
   "outputs": [],
   "source": [
    "is_popular = []\n",
    "for view in video['pred_views']:\n",
    "    popular = True if view > mean_views else False\n",
    "    is_popular.append(popular)\n",
    "video['is_popular'] = is_popular"
   ]
  },
  {
   "cell_type": "code",
   "execution_count": null,
   "metadata": {},
   "outputs": [],
   "source": []
  },
  {
   "cell_type": "code",
   "execution_count": null,
   "metadata": {},
   "outputs": [],
   "source": []
  },
  {
   "cell_type": "code",
   "execution_count": 180,
   "metadata": {},
   "outputs": [
    {
     "data": {
      "text/html": [
       "<div>\n",
       "<style scoped>\n",
       "    .dataframe tbody tr th:only-of-type {\n",
       "        vertical-align: middle;\n",
       "    }\n",
       "\n",
       "    .dataframe tbody tr th {\n",
       "        vertical-align: top;\n",
       "    }\n",
       "\n",
       "    .dataframe thead th {\n",
       "        text-align: right;\n",
       "    }\n",
       "</style>\n",
       "<table border=\"1\" class=\"dataframe\">\n",
       "  <thead>\n",
       "    <tr style=\"text-align: right;\">\n",
       "      <th></th>\n",
       "      <th>category_id</th>\n",
       "      <th>likes</th>\n",
       "      <th>dislikes</th>\n",
       "      <th>comment_count</th>\n",
       "      <th>pred_views</th>\n",
       "      <th>trending_month</th>\n",
       "      <th>is_popular</th>\n",
       "    </tr>\n",
       "  </thead>\n",
       "  <tbody>\n",
       "    <tr>\n",
       "      <th>0</th>\n",
       "      <td>25</td>\n",
       "      <td>591</td>\n",
       "      <td>189</td>\n",
       "      <td>0</td>\n",
       "      <td>188085</td>\n",
       "      <td>2</td>\n",
       "      <td>False</td>\n",
       "    </tr>\n",
       "    <tr>\n",
       "      <th>3</th>\n",
       "      <td>25</td>\n",
       "      <td>1165</td>\n",
       "      <td>277</td>\n",
       "      <td>545</td>\n",
       "      <td>96255</td>\n",
       "      <td>2</td>\n",
       "      <td>False</td>\n",
       "    </tr>\n",
       "    <tr>\n",
       "      <th>4</th>\n",
       "      <td>1</td>\n",
       "      <td>1336</td>\n",
       "      <td>74</td>\n",
       "      <td>201</td>\n",
       "      <td>108408</td>\n",
       "      <td>2</td>\n",
       "      <td>False</td>\n",
       "    </tr>\n",
       "    <tr>\n",
       "      <th>5</th>\n",
       "      <td>22</td>\n",
       "      <td>0</td>\n",
       "      <td>0</td>\n",
       "      <td>53</td>\n",
       "      <td>193593</td>\n",
       "      <td>2</td>\n",
       "      <td>False</td>\n",
       "    </tr>\n",
       "    <tr>\n",
       "      <th>7</th>\n",
       "      <td>23</td>\n",
       "      <td>51</td>\n",
       "      <td>167</td>\n",
       "      <td>164</td>\n",
       "      <td>66272</td>\n",
       "      <td>2</td>\n",
       "      <td>False</td>\n",
       "    </tr>\n",
       "  </tbody>\n",
       "</table>\n",
       "</div>"
      ],
      "text/plain": [
       "   category_id  likes  dislikes  comment_count  pred_views  trending_month  \\\n",
       "0           25    591       189              0      188085               2   \n",
       "3           25   1165       277            545       96255               2   \n",
       "4            1   1336        74            201      108408               2   \n",
       "5           22      0         0             53      193593               2   \n",
       "7           23     51       167            164       66272               2   \n",
       "\n",
       "   is_popular  \n",
       "0       False  \n",
       "3       False  \n",
       "4       False  \n",
       "5       False  \n",
       "7       False  "
      ]
     },
     "execution_count": 180,
     "metadata": {},
     "output_type": "execute_result"
    }
   ],
   "source": [
    "video.head()"
   ]
  },
  {
   "cell_type": "code",
   "execution_count": 181,
   "metadata": {},
   "outputs": [],
   "source": [
    "X = video.iloc[:, 0:6]\n",
    "y = video.iloc[:, 6]"
   ]
  },
  {
   "cell_type": "code",
   "execution_count": 182,
   "metadata": {},
   "outputs": [
    {
     "data": {
      "text/plain": [
       "(18399, 6)"
      ]
     },
     "execution_count": 182,
     "metadata": {},
     "output_type": "execute_result"
    }
   ],
   "source": [
    "X.shape"
   ]
  },
  {
   "cell_type": "code",
   "execution_count": 183,
   "metadata": {},
   "outputs": [],
   "source": [
    "X_train, X_test, y_train, y_test = train_test_split(X, y, test_size = 0.3)"
   ]
  },
  {
   "cell_type": "code",
   "execution_count": 184,
   "metadata": {},
   "outputs": [
    {
     "data": {
      "text/html": [
       "<div>\n",
       "<style scoped>\n",
       "    .dataframe tbody tr th:only-of-type {\n",
       "        vertical-align: middle;\n",
       "    }\n",
       "\n",
       "    .dataframe tbody tr th {\n",
       "        vertical-align: top;\n",
       "    }\n",
       "\n",
       "    .dataframe thead th {\n",
       "        text-align: right;\n",
       "    }\n",
       "</style>\n",
       "<table border=\"1\" class=\"dataframe\">\n",
       "  <thead>\n",
       "    <tr style=\"text-align: right;\">\n",
       "      <th></th>\n",
       "      <th>category_id</th>\n",
       "      <th>likes</th>\n",
       "      <th>dislikes</th>\n",
       "      <th>comment_count</th>\n",
       "      <th>pred_views</th>\n",
       "      <th>trending_month</th>\n",
       "    </tr>\n",
       "  </thead>\n",
       "  <tbody>\n",
       "    <tr>\n",
       "      <th>18590</th>\n",
       "      <td>19</td>\n",
       "      <td>1016</td>\n",
       "      <td>180</td>\n",
       "      <td>306</td>\n",
       "      <td>78599</td>\n",
       "      <td>6</td>\n",
       "    </tr>\n",
       "    <tr>\n",
       "      <th>10033</th>\n",
       "      <td>17</td>\n",
       "      <td>31</td>\n",
       "      <td>3</td>\n",
       "      <td>10</td>\n",
       "      <td>2233</td>\n",
       "      <td>4</td>\n",
       "    </tr>\n",
       "    <tr>\n",
       "      <th>18369</th>\n",
       "      <td>24</td>\n",
       "      <td>2533</td>\n",
       "      <td>33</td>\n",
       "      <td>107</td>\n",
       "      <td>46317</td>\n",
       "      <td>5</td>\n",
       "    </tr>\n",
       "    <tr>\n",
       "      <th>7074</th>\n",
       "      <td>24</td>\n",
       "      <td>5802</td>\n",
       "      <td>3457</td>\n",
       "      <td>1711</td>\n",
       "      <td>832147</td>\n",
       "      <td>3</td>\n",
       "    </tr>\n",
       "    <tr>\n",
       "      <th>3195</th>\n",
       "      <td>22</td>\n",
       "      <td>562</td>\n",
       "      <td>111</td>\n",
       "      <td>197</td>\n",
       "      <td>174029</td>\n",
       "      <td>2</td>\n",
       "    </tr>\n",
       "    <tr>\n",
       "      <th>...</th>\n",
       "      <td>...</td>\n",
       "      <td>...</td>\n",
       "      <td>...</td>\n",
       "      <td>...</td>\n",
       "      <td>...</td>\n",
       "      <td>...</td>\n",
       "    </tr>\n",
       "    <tr>\n",
       "      <th>18377</th>\n",
       "      <td>24</td>\n",
       "      <td>9378</td>\n",
       "      <td>1614</td>\n",
       "      <td>2047</td>\n",
       "      <td>522091</td>\n",
       "      <td>5</td>\n",
       "    </tr>\n",
       "    <tr>\n",
       "      <th>16064</th>\n",
       "      <td>19</td>\n",
       "      <td>1171</td>\n",
       "      <td>387</td>\n",
       "      <td>521</td>\n",
       "      <td>125071</td>\n",
       "      <td>5</td>\n",
       "    </tr>\n",
       "    <tr>\n",
       "      <th>14530</th>\n",
       "      <td>22</td>\n",
       "      <td>675</td>\n",
       "      <td>134</td>\n",
       "      <td>41</td>\n",
       "      <td>79582</td>\n",
       "      <td>5</td>\n",
       "    </tr>\n",
       "    <tr>\n",
       "      <th>19655</th>\n",
       "      <td>22</td>\n",
       "      <td>914</td>\n",
       "      <td>41</td>\n",
       "      <td>156</td>\n",
       "      <td>44342</td>\n",
       "      <td>6</td>\n",
       "    </tr>\n",
       "    <tr>\n",
       "      <th>17925</th>\n",
       "      <td>24</td>\n",
       "      <td>6045</td>\n",
       "      <td>198</td>\n",
       "      <td>1463</td>\n",
       "      <td>157880</td>\n",
       "      <td>5</td>\n",
       "    </tr>\n",
       "  </tbody>\n",
       "</table>\n",
       "<p>12879 rows × 6 columns</p>\n",
       "</div>"
      ],
      "text/plain": [
       "       category_id  likes  dislikes  comment_count  pred_views  trending_month\n",
       "18590           19   1016       180            306       78599               6\n",
       "10033           17     31         3             10        2233               4\n",
       "18369           24   2533        33            107       46317               5\n",
       "7074            24   5802      3457           1711      832147               3\n",
       "3195            22    562       111            197      174029               2\n",
       "...            ...    ...       ...            ...         ...             ...\n",
       "18377           24   9378      1614           2047      522091               5\n",
       "16064           19   1171       387            521      125071               5\n",
       "14530           22    675       134             41       79582               5\n",
       "19655           22    914        41            156       44342               6\n",
       "17925           24   6045       198           1463      157880               5\n",
       "\n",
       "[12879 rows x 6 columns]"
      ]
     },
     "execution_count": 184,
     "metadata": {},
     "output_type": "execute_result"
    }
   ],
   "source": [
    "X_train"
   ]
  },
  {
   "cell_type": "code",
   "execution_count": 185,
   "metadata": {},
   "outputs": [],
   "source": [
    "AdaModel = AdaBoostClassifier(n_estimators=100, learning_rate=1)"
   ]
  },
  {
   "cell_type": "code",
   "execution_count": 186,
   "metadata": {},
   "outputs": [],
   "source": [
    "model = AdaModel.fit(X_train, y_train)\n",
    "\n",
    "y_pred = model.predict(X_test)"
   ]
  },
  {
   "cell_type": "code",
   "execution_count": 187,
   "metadata": {},
   "outputs": [
    {
     "name": "stdout",
     "output_type": "stream",
     "text": [
      "Accuracy: 1.0\n"
     ]
    }
   ],
   "source": [
    "print(\"Accuracy:\", metrics.accuracy_score(y_test, y_pred))"
   ]
  },
  {
   "cell_type": "code",
   "execution_count": null,
   "metadata": {},
   "outputs": [],
   "source": []
  },
  {
   "cell_type": "code",
   "execution_count": null,
   "metadata": {},
   "outputs": [],
   "source": []
  },
  {
   "cell_type": "code",
   "execution_count": null,
   "metadata": {},
   "outputs": [],
   "source": []
  },
  {
   "cell_type": "code",
   "execution_count": null,
   "metadata": {},
   "outputs": [],
   "source": []
  }
 ],
 "metadata": {
  "kernelspec": {
   "display_name": "Python 3",
   "language": "python",
   "name": "python3"
  },
  "language_info": {
   "codemirror_mode": {
    "name": "ipython",
    "version": 3
   },
   "file_extension": ".py",
   "mimetype": "text/x-python",
   "name": "python",
   "nbconvert_exporter": "python",
   "pygments_lexer": "ipython3",
   "version": "3.7.6"
  }
 },
 "nbformat": 4,
 "nbformat_minor": 2
}
