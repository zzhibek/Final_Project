{
 "cells": [
  {
   "cell_type": "code",
   "execution_count": 121,
   "metadata": {},
   "outputs": [],
   "source": [
    "# Python 3 \n",
    "# AdaBoost\n",
    "# Done by: \n",
    "import numpy as np\n",
    "import pandas as pd\n",
    "import seaborn as sns\n",
    "import matplotlib.pyplot as plt\n",
    "import json\n",
    "\n",
    "from sklearn.model_selection import train_test_split\n",
    "from sklearn.metrics import r2_score,mean_squared_error\n",
    "from sklearn.ensemble import AdaBoostClassifier\n",
    "from sklearn import metrics\n",
    "\n",
    "import warnings\n",
    "warnings.filterwarnings('ignore')\n",
    "import statsmodels.api as sm"
   ]
  },
  {
   "cell_type": "markdown",
   "metadata": {},
   "source": [
    "Importing lib"
   ]
  },
  {
   "cell_type": "code",
   "execution_count": 122,
   "metadata": {
    "scrolled": true
   },
   "outputs": [
    {
     "data": {
      "text/html": [
       "<div>\n",
       "<style scoped>\n",
       "    .dataframe tbody tr th:only-of-type {\n",
       "        vertical-align: middle;\n",
       "    }\n",
       "\n",
       "    .dataframe tbody tr th {\n",
       "        vertical-align: top;\n",
       "    }\n",
       "\n",
       "    .dataframe thead th {\n",
       "        text-align: right;\n",
       "    }\n",
       "</style>\n",
       "<table border=\"1\" class=\"dataframe\">\n",
       "  <thead>\n",
       "    <tr style=\"text-align: right;\">\n",
       "      <th></th>\n",
       "      <th>video_id</th>\n",
       "      <th>trending_date</th>\n",
       "      <th>title</th>\n",
       "      <th>channel_title</th>\n",
       "      <th>category_id</th>\n",
       "      <th>publish_time</th>\n",
       "      <th>tags</th>\n",
       "      <th>views</th>\n",
       "      <th>likes</th>\n",
       "      <th>dislikes</th>\n",
       "      <th>comment_count</th>\n",
       "      <th>thumbnail_link</th>\n",
       "      <th>comments_disabled</th>\n",
       "      <th>ratings_disabled</th>\n",
       "      <th>video_error_or_removed</th>\n",
       "      <th>description</th>\n",
       "    </tr>\n",
       "  </thead>\n",
       "  <tbody>\n",
       "    <tr>\n",
       "      <th>0</th>\n",
       "      <td>5ugKfHgsmYw</td>\n",
       "      <td>18.07.02</td>\n",
       "      <td>é¸èªããªãåç´ã«è½ä¸ï¼è·¯ä¸ã®è»ã...</td>\n",
       "      <td>æäºéä¿¡æ åã»ã³ã¿ã¼</td>\n",
       "      <td>25</td>\n",
       "      <td>2018-02-06T03:04:37.000Z</td>\n",
       "      <td>äºæ",
       "|\"ä½è³\"|\"ä½è³ç\"|\"ããªã³ãã¿ã...</td>\n",
       "      <td>188085</td>\n",
       "      <td>591</td>\n",
       "      <td>189</td>\n",
       "      <td>0</td>\n",
       "      <td>https://i.ytimg.com/vi/5ugKfHgsmYw/default.jpg</td>\n",
       "      <td>True</td>\n",
       "      <td>False</td>\n",
       "      <td>False</td>\n",
       "      <td>ä½è³çç¥å¼å¸ã®æ°å®¶ã«å¢è½ããé¸ä...</td>\n",
       "    </tr>\n",
       "    <tr>\n",
       "      <th>1</th>\n",
       "      <td>ohObafdd34Y</td>\n",
       "      <td>18.07.02</td>\n",
       "      <td>ã¤ããQ ãç¥­ãç·å®®å·Ãæè¶ å·¨å¤§ã...</td>\n",
       "      <td>ç¥è°·ãããª Kamiya Erina 2</td>\n",
       "      <td>1</td>\n",
       "      <td>2018-02-06T04:01:56.000Z</td>\n",
       "      <td>[none]</td>\n",
       "      <td>90929</td>\n",
       "      <td>442</td>\n",
       "      <td>88</td>\n",
       "      <td>174</td>\n",
       "      <td>https://i.ytimg.com/vi/ohObafdd34Y/default.jpg</td>\n",
       "      <td>False</td>\n",
       "      <td>False</td>\n",
       "      <td>False</td>\n",
       "      <td>NaN</td>\n",
       "    </tr>\n",
       "    <tr>\n",
       "      <th>2</th>\n",
       "      <td>aBr2kKAHN6M</td>\n",
       "      <td>18.07.02</td>\n",
       "      <td>Live Views of Starman</td>\n",
       "      <td>SpaceX</td>\n",
       "      <td>28</td>\n",
       "      <td>2018-02-06T21:38:22.000Z</td>\n",
       "      <td>[none]</td>\n",
       "      <td>6408303</td>\n",
       "      <td>165892</td>\n",
       "      <td>2331</td>\n",
       "      <td>3006</td>\n",
       "      <td>https://i.ytimg.com/vi/aBr2kKAHN6M/default.jpg</td>\n",
       "      <td>False</td>\n",
       "      <td>False</td>\n",
       "      <td>False</td>\n",
       "      <td>NaN</td>\n",
       "    </tr>\n",
       "    <tr>\n",
       "      <th>3</th>\n",
       "      <td>5wNnwChvmsQ</td>\n",
       "      <td>18.07.02</td>\n",
       "      <td>æ±äº¬ãã£ãºãã¼ãªã¾ã¼ãã®å",
       "ã­ã£ã...</td>\n",
       "      <td>ã¢ã·ã¿ãã¯ãã¤</td>\n",
       "      <td>25</td>\n",
       "      <td>2018-02-06T06:08:49.000Z</td>\n",
       "      <td>ã¢ã·ã¿ãã¯ãã¤</td>\n",
       "      <td>96255</td>\n",
       "      <td>1165</td>\n",
       "      <td>277</td>\n",
       "      <td>545</td>\n",
       "      <td>https://i.ytimg.com/vi/5wNnwChvmsQ/default.jpg</td>\n",
       "      <td>False</td>\n",
       "      <td>False</td>\n",
       "      <td>False</td>\n",
       "      <td>æ±äº¬ãã£ãºãã¼ãªã¾ã¼ãã®å",
       "ã­ã£ã...</td>\n",
       "    </tr>\n",
       "    <tr>\n",
       "      <th>4</th>\n",
       "      <td>B7J47qFvdsk</td>\n",
       "      <td>18.07.02</td>\n",
       "      <td>æ¦®åå¥ã",
       "ãè¡æã®æ­»ãã ãµãï¼æ ç...</td>\n",
       "      <td>ã·ãããã¥ãã¤</td>\n",
       "      <td>1</td>\n",
       "      <td>2018-02-06T02:30:00.000Z</td>\n",
       "      <td>[none]</td>\n",
       "      <td>108408</td>\n",
       "      <td>1336</td>\n",
       "      <td>74</td>\n",
       "      <td>201</td>\n",
       "      <td>https://i.ytimg.com/vi/B7J47qFvdsk/default.jpg</td>\n",
       "      <td>False</td>\n",
       "      <td>False</td>\n",
       "      <td>False</td>\n",
       "      <td>å®¶ã«å¸°ã£ã¦ãããµã©ãªã¼ãã³ã®ãã...</td>\n",
       "    </tr>\n",
       "  </tbody>\n",
       "</table>\n",
       "</div>"
      ],
      "text/plain": [
       "      video_id trending_date  \\\n",
       "0  5ugKfHgsmYw      18.07.02   \n",
       "1  ohObafdd34Y      18.07.02   \n",
       "2  aBr2kKAHN6M      18.07.02   \n",
       "3  5wNnwChvmsQ      18.07.02   \n",
       "4  B7J47qFvdsk      18.07.02   \n",
       "\n",
       "                                               title  \\\n",
       "0  é¸èªããªãåç´ã«è½ä¸ï¼è·¯ä¸ã®è»ã...   \n",
       "1  ã¤ããQ ãç¥­ãç·å®®å·Ãæè¶ å·¨å¤§ã...   \n",
       "2                              Live Views of Starman   \n",
       "3  æ±äº¬ãã£ãºãã¼ãªã¾ã¼ãã®å\n",
       "ã­ã£ã...   \n",
       "4  æ¦®åå¥ã\n",
       "ãè¡æã®æ­»ãã ãµãï¼æ ç...   \n",
       "\n",
       "                    channel_title  category_id              publish_time  \\\n",
       "0  æäºéä¿¡æ åã»ã³ã¿ã¼           25  2018-02-06T03:04:37.000Z   \n",
       "1  ç¥è°·ãããª Kamiya Erina 2            1  2018-02-06T04:01:56.000Z   \n",
       "2                          SpaceX           28  2018-02-06T21:38:22.000Z   \n",
       "3           ã¢ã·ã¿ãã¯ãã¤           25  2018-02-06T06:08:49.000Z   \n",
       "4           ã·ãããã¥ãã¤            1  2018-02-06T02:30:00.000Z   \n",
       "\n",
       "                                                tags    views   likes  \\\n",
       "0  äºæ\n",
       "|\"ä½è³\"|\"ä½è³ç\"|\"ããªã³ãã¿ã...   188085     591   \n",
       "1                                             [none]    90929     442   \n",
       "2                                             [none]  6408303  165892   \n",
       "3                              ã¢ã·ã¿ãã¯ãã¤    96255    1165   \n",
       "4                                             [none]   108408    1336   \n",
       "\n",
       "   dislikes  comment_count                                  thumbnail_link  \\\n",
       "0       189              0  https://i.ytimg.com/vi/5ugKfHgsmYw/default.jpg   \n",
       "1        88            174  https://i.ytimg.com/vi/ohObafdd34Y/default.jpg   \n",
       "2      2331           3006  https://i.ytimg.com/vi/aBr2kKAHN6M/default.jpg   \n",
       "3       277            545  https://i.ytimg.com/vi/5wNnwChvmsQ/default.jpg   \n",
       "4        74            201  https://i.ytimg.com/vi/B7J47qFvdsk/default.jpg   \n",
       "\n",
       "   comments_disabled  ratings_disabled  video_error_or_removed  \\\n",
       "0               True             False                   False   \n",
       "1              False             False                   False   \n",
       "2              False             False                   False   \n",
       "3              False             False                   False   \n",
       "4              False             False                   False   \n",
       "\n",
       "                                         description  \n",
       "0  ä½è³çç¥å¼å¸ã®æ°å®¶ã«å¢è½ããé¸ä...  \n",
       "1                                                NaN  \n",
       "2                                                NaN  \n",
       "3  æ±äº¬ãã£ãºãã¼ãªã¾ã¼ãã®å\n",
       "ã­ã£ã...  \n",
       "4  å®¶ã«å¸°ã£ã¦ãããµã©ãªã¼ãã³ã®ãã...  "
      ]
     },
     "execution_count": 122,
     "metadata": {},
     "output_type": "execute_result"
    }
   ],
   "source": [
    "video=pd.read_csv('JPvideos.csv',encoding='latin1')\n",
    "video.head()\n"
   ]
  },
  {
   "cell_type": "code",
   "execution_count": null,
   "metadata": {},
   "outputs": [],
   "source": []
  },
  {
   "cell_type": "code",
   "execution_count": 123,
   "metadata": {},
   "outputs": [
    {
     "data": {
      "text/html": [
       "<div>\n",
       "<style scoped>\n",
       "    .dataframe tbody tr th:only-of-type {\n",
       "        vertical-align: middle;\n",
       "    }\n",
       "\n",
       "    .dataframe tbody tr th {\n",
       "        vertical-align: top;\n",
       "    }\n",
       "\n",
       "    .dataframe thead th {\n",
       "        text-align: right;\n",
       "    }\n",
       "</style>\n",
       "<table border=\"1\" class=\"dataframe\">\n",
       "  <thead>\n",
       "    <tr style=\"text-align: right;\">\n",
       "      <th></th>\n",
       "      <th>video_id</th>\n",
       "      <th>trending_date</th>\n",
       "      <th>title</th>\n",
       "      <th>channel_title</th>\n",
       "      <th>category_id</th>\n",
       "      <th>publish_time</th>\n",
       "      <th>tags</th>\n",
       "      <th>views</th>\n",
       "      <th>likes</th>\n",
       "      <th>dislikes</th>\n",
       "      <th>comment_count</th>\n",
       "      <th>thumbnail_link</th>\n",
       "      <th>comments_disabled</th>\n",
       "      <th>ratings_disabled</th>\n",
       "      <th>video_error_or_removed</th>\n",
       "      <th>description</th>\n",
       "    </tr>\n",
       "  </thead>\n",
       "  <tbody>\n",
       "    <tr>\n",
       "      <th>count</th>\n",
       "      <td>20523</td>\n",
       "      <td>20523</td>\n",
       "      <td>20523</td>\n",
       "      <td>20523</td>\n",
       "      <td>20523.000000</td>\n",
       "      <td>20523</td>\n",
       "      <td>20523</td>\n",
       "      <td>2.052300e+04</td>\n",
       "      <td>2.052300e+04</td>\n",
       "      <td>20523.000000</td>\n",
       "      <td>20523.000000</td>\n",
       "      <td>20523</td>\n",
       "      <td>20523</td>\n",
       "      <td>20523</td>\n",
       "      <td>20523</td>\n",
       "      <td>18399</td>\n",
       "    </tr>\n",
       "    <tr>\n",
       "      <th>unique</th>\n",
       "      <td>12912</td>\n",
       "      <td>122</td>\n",
       "      <td>13087</td>\n",
       "      <td>4649</td>\n",
       "      <td>NaN</td>\n",
       "      <td>12505</td>\n",
       "      <td>8761</td>\n",
       "      <td>NaN</td>\n",
       "      <td>NaN</td>\n",
       "      <td>NaN</td>\n",
       "      <td>NaN</td>\n",
       "      <td>13093</td>\n",
       "      <td>2</td>\n",
       "      <td>2</td>\n",
       "      <td>2</td>\n",
       "      <td>10743</td>\n",
       "    </tr>\n",
       "    <tr>\n",
       "      <th>top</th>\n",
       "      <td>#NAME?</td>\n",
       "      <td>18.04.05</td>\n",
       "      <td>ãå¹ãããè² ããè©±é¡ã®é¢ç½ãç»å...</td>\n",
       "      <td>DHCãã¬ã</td>\n",
       "      <td>NaN</td>\n",
       "      <td>2018-02-06T08:00:01.000Z</td>\n",
       "      <td>[none]</td>\n",
       "      <td>NaN</td>\n",
       "      <td>NaN</td>\n",
       "      <td>NaN</td>\n",
       "      <td>NaN</td>\n",
       "      <td>https://i.ytimg.com/vi/5ugKfHgsmYw/default.jpg</td>\n",
       "      <td>False</td>\n",
       "      <td>False</td>\n",
       "      <td>False</td>\n",
       "      <td>èª¬æ</td>\n",
       "    </tr>\n",
       "    <tr>\n",
       "      <th>freq</th>\n",
       "      <td>282</td>\n",
       "      <td>199</td>\n",
       "      <td>17</td>\n",
       "      <td>169</td>\n",
       "      <td>NaN</td>\n",
       "      <td>12</td>\n",
       "      <td>3200</td>\n",
       "      <td>NaN</td>\n",
       "      <td>NaN</td>\n",
       "      <td>NaN</td>\n",
       "      <td>NaN</td>\n",
       "      <td>8</td>\n",
       "      <td>19109</td>\n",
       "      <td>19133</td>\n",
       "      <td>20511</td>\n",
       "      <td>94</td>\n",
       "    </tr>\n",
       "    <tr>\n",
       "      <th>mean</th>\n",
       "      <td>NaN</td>\n",
       "      <td>NaN</td>\n",
       "      <td>NaN</td>\n",
       "      <td>NaN</td>\n",
       "      <td>19.807533</td>\n",
       "      <td>NaN</td>\n",
       "      <td>NaN</td>\n",
       "      <td>2.620215e+05</td>\n",
       "      <td>8.059587e+03</td>\n",
       "      <td>366.823613</td>\n",
       "      <td>1196.077864</td>\n",
       "      <td>NaN</td>\n",
       "      <td>NaN</td>\n",
       "      <td>NaN</td>\n",
       "      <td>NaN</td>\n",
       "      <td>NaN</td>\n",
       "    </tr>\n",
       "    <tr>\n",
       "      <th>std</th>\n",
       "      <td>NaN</td>\n",
       "      <td>NaN</td>\n",
       "      <td>NaN</td>\n",
       "      <td>NaN</td>\n",
       "      <td>6.655895</td>\n",
       "      <td>NaN</td>\n",
       "      <td>NaN</td>\n",
       "      <td>1.294938e+06</td>\n",
       "      <td>8.384837e+04</td>\n",
       "      <td>2658.598540</td>\n",
       "      <td>14943.608305</td>\n",
       "      <td>NaN</td>\n",
       "      <td>NaN</td>\n",
       "      <td>NaN</td>\n",
       "      <td>NaN</td>\n",
       "      <td>NaN</td>\n",
       "    </tr>\n",
       "    <tr>\n",
       "      <th>min</th>\n",
       "      <td>NaN</td>\n",
       "      <td>NaN</td>\n",
       "      <td>NaN</td>\n",
       "      <td>NaN</td>\n",
       "      <td>1.000000</td>\n",
       "      <td>NaN</td>\n",
       "      <td>NaN</td>\n",
       "      <td>7.980000e+02</td>\n",
       "      <td>0.000000e+00</td>\n",
       "      <td>0.000000</td>\n",
       "      <td>0.000000</td>\n",
       "      <td>NaN</td>\n",
       "      <td>NaN</td>\n",
       "      <td>NaN</td>\n",
       "      <td>NaN</td>\n",
       "      <td>NaN</td>\n",
       "    </tr>\n",
       "    <tr>\n",
       "      <th>25%</th>\n",
       "      <td>NaN</td>\n",
       "      <td>NaN</td>\n",
       "      <td>NaN</td>\n",
       "      <td>NaN</td>\n",
       "      <td>17.000000</td>\n",
       "      <td>NaN</td>\n",
       "      <td>NaN</td>\n",
       "      <td>1.710000e+04</td>\n",
       "      <td>1.210000e+02</td>\n",
       "      <td>9.000000</td>\n",
       "      <td>19.000000</td>\n",
       "      <td>NaN</td>\n",
       "      <td>NaN</td>\n",
       "      <td>NaN</td>\n",
       "      <td>NaN</td>\n",
       "      <td>NaN</td>\n",
       "    </tr>\n",
       "    <tr>\n",
       "      <th>50%</th>\n",
       "      <td>NaN</td>\n",
       "      <td>NaN</td>\n",
       "      <td>NaN</td>\n",
       "      <td>NaN</td>\n",
       "      <td>22.000000</td>\n",
       "      <td>NaN</td>\n",
       "      <td>NaN</td>\n",
       "      <td>6.408400e+04</td>\n",
       "      <td>6.480000e+02</td>\n",
       "      <td>43.000000</td>\n",
       "      <td>133.000000</td>\n",
       "      <td>NaN</td>\n",
       "      <td>NaN</td>\n",
       "      <td>NaN</td>\n",
       "      <td>NaN</td>\n",
       "      <td>NaN</td>\n",
       "    </tr>\n",
       "    <tr>\n",
       "      <th>75%</th>\n",
       "      <td>NaN</td>\n",
       "      <td>NaN</td>\n",
       "      <td>NaN</td>\n",
       "      <td>NaN</td>\n",
       "      <td>24.000000</td>\n",
       "      <td>NaN</td>\n",
       "      <td>NaN</td>\n",
       "      <td>1.833670e+05</td>\n",
       "      <td>2.303000e+03</td>\n",
       "      <td>178.000000</td>\n",
       "      <td>488.000000</td>\n",
       "      <td>NaN</td>\n",
       "      <td>NaN</td>\n",
       "      <td>NaN</td>\n",
       "      <td>NaN</td>\n",
       "      <td>NaN</td>\n",
       "    </tr>\n",
       "    <tr>\n",
       "      <th>max</th>\n",
       "      <td>NaN</td>\n",
       "      <td>NaN</td>\n",
       "      <td>NaN</td>\n",
       "      <td>NaN</td>\n",
       "      <td>29.000000</td>\n",
       "      <td>NaN</td>\n",
       "      <td>NaN</td>\n",
       "      <td>6.279639e+07</td>\n",
       "      <td>4.470923e+06</td>\n",
       "      <td>119053.000000</td>\n",
       "      <td>905925.000000</td>\n",
       "      <td>NaN</td>\n",
       "      <td>NaN</td>\n",
       "      <td>NaN</td>\n",
       "      <td>NaN</td>\n",
       "      <td>NaN</td>\n",
       "    </tr>\n",
       "  </tbody>\n",
       "</table>\n",
       "</div>"
      ],
      "text/plain": [
       "       video_id trending_date  \\\n",
       "count     20523         20523   \n",
       "unique    12912           122   \n",
       "top      #NAME?      18.04.05   \n",
       "freq        282           199   \n",
       "mean        NaN           NaN   \n",
       "std         NaN           NaN   \n",
       "min         NaN           NaN   \n",
       "25%         NaN           NaN   \n",
       "50%         NaN           NaN   \n",
       "75%         NaN           NaN   \n",
       "max         NaN           NaN   \n",
       "\n",
       "                                                    title channel_title  \\\n",
       "count                                               20523         20523   \n",
       "unique                                              13087          4649   \n",
       "top     ãå¹ãããè² ããè©±é¡ã®é¢ç½ãç»å...  DHCãã¬ã   \n",
       "freq                                                   17           169   \n",
       "mean                                                  NaN           NaN   \n",
       "std                                                   NaN           NaN   \n",
       "min                                                   NaN           NaN   \n",
       "25%                                                   NaN           NaN   \n",
       "50%                                                   NaN           NaN   \n",
       "75%                                                   NaN           NaN   \n",
       "max                                                   NaN           NaN   \n",
       "\n",
       "         category_id              publish_time    tags         views  \\\n",
       "count   20523.000000                     20523   20523  2.052300e+04   \n",
       "unique           NaN                     12505    8761           NaN   \n",
       "top              NaN  2018-02-06T08:00:01.000Z  [none]           NaN   \n",
       "freq             NaN                        12    3200           NaN   \n",
       "mean       19.807533                       NaN     NaN  2.620215e+05   \n",
       "std         6.655895                       NaN     NaN  1.294938e+06   \n",
       "min         1.000000                       NaN     NaN  7.980000e+02   \n",
       "25%        17.000000                       NaN     NaN  1.710000e+04   \n",
       "50%        22.000000                       NaN     NaN  6.408400e+04   \n",
       "75%        24.000000                       NaN     NaN  1.833670e+05   \n",
       "max        29.000000                       NaN     NaN  6.279639e+07   \n",
       "\n",
       "               likes       dislikes  comment_count  \\\n",
       "count   2.052300e+04   20523.000000   20523.000000   \n",
       "unique           NaN            NaN            NaN   \n",
       "top              NaN            NaN            NaN   \n",
       "freq             NaN            NaN            NaN   \n",
       "mean    8.059587e+03     366.823613    1196.077864   \n",
       "std     8.384837e+04    2658.598540   14943.608305   \n",
       "min     0.000000e+00       0.000000       0.000000   \n",
       "25%     1.210000e+02       9.000000      19.000000   \n",
       "50%     6.480000e+02      43.000000     133.000000   \n",
       "75%     2.303000e+03     178.000000     488.000000   \n",
       "max     4.470923e+06  119053.000000  905925.000000   \n",
       "\n",
       "                                        thumbnail_link comments_disabled  \\\n",
       "count                                            20523             20523   \n",
       "unique                                           13093                 2   \n",
       "top     https://i.ytimg.com/vi/5ugKfHgsmYw/default.jpg             False   \n",
       "freq                                                 8             19109   \n",
       "mean                                               NaN               NaN   \n",
       "std                                                NaN               NaN   \n",
       "min                                                NaN               NaN   \n",
       "25%                                                NaN               NaN   \n",
       "50%                                                NaN               NaN   \n",
       "75%                                                NaN               NaN   \n",
       "max                                                NaN               NaN   \n",
       "\n",
       "       ratings_disabled video_error_or_removed description  \n",
       "count             20523                  20523       18399  \n",
       "unique                2                      2       10743  \n",
       "top               False                  False      èª¬æ  \n",
       "freq              19133                  20511          94  \n",
       "mean                NaN                    NaN         NaN  \n",
       "std                 NaN                    NaN         NaN  \n",
       "min                 NaN                    NaN         NaN  \n",
       "25%                 NaN                    NaN         NaN  \n",
       "50%                 NaN                    NaN         NaN  \n",
       "75%                 NaN                    NaN         NaN  \n",
       "max                 NaN                    NaN         NaN  "
      ]
     },
     "execution_count": 123,
     "metadata": {},
     "output_type": "execute_result"
    }
   ],
   "source": [
    "video.describe(include=\"all\")"
   ]
  },
  {
   "cell_type": "code",
   "execution_count": 124,
   "metadata": {},
   "outputs": [
    {
     "name": "stdout",
     "output_type": "stream",
     "text": [
      "<class 'pandas.core.frame.DataFrame'>\n",
      "RangeIndex: 20523 entries, 0 to 20522\n",
      "Data columns (total 16 columns):\n",
      "video_id                  20523 non-null object\n",
      "trending_date             20523 non-null object\n",
      "title                     20523 non-null object\n",
      "channel_title             20523 non-null object\n",
      "category_id               20523 non-null int64\n",
      "publish_time              20523 non-null object\n",
      "tags                      20523 non-null object\n",
      "views                     20523 non-null int64\n",
      "likes                     20523 non-null int64\n",
      "dislikes                  20523 non-null int64\n",
      "comment_count             20523 non-null int64\n",
      "thumbnail_link            20523 non-null object\n",
      "comments_disabled         20523 non-null bool\n",
      "ratings_disabled          20523 non-null bool\n",
      "video_error_or_removed    20523 non-null bool\n",
      "description               18399 non-null object\n",
      "dtypes: bool(3), int64(5), object(8)\n",
      "memory usage: 2.1+ MB\n"
     ]
    }
   ],
   "source": [
    "video.info()"
   ]
  },
  {
   "cell_type": "code",
   "execution_count": 125,
   "metadata": {},
   "outputs": [
    {
     "name": "stdout",
     "output_type": "stream",
     "text": [
      "Index(['video_id', 'trending_date', 'title', 'channel_title', 'category_id',\n",
      "       'publish_time', 'tags', 'views', 'likes', 'dislikes', 'comment_count',\n",
      "       'thumbnail_link', 'comments_disabled', 'ratings_disabled',\n",
      "       'video_error_or_removed', 'description'],\n",
      "      dtype='object')\n",
      "video_id                  object\n",
      "trending_date             object\n",
      "title                     object\n",
      "channel_title             object\n",
      "category_id                int64\n",
      "publish_time              object\n",
      "tags                      object\n",
      "views                      int64\n",
      "likes                      int64\n",
      "dislikes                   int64\n",
      "comment_count              int64\n",
      "thumbnail_link            object\n",
      "comments_disabled           bool\n",
      "ratings_disabled            bool\n",
      "video_error_or_removed      bool\n",
      "description               object\n",
      "dtype: object\n"
     ]
    }
   ],
   "source": [
    "print(video.columns)\n",
    "print(video.dtypes)"
   ]
  },
  {
   "cell_type": "code",
   "execution_count": null,
   "metadata": {},
   "outputs": [],
   "source": []
  },
  {
   "cell_type": "code",
   "execution_count": null,
   "metadata": {},
   "outputs": [],
   "source": []
  },
  {
   "cell_type": "code",
   "execution_count": 126,
   "metadata": {},
   "outputs": [
    {
     "data": {
      "text/plain": [
       "24    6259\n",
       "22    3915\n",
       "17    2037\n",
       "25    1392\n",
       "10    1290\n",
       "1     1220\n",
       "15    1127\n",
       "20    1030\n",
       "26     799\n",
       "23     743\n",
       "2      280\n",
       "28     158\n",
       "19     143\n",
       "27     112\n",
       "29      18\n",
       "Name: category_id, dtype: int64"
      ]
     },
     "execution_count": 126,
     "metadata": {},
     "output_type": "execute_result"
    }
   ],
   "source": [
    "video['category_id'].value_counts()"
   ]
  },
  {
   "cell_type": "code",
   "execution_count": null,
   "metadata": {},
   "outputs": [],
   "source": []
  },
  {
   "cell_type": "code",
   "execution_count": 127,
   "metadata": {},
   "outputs": [
    {
     "data": {
      "text/plain": [
       "(20523, 16)"
      ]
     },
     "execution_count": 127,
     "metadata": {},
     "output_type": "execute_result"
    }
   ],
   "source": [
    "video.shape"
   ]
  },
  {
   "cell_type": "code",
   "execution_count": 128,
   "metadata": {},
   "outputs": [
    {
     "data": {
      "text/html": [
       "<div>\n",
       "<style scoped>\n",
       "    .dataframe tbody tr th:only-of-type {\n",
       "        vertical-align: middle;\n",
       "    }\n",
       "\n",
       "    .dataframe tbody tr th {\n",
       "        vertical-align: top;\n",
       "    }\n",
       "\n",
       "    .dataframe thead th {\n",
       "        text-align: right;\n",
       "    }\n",
       "</style>\n",
       "<table border=\"1\" class=\"dataframe\">\n",
       "  <thead>\n",
       "    <tr style=\"text-align: right;\">\n",
       "      <th></th>\n",
       "      <th>video_id</th>\n",
       "      <th>trending_date</th>\n",
       "      <th>title</th>\n",
       "      <th>channel_title</th>\n",
       "      <th>category_id</th>\n",
       "      <th>publish_time</th>\n",
       "      <th>tags</th>\n",
       "      <th>views</th>\n",
       "      <th>likes</th>\n",
       "      <th>dislikes</th>\n",
       "      <th>comment_count</th>\n",
       "      <th>thumbnail_link</th>\n",
       "      <th>comments_disabled</th>\n",
       "      <th>ratings_disabled</th>\n",
       "      <th>video_error_or_removed</th>\n",
       "      <th>description</th>\n",
       "      <th>pred_views</th>\n",
       "    </tr>\n",
       "  </thead>\n",
       "  <tbody>\n",
       "    <tr>\n",
       "      <th>0</th>\n",
       "      <td>5ugKfHgsmYw</td>\n",
       "      <td>18.07.02</td>\n",
       "      <td>é¸èªããªãåç´ã«è½ä¸ï¼è·¯ä¸ã®è»ã...</td>\n",
       "      <td>æäºéä¿¡æ åã»ã³ã¿ã¼</td>\n",
       "      <td>25</td>\n",
       "      <td>2018-02-06T03:04:37.000Z</td>\n",
       "      <td>äºæ",
       "|\"ä½è³\"|\"ä½è³ç\"|\"ããªã³ãã¿ã...</td>\n",
       "      <td>188085</td>\n",
       "      <td>591</td>\n",
       "      <td>189</td>\n",
       "      <td>0</td>\n",
       "      <td>https://i.ytimg.com/vi/5ugKfHgsmYw/default.jpg</td>\n",
       "      <td>True</td>\n",
       "      <td>False</td>\n",
       "      <td>False</td>\n",
       "      <td>ä½è³çç¥å¼å¸ã®æ°å®¶ã«å¢è½ããé¸ä...</td>\n",
       "      <td>188085</td>\n",
       "    </tr>\n",
       "    <tr>\n",
       "      <th>1</th>\n",
       "      <td>ohObafdd34Y</td>\n",
       "      <td>18.07.02</td>\n",
       "      <td>ã¤ããQ ãç¥­ãç·å®®å·Ãæè¶ å·¨å¤§ã...</td>\n",
       "      <td>ç¥è°·ãããª Kamiya Erina 2</td>\n",
       "      <td>1</td>\n",
       "      <td>2018-02-06T04:01:56.000Z</td>\n",
       "      <td>[none]</td>\n",
       "      <td>90929</td>\n",
       "      <td>442</td>\n",
       "      <td>88</td>\n",
       "      <td>174</td>\n",
       "      <td>https://i.ytimg.com/vi/ohObafdd34Y/default.jpg</td>\n",
       "      <td>False</td>\n",
       "      <td>False</td>\n",
       "      <td>False</td>\n",
       "      <td>NaN</td>\n",
       "      <td>90929</td>\n",
       "    </tr>\n",
       "    <tr>\n",
       "      <th>2</th>\n",
       "      <td>aBr2kKAHN6M</td>\n",
       "      <td>18.07.02</td>\n",
       "      <td>Live Views of Starman</td>\n",
       "      <td>SpaceX</td>\n",
       "      <td>28</td>\n",
       "      <td>2018-02-06T21:38:22.000Z</td>\n",
       "      <td>[none]</td>\n",
       "      <td>6408303</td>\n",
       "      <td>165892</td>\n",
       "      <td>2331</td>\n",
       "      <td>3006</td>\n",
       "      <td>https://i.ytimg.com/vi/aBr2kKAHN6M/default.jpg</td>\n",
       "      <td>False</td>\n",
       "      <td>False</td>\n",
       "      <td>False</td>\n",
       "      <td>NaN</td>\n",
       "      <td>6408303</td>\n",
       "    </tr>\n",
       "    <tr>\n",
       "      <th>3</th>\n",
       "      <td>5wNnwChvmsQ</td>\n",
       "      <td>18.07.02</td>\n",
       "      <td>æ±äº¬ãã£ãºãã¼ãªã¾ã¼ãã®å",
       "ã­ã£ã...</td>\n",
       "      <td>ã¢ã·ã¿ãã¯ãã¤</td>\n",
       "      <td>25</td>\n",
       "      <td>2018-02-06T06:08:49.000Z</td>\n",
       "      <td>ã¢ã·ã¿ãã¯ãã¤</td>\n",
       "      <td>96255</td>\n",
       "      <td>1165</td>\n",
       "      <td>277</td>\n",
       "      <td>545</td>\n",
       "      <td>https://i.ytimg.com/vi/5wNnwChvmsQ/default.jpg</td>\n",
       "      <td>False</td>\n",
       "      <td>False</td>\n",
       "      <td>False</td>\n",
       "      <td>æ±äº¬ãã£ãºãã¼ãªã¾ã¼ãã®å",
       "ã­ã£ã...</td>\n",
       "      <td>96255</td>\n",
       "    </tr>\n",
       "    <tr>\n",
       "      <th>4</th>\n",
       "      <td>B7J47qFvdsk</td>\n",
       "      <td>18.07.02</td>\n",
       "      <td>æ¦®åå¥ã",
       "ãè¡æã®æ­»ãã ãµãï¼æ ç...</td>\n",
       "      <td>ã·ãããã¥ãã¤</td>\n",
       "      <td>1</td>\n",
       "      <td>2018-02-06T02:30:00.000Z</td>\n",
       "      <td>[none]</td>\n",
       "      <td>108408</td>\n",
       "      <td>1336</td>\n",
       "      <td>74</td>\n",
       "      <td>201</td>\n",
       "      <td>https://i.ytimg.com/vi/B7J47qFvdsk/default.jpg</td>\n",
       "      <td>False</td>\n",
       "      <td>False</td>\n",
       "      <td>False</td>\n",
       "      <td>å®¶ã«å¸°ã£ã¦ãããµã©ãªã¼ãã³ã®ãã...</td>\n",
       "      <td>108408</td>\n",
       "    </tr>\n",
       "  </tbody>\n",
       "</table>\n",
       "</div>"
      ],
      "text/plain": [
       "      video_id trending_date  \\\n",
       "0  5ugKfHgsmYw      18.07.02   \n",
       "1  ohObafdd34Y      18.07.02   \n",
       "2  aBr2kKAHN6M      18.07.02   \n",
       "3  5wNnwChvmsQ      18.07.02   \n",
       "4  B7J47qFvdsk      18.07.02   \n",
       "\n",
       "                                               title  \\\n",
       "0  é¸èªããªãåç´ã«è½ä¸ï¼è·¯ä¸ã®è»ã...   \n",
       "1  ã¤ããQ ãç¥­ãç·å®®å·Ãæè¶ å·¨å¤§ã...   \n",
       "2                              Live Views of Starman   \n",
       "3  æ±äº¬ãã£ãºãã¼ãªã¾ã¼ãã®å\n",
       "ã­ã£ã...   \n",
       "4  æ¦®åå¥ã\n",
       "ãè¡æã®æ­»ãã ãµãï¼æ ç...   \n",
       "\n",
       "                    channel_title  category_id              publish_time  \\\n",
       "0  æäºéä¿¡æ åã»ã³ã¿ã¼           25  2018-02-06T03:04:37.000Z   \n",
       "1  ç¥è°·ãããª Kamiya Erina 2            1  2018-02-06T04:01:56.000Z   \n",
       "2                          SpaceX           28  2018-02-06T21:38:22.000Z   \n",
       "3           ã¢ã·ã¿ãã¯ãã¤           25  2018-02-06T06:08:49.000Z   \n",
       "4           ã·ãããã¥ãã¤            1  2018-02-06T02:30:00.000Z   \n",
       "\n",
       "                                                tags    views   likes  \\\n",
       "0  äºæ\n",
       "|\"ä½è³\"|\"ä½è³ç\"|\"ããªã³ãã¿ã...   188085     591   \n",
       "1                                             [none]    90929     442   \n",
       "2                                             [none]  6408303  165892   \n",
       "3                              ã¢ã·ã¿ãã¯ãã¤    96255    1165   \n",
       "4                                             [none]   108408    1336   \n",
       "\n",
       "   dislikes  comment_count                                  thumbnail_link  \\\n",
       "0       189              0  https://i.ytimg.com/vi/5ugKfHgsmYw/default.jpg   \n",
       "1        88            174  https://i.ytimg.com/vi/ohObafdd34Y/default.jpg   \n",
       "2      2331           3006  https://i.ytimg.com/vi/aBr2kKAHN6M/default.jpg   \n",
       "3       277            545  https://i.ytimg.com/vi/5wNnwChvmsQ/default.jpg   \n",
       "4        74            201  https://i.ytimg.com/vi/B7J47qFvdsk/default.jpg   \n",
       "\n",
       "   comments_disabled  ratings_disabled  video_error_or_removed  \\\n",
       "0               True             False                   False   \n",
       "1              False             False                   False   \n",
       "2              False             False                   False   \n",
       "3              False             False                   False   \n",
       "4              False             False                   False   \n",
       "\n",
       "                                         description  pred_views  \n",
       "0  ä½è³çç¥å¼å¸ã®æ°å®¶ã«å¢è½ããé¸ä...      188085  \n",
       "1                                                NaN       90929  \n",
       "2                                                NaN     6408303  \n",
       "3  æ±äº¬ãã£ãºãã¼ãªã¾ã¼ãã®å\n",
       "ã­ã£ã...       96255  \n",
       "4  å®¶ã«å¸°ã£ã¦ãããµã©ãªã¼ãã³ã®ãã...      108408  "
      ]
     },
     "execution_count": 128,
     "metadata": {},
     "output_type": "execute_result"
    }
   ],
   "source": [
    "video[\"pred_views\"]=video['views']\n",
    "\n",
    "video.head()"
   ]
  },
  {
   "cell_type": "code",
   "execution_count": 129,
   "metadata": {},
   "outputs": [],
   "source": [
    "video.drop(['views'], axis=1, inplace=True)\n"
   ]
  },
  {
   "cell_type": "code",
   "execution_count": 130,
   "metadata": {},
   "outputs": [
    {
     "data": {
      "text/html": [
       "<div>\n",
       "<style scoped>\n",
       "    .dataframe tbody tr th:only-of-type {\n",
       "        vertical-align: middle;\n",
       "    }\n",
       "\n",
       "    .dataframe tbody tr th {\n",
       "        vertical-align: top;\n",
       "    }\n",
       "\n",
       "    .dataframe thead th {\n",
       "        text-align: right;\n",
       "    }\n",
       "</style>\n",
       "<table border=\"1\" class=\"dataframe\">\n",
       "  <thead>\n",
       "    <tr style=\"text-align: right;\">\n",
       "      <th></th>\n",
       "      <th>video_id</th>\n",
       "      <th>trending_date</th>\n",
       "      <th>title</th>\n",
       "      <th>channel_title</th>\n",
       "      <th>category_id</th>\n",
       "      <th>publish_time</th>\n",
       "      <th>tags</th>\n",
       "      <th>likes</th>\n",
       "      <th>dislikes</th>\n",
       "      <th>comment_count</th>\n",
       "      <th>thumbnail_link</th>\n",
       "      <th>comments_disabled</th>\n",
       "      <th>ratings_disabled</th>\n",
       "      <th>video_error_or_removed</th>\n",
       "      <th>description</th>\n",
       "      <th>pred_views</th>\n",
       "    </tr>\n",
       "  </thead>\n",
       "  <tbody>\n",
       "    <tr>\n",
       "      <th>0</th>\n",
       "      <td>5ugKfHgsmYw</td>\n",
       "      <td>18.07.02</td>\n",
       "      <td>é¸èªããªãåç´ã«è½ä¸ï¼è·¯ä¸ã®è»ã...</td>\n",
       "      <td>æäºéä¿¡æ åã»ã³ã¿ã¼</td>\n",
       "      <td>25</td>\n",
       "      <td>2018-02-06T03:04:37.000Z</td>\n",
       "      <td>äºæ",
       "|\"ä½è³\"|\"ä½è³ç\"|\"ããªã³ãã¿ã...</td>\n",
       "      <td>591</td>\n",
       "      <td>189</td>\n",
       "      <td>0</td>\n",
       "      <td>https://i.ytimg.com/vi/5ugKfHgsmYw/default.jpg</td>\n",
       "      <td>True</td>\n",
       "      <td>False</td>\n",
       "      <td>False</td>\n",
       "      <td>ä½è³çç¥å¼å¸ã®æ°å®¶ã«å¢è½ããé¸ä...</td>\n",
       "      <td>188085</td>\n",
       "    </tr>\n",
       "    <tr>\n",
       "      <th>1</th>\n",
       "      <td>ohObafdd34Y</td>\n",
       "      <td>18.07.02</td>\n",
       "      <td>ã¤ããQ ãç¥­ãç·å®®å·Ãæè¶ å·¨å¤§ã...</td>\n",
       "      <td>ç¥è°·ãããª Kamiya Erina 2</td>\n",
       "      <td>1</td>\n",
       "      <td>2018-02-06T04:01:56.000Z</td>\n",
       "      <td>[none]</td>\n",
       "      <td>442</td>\n",
       "      <td>88</td>\n",
       "      <td>174</td>\n",
       "      <td>https://i.ytimg.com/vi/ohObafdd34Y/default.jpg</td>\n",
       "      <td>False</td>\n",
       "      <td>False</td>\n",
       "      <td>False</td>\n",
       "      <td>NaN</td>\n",
       "      <td>90929</td>\n",
       "    </tr>\n",
       "    <tr>\n",
       "      <th>2</th>\n",
       "      <td>aBr2kKAHN6M</td>\n",
       "      <td>18.07.02</td>\n",
       "      <td>Live Views of Starman</td>\n",
       "      <td>SpaceX</td>\n",
       "      <td>28</td>\n",
       "      <td>2018-02-06T21:38:22.000Z</td>\n",
       "      <td>[none]</td>\n",
       "      <td>165892</td>\n",
       "      <td>2331</td>\n",
       "      <td>3006</td>\n",
       "      <td>https://i.ytimg.com/vi/aBr2kKAHN6M/default.jpg</td>\n",
       "      <td>False</td>\n",
       "      <td>False</td>\n",
       "      <td>False</td>\n",
       "      <td>NaN</td>\n",
       "      <td>6408303</td>\n",
       "    </tr>\n",
       "    <tr>\n",
       "      <th>3</th>\n",
       "      <td>5wNnwChvmsQ</td>\n",
       "      <td>18.07.02</td>\n",
       "      <td>æ±äº¬ãã£ãºãã¼ãªã¾ã¼ãã®å",
       "ã­ã£ã...</td>\n",
       "      <td>ã¢ã·ã¿ãã¯ãã¤</td>\n",
       "      <td>25</td>\n",
       "      <td>2018-02-06T06:08:49.000Z</td>\n",
       "      <td>ã¢ã·ã¿ãã¯ãã¤</td>\n",
       "      <td>1165</td>\n",
       "      <td>277</td>\n",
       "      <td>545</td>\n",
       "      <td>https://i.ytimg.com/vi/5wNnwChvmsQ/default.jpg</td>\n",
       "      <td>False</td>\n",
       "      <td>False</td>\n",
       "      <td>False</td>\n",
       "      <td>æ±äº¬ãã£ãºãã¼ãªã¾ã¼ãã®å",
       "ã­ã£ã...</td>\n",
       "      <td>96255</td>\n",
       "    </tr>\n",
       "    <tr>\n",
       "      <th>4</th>\n",
       "      <td>B7J47qFvdsk</td>\n",
       "      <td>18.07.02</td>\n",
       "      <td>æ¦®åå¥ã",
       "ãè¡æã®æ­»ãã ãµãï¼æ ç...</td>\n",
       "      <td>ã·ãããã¥ãã¤</td>\n",
       "      <td>1</td>\n",
       "      <td>2018-02-06T02:30:00.000Z</td>\n",
       "      <td>[none]</td>\n",
       "      <td>1336</td>\n",
       "      <td>74</td>\n",
       "      <td>201</td>\n",
       "      <td>https://i.ytimg.com/vi/B7J47qFvdsk/default.jpg</td>\n",
       "      <td>False</td>\n",
       "      <td>False</td>\n",
       "      <td>False</td>\n",
       "      <td>å®¶ã«å¸°ã£ã¦ãããµã©ãªã¼ãã³ã®ãã...</td>\n",
       "      <td>108408</td>\n",
       "    </tr>\n",
       "  </tbody>\n",
       "</table>\n",
       "</div>"
      ],
      "text/plain": [
       "      video_id trending_date  \\\n",
       "0  5ugKfHgsmYw      18.07.02   \n",
       "1  ohObafdd34Y      18.07.02   \n",
       "2  aBr2kKAHN6M      18.07.02   \n",
       "3  5wNnwChvmsQ      18.07.02   \n",
       "4  B7J47qFvdsk      18.07.02   \n",
       "\n",
       "                                               title  \\\n",
       "0  é¸èªããªãåç´ã«è½ä¸ï¼è·¯ä¸ã®è»ã...   \n",
       "1  ã¤ããQ ãç¥­ãç·å®®å·Ãæè¶ å·¨å¤§ã...   \n",
       "2                              Live Views of Starman   \n",
       "3  æ±äº¬ãã£ãºãã¼ãªã¾ã¼ãã®å\n",
       "ã­ã£ã...   \n",
       "4  æ¦®åå¥ã\n",
       "ãè¡æã®æ­»ãã ãµãï¼æ ç...   \n",
       "\n",
       "                    channel_title  category_id              publish_time  \\\n",
       "0  æäºéä¿¡æ åã»ã³ã¿ã¼           25  2018-02-06T03:04:37.000Z   \n",
       "1  ç¥è°·ãããª Kamiya Erina 2            1  2018-02-06T04:01:56.000Z   \n",
       "2                          SpaceX           28  2018-02-06T21:38:22.000Z   \n",
       "3           ã¢ã·ã¿ãã¯ãã¤           25  2018-02-06T06:08:49.000Z   \n",
       "4           ã·ãããã¥ãã¤            1  2018-02-06T02:30:00.000Z   \n",
       "\n",
       "                                                tags   likes  dislikes  \\\n",
       "0  äºæ\n",
       "|\"ä½è³\"|\"ä½è³ç\"|\"ããªã³ãã¿ã...     591       189   \n",
       "1                                             [none]     442        88   \n",
       "2                                             [none]  165892      2331   \n",
       "3                              ã¢ã·ã¿ãã¯ãã¤    1165       277   \n",
       "4                                             [none]    1336        74   \n",
       "\n",
       "   comment_count                                  thumbnail_link  \\\n",
       "0              0  https://i.ytimg.com/vi/5ugKfHgsmYw/default.jpg   \n",
       "1            174  https://i.ytimg.com/vi/ohObafdd34Y/default.jpg   \n",
       "2           3006  https://i.ytimg.com/vi/aBr2kKAHN6M/default.jpg   \n",
       "3            545  https://i.ytimg.com/vi/5wNnwChvmsQ/default.jpg   \n",
       "4            201  https://i.ytimg.com/vi/B7J47qFvdsk/default.jpg   \n",
       "\n",
       "   comments_disabled  ratings_disabled  video_error_or_removed  \\\n",
       "0               True             False                   False   \n",
       "1              False             False                   False   \n",
       "2              False             False                   False   \n",
       "3              False             False                   False   \n",
       "4              False             False                   False   \n",
       "\n",
       "                                         description  pred_views  \n",
       "0  ä½è³çç¥å¼å¸ã®æ°å®¶ã«å¢è½ããé¸ä...      188085  \n",
       "1                                                NaN       90929  \n",
       "2                                                NaN     6408303  \n",
       "3  æ±äº¬ãã£ãºãã¼ãªã¾ã¼ãã®å\n",
       "ã­ã£ã...       96255  \n",
       "4  å®¶ã«å¸°ã£ã¦ãããµã©ãªã¼ãã³ã®ãã...      108408  "
      ]
     },
     "execution_count": 130,
     "metadata": {},
     "output_type": "execute_result"
    }
   ],
   "source": [
    "video.head()"
   ]
  },
  {
   "cell_type": "code",
   "execution_count": null,
   "metadata": {},
   "outputs": [],
   "source": [
    "\n"
   ]
  },
  {
   "cell_type": "code",
   "execution_count": null,
   "metadata": {},
   "outputs": [],
   "source": []
  },
  {
   "cell_type": "code",
   "execution_count": 131,
   "metadata": {
    "scrolled": true
   },
   "outputs": [],
   "source": [
    "video['publish_time'] = pd.to_datetime(video['publish_time'], format='%Y-%m-%dT%H:%M:%S.%fZ')"
   ]
  },
  {
   "cell_type": "code",
   "execution_count": 132,
   "metadata": {},
   "outputs": [
    {
     "data": {
      "text/plain": [
       "video_id                     0\n",
       "trending_date                0\n",
       "title                        0\n",
       "channel_title                0\n",
       "category_id                  0\n",
       "publish_time                 0\n",
       "tags                         0\n",
       "likes                        0\n",
       "dislikes                     0\n",
       "comment_count                0\n",
       "thumbnail_link               0\n",
       "comments_disabled            0\n",
       "ratings_disabled             0\n",
       "video_error_or_removed       0\n",
       "description               2124\n",
       "pred_views                   0\n",
       "dtype: int64"
      ]
     },
     "execution_count": 132,
     "metadata": {},
     "output_type": "execute_result"
    }
   ],
   "source": [
    "video.isnull().sum()"
   ]
  },
  {
   "cell_type": "code",
   "execution_count": 133,
   "metadata": {},
   "outputs": [
    {
     "data": {
      "text/plain": [
       "<matplotlib.axes._subplots.AxesSubplot at 0x1c30249128>"
      ]
     },
     "execution_count": 133,
     "metadata": {},
     "output_type": "execute_result"
    },
    {
     "data": {
      "image/png": "[encoded data removed]",
      "text/plain": [
       "<Figure size 432x288 with 1 Axes>"
      ]
     },
     "metadata": {
      "needs_background": "light"
     },
     "output_type": "display_data"
    }
   ],
   "source": [
    "sns.heatmap(video.isnull(), yticklabels=False, cbar=False, cmap='YlGnBu')"
   ]
  },
  {
   "cell_type": "code",
   "execution_count": 134,
   "metadata": {},
   "outputs": [],
   "source": [
    "video=video.dropna()"
   ]
  },
  {
   "cell_type": "code",
   "execution_count": 135,
   "metadata": {},
   "outputs": [
    {
     "data": {
      "text/plain": [
       "<matplotlib.axes._subplots.AxesSubplot at 0x1c2eb2c9e8>"
      ]
     },
     "execution_count": 135,
     "metadata": {},
     "output_type": "execute_result"
    },
    {
     "data": {
      "image/png": "[encoded data removed]",
      "text/plain": [
       "<Figure size 432x288 with 1 Axes>"
      ]
     },
     "metadata": {
      "needs_background": "light"
     },
     "output_type": "display_data"
    }
   ],
   "source": [
    "sns.heatmap(video.isnull(), yticklabels=False, cbar=False, cmap='YlGnBu')"
   ]
  },
  {
   "cell_type": "code",
   "execution_count": 136,
   "metadata": {},
   "outputs": [
    {
     "data": {
      "text/html": [
       "<div>\n",
       "<style scoped>\n",
       "    .dataframe tbody tr th:only-of-type {\n",
       "        vertical-align: middle;\n",
       "    }\n",
       "\n",
       "    .dataframe tbody tr th {\n",
       "        vertical-align: top;\n",
       "    }\n",
       "\n",
       "    .dataframe thead th {\n",
       "        text-align: right;\n",
       "    }\n",
       "</style>\n",
       "<table border=\"1\" class=\"dataframe\">\n",
       "  <thead>\n",
       "    <tr style=\"text-align: right;\">\n",
       "      <th></th>\n",
       "      <th>pred_views</th>\n",
       "      <th>likes</th>\n",
       "      <th>dislikes</th>\n",
       "      <th>title</th>\n",
       "    </tr>\n",
       "  </thead>\n",
       "  <tbody>\n",
       "    <tr>\n",
       "      <th>1752</th>\n",
       "      <td>231262</td>\n",
       "      <td>0</td>\n",
       "      <td>0</td>\n",
       "      <td>Bhadragol, 16th February 2018, Full Episode 159</td>\n",
       "    </tr>\n",
       "    <tr>\n",
       "      <th>2448</th>\n",
       "      <td>4487</td>\n",
       "      <td>50</td>\n",
       "      <td>4</td>\n",
       "      <td>2018å¹´2æ21æ¥ ãã¯ããå¯ºã¡ããæ´»å...</td>\n",
       "    </tr>\n",
       "    <tr>\n",
       "      <th>18338</th>\n",
       "      <td>151849</td>\n",
       "      <td>1930</td>\n",
       "      <td>203</td>\n",
       "      <td>WANTED SA RADYO FULL EPISODE | May 31, 2018</td>\n",
       "    </tr>\n",
       "    <tr>\n",
       "      <th>13115</th>\n",
       "      <td>622583</td>\n",
       "      <td>1295</td>\n",
       "      <td>12591</td>\n",
       "      <td>[Tik Tok]ããã¯ãã°ããæ¶ãããã¾ã...</td>\n",
       "    </tr>\n",
       "    <tr>\n",
       "      <th>351</th>\n",
       "      <td>140080</td>\n",
       "      <td>3827</td>\n",
       "      <td>100</td>\n",
       "      <td>å",
       "¬éèµ°è¡å¯ã®ã«ã¼ããä½ã part3 ã...</td>\n",
       "    </tr>\n",
       "  </tbody>\n",
       "</table>\n",
       "</div>"
      ],
      "text/plain": [
       "       pred_views  likes  dislikes  \\\n",
       "1752       231262      0         0   \n",
       "2448         4487     50         4   \n",
       "18338      151849   1930       203   \n",
       "13115      622583   1295     12591   \n",
       "351        140080   3827       100   \n",
       "\n",
       "                                                   title  \n",
       "1752     Bhadragol, 16th February 2018, Full Episode 159  \n",
       "2448   2018å¹´2æ21æ¥ ãã¯ããå¯ºã¡ããæ´»å...  \n",
       "18338        WANTED SA RADYO FULL EPISODE | May 31, 2018  \n",
       "13115  [Tik Tok]ããã¯ãã°ããæ¶ãããã¾ã...  \n",
       "351    å\n",
       "¬éèµ°è¡å¯ã®ã«ã¼ããä½ã part3 ã...  "
      ]
     },
     "execution_count": 136,
     "metadata": {},
     "output_type": "execute_result"
    }
   ],
   "source": [
    "selected=['pred_views','likes','dislikes','title']\n",
    "video[selected].sample(5)"
   ]
  },
  {
   "cell_type": "code",
   "execution_count": 137,
   "metadata": {},
   "outputs": [
    {
     "data": {
      "text/html": [
       "<div>\n",
       "<style scoped>\n",
       "    .dataframe tbody tr th:only-of-type {\n",
       "        vertical-align: middle;\n",
       "    }\n",
       "\n",
       "    .dataframe tbody tr th {\n",
       "        vertical-align: top;\n",
       "    }\n",
       "\n",
       "    .dataframe thead th {\n",
       "        text-align: right;\n",
       "    }\n",
       "</style>\n",
       "<table border=\"1\" class=\"dataframe\">\n",
       "  <thead>\n",
       "    <tr style=\"text-align: right;\">\n",
       "      <th></th>\n",
       "      <th>pred_views</th>\n",
       "      <th>likes</th>\n",
       "      <th>dislikes</th>\n",
       "      <th>comment_count</th>\n",
       "    </tr>\n",
       "  </thead>\n",
       "  <tbody>\n",
       "    <tr>\n",
       "      <th>0</th>\n",
       "      <td>188085</td>\n",
       "      <td>591</td>\n",
       "      <td>189</td>\n",
       "      <td>0</td>\n",
       "    </tr>\n",
       "    <tr>\n",
       "      <th>3</th>\n",
       "      <td>96255</td>\n",
       "      <td>1165</td>\n",
       "      <td>277</td>\n",
       "      <td>545</td>\n",
       "    </tr>\n",
       "    <tr>\n",
       "      <th>4</th>\n",
       "      <td>108408</td>\n",
       "      <td>1336</td>\n",
       "      <td>74</td>\n",
       "      <td>201</td>\n",
       "    </tr>\n",
       "    <tr>\n",
       "      <th>5</th>\n",
       "      <td>193593</td>\n",
       "      <td>0</td>\n",
       "      <td>0</td>\n",
       "      <td>53</td>\n",
       "    </tr>\n",
       "    <tr>\n",
       "      <th>7</th>\n",
       "      <td>66272</td>\n",
       "      <td>51</td>\n",
       "      <td>167</td>\n",
       "      <td>164</td>\n",
       "    </tr>\n",
       "  </tbody>\n",
       "</table>\n",
       "</div>"
      ],
      "text/plain": [
       "   pred_views  likes  dislikes  comment_count\n",
       "0      188085    591       189              0\n",
       "3       96255   1165       277            545\n",
       "4      108408   1336        74            201\n",
       "5      193593      0         0             53\n",
       "7       66272     51       167            164"
      ]
     },
     "execution_count": 137,
     "metadata": {},
     "output_type": "execute_result"
    }
   ],
   "source": [
    "video[['pred_views','likes','dislikes','comment_count']].head()"
   ]
  },
  {
   "cell_type": "code",
   "execution_count": null,
   "metadata": {},
   "outputs": [],
   "source": []
  },
  {
   "cell_type": "code",
   "execution_count": null,
   "metadata": {},
   "outputs": [],
   "source": []
  },
  {
   "cell_type": "code",
   "execution_count": null,
   "metadata": {},
   "outputs": [],
   "source": []
  },
  {
   "cell_type": "code",
   "execution_count": 138,
   "metadata": {},
   "outputs": [
    {
     "data": {
      "image/png": "[encoded data removed]",
      "text/plain": [
       "<Figure size 432x288 with 1 Axes>"
      ]
     },
     "metadata": {
      "needs_background": "light"
     },
     "output_type": "display_data"
    }
   ],
   "source": [
    "\n",
    "ax1 = video.plot.scatter(x='likes',y='dislikes')"
   ]
  },
  {
   "cell_type": "code",
   "execution_count": 139,
   "metadata": {},
   "outputs": [
    {
     "data": {
      "image/png": "[encoded data removed]",
      "text/plain": [
       "<Figure size 432x288 with 2 Axes>"
      ]
     },
     "metadata": {
      "needs_background": "light"
     },
     "output_type": "display_data"
    }
   ],
   "source": [
    "corr = video.corr()\n",
    "sns.heatmap(corr, xticklabels=corr.columns, yticklabels=corr.columns)\n",
    "plt.show()"
   ]
  },
  {
   "cell_type": "code",
   "execution_count": 140,
   "metadata": {},
   "outputs": [],
   "source": [
    "publish_year = []\n",
    "d = {}\n",
    "cnt = 0\n",
    "for i in video['publish_time']:\n",
    "    publish_year.append(i.year)\n",
    "\n",
    "video['publish_year'] = publish_year"
   ]
  },
  {
   "cell_type": "code",
   "execution_count": 141,
   "metadata": {},
   "outputs": [
    {
     "data": {
      "text/html": [
       "<div>\n",
       "<style scoped>\n",
       "    .dataframe tbody tr th:only-of-type {\n",
       "        vertical-align: middle;\n",
       "    }\n",
       "\n",
       "    .dataframe tbody tr th {\n",
       "        vertical-align: top;\n",
       "    }\n",
       "\n",
       "    .dataframe thead th {\n",
       "        text-align: right;\n",
       "    }\n",
       "</style>\n",
       "<table border=\"1\" class=\"dataframe\">\n",
       "  <thead>\n",
       "    <tr style=\"text-align: right;\">\n",
       "      <th></th>\n",
       "      <th>likes</th>\n",
       "      <th>dislikes</th>\n",
       "      <th>pred_views</th>\n",
       "      <th>comment_count</th>\n",
       "    </tr>\n",
       "    <tr>\n",
       "      <th>publish_year</th>\n",
       "      <th></th>\n",
       "      <th></th>\n",
       "      <th></th>\n",
       "      <th></th>\n",
       "    </tr>\n",
       "  </thead>\n",
       "  <tbody>\n",
       "    <tr>\n",
       "      <th>2015</th>\n",
       "      <td>56.000000</td>\n",
       "      <td>0.000000</td>\n",
       "      <td>6965.000000</td>\n",
       "      <td>9.000000</td>\n",
       "    </tr>\n",
       "    <tr>\n",
       "      <th>2017</th>\n",
       "      <td>15.000000</td>\n",
       "      <td>0.000000</td>\n",
       "      <td>6012.000000</td>\n",
       "      <td>4.000000</td>\n",
       "    </tr>\n",
       "    <tr>\n",
       "      <th>2018</th>\n",
       "      <td>8810.319037</td>\n",
       "      <td>389.578441</td>\n",
       "      <td>275190.591705</td>\n",
       "      <td>1300.471352</td>\n",
       "    </tr>\n",
       "  </tbody>\n",
       "</table>\n",
       "</div>"
      ],
      "text/plain": [
       "                    likes    dislikes     pred_views  comment_count\n",
       "publish_year                                                       \n",
       "2015            56.000000    0.000000    6965.000000       9.000000\n",
       "2017            15.000000    0.000000    6012.000000       4.000000\n",
       "2018          8810.319037  389.578441  275190.591705    1300.471352"
      ]
     },
     "execution_count": 141,
     "metadata": {},
     "output_type": "execute_result"
    },
    {
     "data": {
      "image/png": "[encoded data removed]",
      "text/plain": [
       "<Figure size 432x288 with 1 Axes>"
      ]
     },
     "metadata": {
      "needs_background": "light"
     },
     "output_type": "display_data"
    }
   ],
   "source": [
    "sns.barplot(x=video[\"publish_year\"],y=video[\"comment_count\"])\n",
    "video.groupby(\"publish_year\")[\"likes\",\"dislikes\",\"pred_views\",\"comment_count\"].mean()\n"
   ]
  },
  {
   "cell_type": "code",
   "execution_count": 142,
   "metadata": {},
   "outputs": [],
   "source": [
    "trending_month = []\n",
    "m = {}\n",
    "cntr = 0\n",
    "for i in video['publish_time']:\n",
    "    trending_month.append(i.month)\n",
    "\n",
    "video['trending_month'] = trending_month"
   ]
  },
  {
   "cell_type": "code",
   "execution_count": 143,
   "metadata": {},
   "outputs": [
    {
     "data": {
      "text/plain": [
       "<matplotlib.axes._subplots.AxesSubplot at 0x1c2ad7f2b0>"
      ]
     },
     "execution_count": 143,
     "metadata": {},
     "output_type": "execute_result"
    },
    {
     "data": {
      "image/png": "[encoded data removed]",
      "text/plain": [
       "<Figure size 432x288 with 1 Axes>"
      ]
     },
     "metadata": {
      "needs_background": "light"
     },
     "output_type": "display_data"
    }
   ],
   "source": [
    "sns.countplot(x=video[\"trending_month\"],data=video)"
   ]
  },
  {
   "cell_type": "code",
   "execution_count": 144,
   "metadata": {},
   "outputs": [
    {
     "data": {
      "text/plain": [
       "<matplotlib.axes._subplots.AxesSubplot at 0x1c2f3d3358>"
      ]
     },
     "execution_count": 144,
     "metadata": {},
     "output_type": "execute_result"
    },
    {
     "data": {
      "image/png": "[encoded data removed]",
      "text/plain": [
       "<Figure size 432x288 with 1 Axes>"
      ]
     },
     "metadata": {
      "needs_background": "light"
     },
     "output_type": "display_data"
    }
   ],
   "source": [
    "sns.barplot(x=video[\"trending_month\"],y=video[\"likes\"])"
   ]
  },
  {
   "cell_type": "code",
   "execution_count": 145,
   "metadata": {},
   "outputs": [
    {
     "data": {
      "text/plain": [
       "<matplotlib.axes._subplots.AxesSubplot at 0x1c2f412b00>"
      ]
     },
     "execution_count": 145,
     "metadata": {},
     "output_type": "execute_result"
    },
    {
     "data": {
      "image/png": "[encoded data removed]",
      "text/plain": [
       "<Figure size 432x288 with 1 Axes>"
      ]
     },
     "metadata": {
      "needs_background": "light"
     },
     "output_type": "display_data"
    }
   ],
   "source": [
    "sns.barplot(x=video[\"trending_month\"],y=video[\"dislikes\"])"
   ]
  },
  {
   "cell_type": "code",
   "execution_count": 146,
   "metadata": {},
   "outputs": [
    {
     "data": {
      "text/plain": [
       "<matplotlib.axes._subplots.AxesSubplot at 0x1c2f923eb8>"
      ]
     },
     "execution_count": 146,
     "metadata": {},
     "output_type": "execute_result"
    },
    {
     "data": {
      "image/png": "[encoded data removed]",
      "text/plain": [
       "<Figure size 432x288 with 1 Axes>"
      ]
     },
     "metadata": {
      "needs_background": "light"
     },
     "output_type": "display_data"
    }
   ],
   "source": [
    "sns.barplot(x=video[\"trending_month\"],y=video[\"pred_views\"])"
   ]
  },
  {
   "cell_type": "code",
   "execution_count": 147,
   "metadata": {},
   "outputs": [
    {
     "data": {
      "text/html": [
       "<div>\n",
       "<style scoped>\n",
       "    .dataframe tbody tr th:only-of-type {\n",
       "        vertical-align: middle;\n",
       "    }\n",
       "\n",
       "    .dataframe tbody tr th {\n",
       "        vertical-align: top;\n",
       "    }\n",
       "\n",
       "    .dataframe thead th {\n",
       "        text-align: right;\n",
       "    }\n",
       "</style>\n",
       "<table border=\"1\" class=\"dataframe\">\n",
       "  <thead>\n",
       "    <tr style=\"text-align: right;\">\n",
       "      <th></th>\n",
       "      <th>likes</th>\n",
       "      <th>dislikes</th>\n",
       "      <th>pred_views</th>\n",
       "      <th>comment_count</th>\n",
       "    </tr>\n",
       "    <tr>\n",
       "      <th>trending_month</th>\n",
       "      <th></th>\n",
       "      <th></th>\n",
       "      <th></th>\n",
       "      <th></th>\n",
       "    </tr>\n",
       "  </thead>\n",
       "  <tbody>\n",
       "    <tr>\n",
       "      <th>1</th>\n",
       "      <td>483.000000</td>\n",
       "      <td>184.000000</td>\n",
       "      <td>497363.333333</td>\n",
       "      <td>73.666667</td>\n",
       "    </tr>\n",
       "    <tr>\n",
       "      <th>2</th>\n",
       "      <td>5412.916026</td>\n",
       "      <td>273.522472</td>\n",
       "      <td>230027.716144</td>\n",
       "      <td>739.786221</td>\n",
       "    </tr>\n",
       "    <tr>\n",
       "      <th>3</th>\n",
       "      <td>7055.923295</td>\n",
       "      <td>337.098776</td>\n",
       "      <td>230118.539336</td>\n",
       "      <td>1003.864729</td>\n",
       "    </tr>\n",
       "    <tr>\n",
       "      <th>4</th>\n",
       "      <td>7455.498127</td>\n",
       "      <td>346.598716</td>\n",
       "      <td>256154.761102</td>\n",
       "      <td>943.692081</td>\n",
       "    </tr>\n",
       "    <tr>\n",
       "      <th>5</th>\n",
       "      <td>13975.667807</td>\n",
       "      <td>574.420749</td>\n",
       "      <td>366703.540535</td>\n",
       "      <td>2269.982674</td>\n",
       "    </tr>\n",
       "    <tr>\n",
       "      <th>6</th>\n",
       "      <td>9037.534125</td>\n",
       "      <td>354.853116</td>\n",
       "      <td>276010.046489</td>\n",
       "      <td>1329.336301</td>\n",
       "    </tr>\n",
       "    <tr>\n",
       "      <th>8</th>\n",
       "      <td>15.000000</td>\n",
       "      <td>0.000000</td>\n",
       "      <td>6012.000000</td>\n",
       "      <td>4.000000</td>\n",
       "    </tr>\n",
       "    <tr>\n",
       "      <th>11</th>\n",
       "      <td>56.000000</td>\n",
       "      <td>0.000000</td>\n",
       "      <td>6965.000000</td>\n",
       "      <td>9.000000</td>\n",
       "    </tr>\n",
       "  </tbody>\n",
       "</table>\n",
       "</div>"
      ],
      "text/plain": [
       "                       likes    dislikes     pred_views  comment_count\n",
       "trending_month                                                        \n",
       "1                 483.000000  184.000000  497363.333333      73.666667\n",
       "2                5412.916026  273.522472  230027.716144     739.786221\n",
       "3                7055.923295  337.098776  230118.539336    1003.864729\n",
       "4                7455.498127  346.598716  256154.761102     943.692081\n",
       "5               13975.667807  574.420749  366703.540535    2269.982674\n",
       "6                9037.534125  354.853116  276010.046489    1329.336301\n",
       "8                  15.000000    0.000000    6012.000000       4.000000\n",
       "11                 56.000000    0.000000    6965.000000       9.000000"
      ]
     },
     "execution_count": 147,
     "metadata": {},
     "output_type": "execute_result"
    },
    {
     "data": {
      "image/png": "[encoded data removed]",
      "text/plain": [
       "<Figure size 432x288 with 1 Axes>"
      ]
     },
     "metadata": {
      "needs_background": "light"
     },
     "output_type": "display_data"
    }
   ],
   "source": [
    "sns.barplot(x=video[\"trending_month\"],y=video[\"comment_count\"])\n",
    "video.groupby(\"trending_month\")[\"likes\",\"dislikes\",\"pred_views\",\"comment_count\"].mean()"
   ]
  },
  {
   "cell_type": "code",
   "execution_count": 148,
   "metadata": {},
   "outputs": [
    {
     "name": "stdout",
     "output_type": "stream",
     "text": [
      "ãå¹ãããè² ããè©±é¡ã®é¢ç½ãç»åé                                                                                                                                                                                             17\n",
      "ãªã¯ã¨ã¹ããå³èã§å¼¾ãèªãã¾ãï¼ï¼ï¼                                                                                                                                                                                          14\n",
      "è¥¿åç§æ¨¹ã®è¨å ±ãæ±ååä¹ãäºè¨ãã¦ããäºå®ãçºè¦ï¼ï¼ï¼å¹´åã®éè¦ã§è¦ããå",
      "å®¹ã¨ã¯ï¼                                                                                                                      8\n",
      "é¸èªããªãåç´ã«è½ä¸ï¼è·¯ä¸ã®è»ãæ®å½±                                                                                                                                                                                           8\n",
      "ãæå¼·ã®é£¯ãã­ãçµ¶å¯¾ã«æ·±å¤ã«è¦ãªãã§ãã ããã                                                                                                                                                                            7\n",
      "ãéåå¾ãæ·±å¤ï¼æã®ãã£ãºãã¼ã©ã³ããä¸æ°å³ãããã»ã»ï¼                                                                                                                                                             6\n",
      "ãçç§ãè¡ã®ä¸çªæ±ãæ°´ãæã£ã¦ããå¥´ãä¸çªæ°´ã®ãã¨ç¥ã£ã¦ããï¼                                                                                                                                                    6\n",
      "ãç²ããæºããããï¼æ³ï¼æ¥ï¼å¯ããå³å¸°å®",
      "ã®æ",
      "ï¼Partï¼                                                                                                                                                                     6\n",
      "ä¹æ¨å46 ç½ç³éº»è¡£ã®å¤©çãªæ",
      "åº¦ã«çä¸ Nogizaka46 Shiraishi Mai                                                                                                                                                                     6\n",
      "ãã±ã³ã«å¯¸åãå®¶ã®åã®ã¤ã³ã­ã¼éããã¸ã§ããããã                                                                                                                                                                      6\n",
      "ãããã¯ã­MVããã¯ã­ã¼ãã¼ã¨ãã¤ã¤ã¢ã³ããMusic Video                                                                                                                                                                        6\n",
      "æãã¯ãä½ã£ã¦ã¿ããè¬ã®çç©ã®åµã®ããªã³ã                                                                                                                                                                                  6\n",
      "ã¦ã¼ãã¥ã¼ããã¼ã¹ããã¼ãçæ±ºå®æ¦ï¼éåç¥çµãã1çªããã®ã¯èª°ãã!?ããã«ã­ã³ vs ã³ãã vs ã¦ã¤ãã                                                                                                  6\n",
      "ãå¾©å»ç:ç©ºã®å¢ç/the Garden of Order -Revival-ãåç¥CM                                                                                                                                                                               6\n",
      "ãåçºå®æ³ãå¼è",
      "ã®ãRed Deathãã2BRO.ã                                                                                                                                                                                            6\n",
      "ãæ°ç«¶æãã¬ã¼ã¶ã¼ã¿ã°ã§å§åçå¼·è",
      "ã«ãã³ãã³ã«ãããã¾ããã                                                                                                                                                       6\n",
      "ç«ãããªã Where's my cat?                                                                                                                                                                                                                  6\n",
      "ãªã«ã¡ãããã¦ã¹ã«ãã°ãããã!?åºãæº¶å²©ã«ãªãâ",
      "ããã¡è±åºã²ã¼ã âªFloor is Lava challenge ããã¡ã ãã¾ãMammy                                                                                            6\n",
      "ãã¬ããã»ãã³å°çã32thã·ã³ã¯ãã«ãFFè¡ã                                                                                                                                                                                     6\n",
      "ãè¶",
      "é«ç´ã¹ã¼ãã¼ãæåç³äºï¼ä¸åé£ã¹åãã¾ã§å¸°ãã¾10ï¼                                                                                                                                                                 6\n",
      "100åãã¤ã½ã¼ã®æåã°ããº30åè²·ã£ã¦å",
      "¨é¨ãã£ã¦ã¿ãï¼ï¼                                                                                                                                                                    6\n",
      "ãDHCã5/18(é) æ­¦ç°é¦å½¦Ãé ç°æ",
      "ä¸éÃå±",
      "å³¶ä¸å¹³ãèãéãã¥ã¼ã¹ã                                                                                                                                                        6\n",
      "Mitsuki vs Toroi, Inojin vs Araya, Sarada Win in 3 Seconds - Boruto Chunin Exams, Boruto Ep 58                                                                                                                                                   6\n",
      "ããããªãã®ã«ãã¼ã¹ããµãã£ããã¦é£ã¸ããã¯ãç¾å³ããããããã­ï¼                                                                                                                                              5\n",
      "ç±³æ´¥çå¸«  MVãLemonã                                                                                                                                                                                                                      5\n",
      "ç¦äºã®å¤§éªã»ç«ã¡å¾ç2æ¥ç®ã®æ 2018.2.7                                                                                                                                                                                             5\n",
      "è¶",
      "è©±é¡ã«ãªã£ãã¤ã³ã¿ãã¥ã¼ã¾ã¨ãï¼æå¼·æç·ï¼                                                                                                                                                                               5\n",
      "Germa 66 Transformation [Vinsmokes] | vs Big mom Pirates - One Piece 839                                                                                                                                                                         5\n",
      "R1ãããã·ãã§ç´ºéã¶ãã¾ãæ¿±ç°ç¥å¤ªéã«å¯©æ»çµæã®ç¶æ³ãä¼ãã                                                                                                                                                        5\n",
      "ãªãç§ã¯ï¼é±éã100åã®å",
      "ä¸ãããµãã«ãã¦ãã¾ãããï¼                                                                                                                                                                   5\n",
      "                                                                                                                                                                                                                                                ..\n",
      "KinKi Kidsã®ãã³ããã¼ã³ 2018å¹´4æ21æ¥ãé«æ©å",
      "å",
      "¸ã¨æµæ¯å¯¿ãã ããç·ç£¨ãï¼ã                                                                                                                                           1\n",
      "ä¸­å±±è¨å¿µ2018ãæ é ç¢ºå®å¾ãåé¦¬ã®è©ä¾¡                                                                                                                                                                                             1\n",
      "ãæ´ç¬å­ç¬ãç¥ï¼çèª100æ¥ï¼ããã¡å¤ªã®ç¬ã¢ãã¬ã¿ãªï¼ï¼ï¼                                                                                                                                                                1\n",
      "ï¼è²¡åæ¬¡å®ã»ã¯ãã©çºè¨ï¼ãã¬ãææ¥ãç·æ¥è¨è",
      "ä¼è¦ 2018-4-19                                                                                                                                                               1\n",
      "ãåæ¢åµã³ãã³ãã³ãã³ããã¢ãã¢ãã·ã¼ã³ã¾ã¨ãPart3                                                                                                                                                                       1\n",
      "é£¯ãå°ããã«ã©ãªã±ãããæ¾é                                                                                                                                                                                                       1\n",
      "ãæ¼«ç»åç»ã SPLATOON é·ç·¨æ¼«ç» : ãã¹ãã©ãã¥ã¼ã³ãç·ãã¼ã ã·ãªã¼ãºã23ã                                                                                                                                           1\n",
      "CHANSUNG (From 2PM) Mini AlbumãComplexãTEASER                                                                                                                                                                                                1\n",
      "80ç³»ã´ã©ã¯ã·ã¼å¾æã®ã¨ã¢ã­ãã¼ãããã¾ããã³ã³ããªã¼ãã«ã¼ãªããªããããå¾ãªæ°è»ã«ä¹ãã¾ããï½KUHL Premium VOXY                                                                                    1\n",
      "ä»®æ³éè²¨åå¼æã¶ã¤ã(Zaif)ã§ç°å¸¸é£çºï¼GOXæ¸å¿µã                                                                                                                                                                               1\n",
      "ã¹ã­ã¼ãªã¤ã³ã³ãã¡                                                                                                                                                                                                                      1\n",
      "ä»æ¥ã®ã·ã£ã³ã·ã£ã³ãï¼æï¼æ¥ãä¸éåç©åãé¦é¦ããã³ã                                                                                                                                                                1\n",
      "ãå¤§é£ããèæ±ãã©ã10çãé£ãå°½ããï¼ï¼                                                                                                                                                                                      1\n",
      "ç¥ã®æã«ã¤ãã¦                                                                                                                                                                                                                            1\n",
      "Moiï½oiRadio ç¬¬6ãã                                                                                                                                                                                                                         1\n",
      "ã¤ããºãã¦ã©ã¼ã«ã¼Vol.10ãã¤ããºãã¤ã¬ãã³ ã¯ãªã¨ã¤ã¿ã¼ãºã                                                                                                                                                            1\n",
      "Pilipinas Got Talent 2018 Auditions: Josief Valenzuela - Voice Impersonation                                                                                                                                                                     1\n",
      "ã±ã¼ã­ãã¤ã­ã³ã°ï¼ä¸äºå®¶ã®ã±ã¼ã­éçé£ããããä½åé£ã¹ãããï¼ããããå¾ï¼å¤§ã®çå",
      "ãããå¤§é£ãã«ãã£ã¬ã³ã¸ãããã®ã®â¦ãã¹ã¤ã¼ãã¡ããã­ãããã¿ã¤Ãç«¹æ°¸ããã     1\n",
      "ãKALDIè³¼å",
      "¥åãã«ã«ãã£ã®ããããããªãè²·ãåå/ã¢ã¬ã³ã¸ã¬ã·ããkattyanneruã                                                                                                                                      1\n",
      "[å°ãã¿é]ãã©ã¤ãã¼ãé£ã&ã»ãããç±ãããï¼&åãã¦ã®é¬¼é¯é®¨                                                                                                                                                         1\n",
      "5/24çºå£²!!ããã«ã½ãï¼ ãã³ã·ã³ã°ã»ã¹ã¿ã¼ãã¤ãããªã¼ããã³ã°ã ã¼ãã¼                                                                                                                                             1\n",
      "ãã®ä¿ºæ§ã«ãã¼ãã¹æããã¦ãå¤©äºã¾ã§è¡ããããã¼ã«ã¯ããã â¦ãã¹ã­ãããè¾ãããããä»æ¥ã®PGGã                                                                                                    1\n",
      "å±±å£éä¹ã®ããäºãå½åå¤ªä¸ãããããã§æ¼ããä¸åé©æï¼TOKIOã®ã¡ã³ãã¼ã¯ä½æ",
      "æ­¢ããããªãã£ãã®ãâ¦ ãè¸è½CHã»è®ã                                                                             1\n",
      "ãèµ°ããã³ã¿ã³ãEP.19 ããã®é¡ã¯ãã¼ãªã³ã°çããå°ããï¼ãã¬ã¼ã³ååé£ãã§ã!?ãé²å¼¾å°å¹´å£(BTS)ã                                                                                                      1\n",
      "å",
      "¨ç·¨å¯¸åï¼ã¢ã«ãã¡ãã¼ã¯ã§ã¾ã³ããåãï¼ãNERFãACCUSTRIKE ALPHAHAWK / ä»æ¥ã®ãã¼ãã£å #52 | ã¾ãã¡ããã­ã                                                                                                1\n",
      "ãã¾ã®ãã¼ãããåãã¦ã®å®ååï¼ããã¼ã¨å¤§äººã«ãªã£ãåãç¹å ±                                                                                                                                                       1\n",
      "ãç¾½ççµå¼¦ãCiONTUã§ããã¨ã«ãã©ãã³ãã£æ«é²âã¦ã",
      "ãå",
      "¨ç¶æ»ãã¦ãªãã£ãï¼ãã®è¨èã«äºäººã®çµã®æ·±ããæããï¼ï¼å±±æ¬ã¾ã©ãï¼#Yuzuru Hanyu                                                   1\n",
      "ãä½è¤æ­£ä¹",
      " ï½ è¤äºè¡ã ææ°ãã¥ã¼ã¹éå ± 2018å¹´4æ26æ¥                                                                                                                                                                       1\n",
      "äºè¼ªé£è¦ã®ç¾½ççµå¼¦é¸æãå°å",
      "ä»å°ã§ç¥è³ãã¬ã¼ãå¾ã«è¨è",
      "ä¼è¦ï¼2018å¹´4æ22æ¥ï¼                                                                                                                                    1\n",
      "ãé«æ©æ´ä¸ãã2018å¹´3æ22æ¥ãã¶ã»ãã¤ã¹ ããã¾ã§è¨ããï¼                                                                                                                                                                 1\n",
      "Name: title, Length: 11737, dtype: int64\n"
     ]
    }
   ],
   "source": [
    "print(video[\"title\"].value_counts())\n"
   ]
  },
  {
   "cell_type": "code",
   "execution_count": 149,
   "metadata": {},
   "outputs": [
    {
     "name": "stdout",
     "output_type": "stream",
     "text": [
      "DHCãã¬ã                                                                  169\n",
      "é£ãããã§ãããã                                                   145\n",
      "é£ãããé£¯                                                               108\n",
      "MEGWIN TV                                                                      90\n",
      "ã¯ãããè¿·ä½åå ´                                                       88\n",
      "MAXé´æ¨ TV                                                                   86\n",
      "ä»æ¥ã¤ãã¤å¥´ã«ä¼ã£ã                                                 84\n",
      "æ°´æºããã³ã                                                             82\n",
      "é£ãããHOUSE                                                              76\n",
      "Momo and Tenããã¨å¤©                                                       76\n",
      "ãããã¾ã                                                                75\n",
      "é£ãããã¯                                                                72\n",
      "AbemaTVå",
      "¬å¼ YouTube                                                          71\n",
      "TV Derana                                                                      69\n",
      "ANNnewsCH                                                                      65\n",
      "avex                                                                           62\n",
      "Touch Play                                                                     59\n",
      "æ­ãã£ã³ãã«                                                             59\n",
      "kattyanneru/ãã£ã¡ããã­ã                                              57\n",
      "MLG Highlights                                                                 56\n",
      "ãã¤ãµã¤æ¢åµå£                                                          56\n",
      "Kohachannel                                                                    56\n",
      "baseball baseball3                                                             55\n",
      "ã¸ããã©ãã¦ã¹                                                          53\n",
      "ãã«ã«ï¼Hikaruï¼                                                          52\n",
      "å¤§é£ããããã                                                          52\n",
      "Fischer's-ã»ã«ã³ããª-                                                     52\n",
      "Afro Blue                                                                      52\n",
      "æ±æµ·ãªã³ã¨ã¢                                                             52\n",
      "ã¹ã«ã¤ãã¼ã¹                                                             51\n",
      "                                                                             ... \n",
      "è¸è½ã»å¥³ã®ä¿®ç¾",
      "å ´ç ç©¶ãã£ã³ãã«                                   1\n",
      "YunJae LeoDB                                                                    1\n",
      "TencentVideo è",
      "¾è®¯è§é¢                                                       1\n",
      "Channelì¸ììì¦ê²¨ì                                                       1\n",
      "Deluxe Rize                                                                     1\n",
      "æ¿æ²»ã»çµæ¸ã¯ã­ã¼ãºã¢ãã                                            1\n",
      "å±±å£æ¸",
      "                                                                       1\n",
      "ãã¨ã·æº¢ãåºã                                                           1\n",
      "å¸°ã£ã¦ãããã£ã³ãã«è¤äºæµæ                                      1\n",
      "ã¤ããQ 2018                                                                 1\n",
      "ãã©ã¤ã ãã¥ã¼ã¹ - Primenews 2018                                       1\n",
      "yen pham                                                                        1\n",
      "sssä½ã",
      "æ¨                                                                    1\n",
      "ã¸ã£ãã¼ãºJr.ã®é­",
      "åããä¸çã«çºä¿¡ããã!!ãã£ã³ãã«      1\n",
      "CBS Boston                                                                      1\n",
      "NugoBasilaiaa                                                                   1\n",
      "å£°åªåç»ã¾ã¨ã                                                           1\n",
      "æå³ ããã TV                                                             1\n",
      "J8 SPORTS                                                                       1\n",
      "YuYoChannel                                                                     1\n",
      "My Family                                                                       1\n",
      "ã½ãã«ãã                                                                 1\n",
      "4126qwerty                                                                      1\n",
      "GARNiDELiA Official Youtube Channel                                             1\n",
      "Salvage Hunters                                                                 1\n",
      "æººæé­ç¹                                                                    1\n",
      "Happy Elements K.K                                                              1\n",
      "Lestia Ashdoll                                                                  1\n",
      "ì´ëì¤íë¦¬(innisfree)                                                      1\n",
      "Chocolate Cacao ãã§ã³ã¬ã¼ãã«ã«ãª                                     1\n",
      "Name: channel_title, Length: 3982, dtype: int64\n"
     ]
    }
   ],
   "source": [
    "print(video[\"channel_title\"].value_counts())"
   ]
  },
  {
   "cell_type": "code",
   "execution_count": 150,
   "metadata": {},
   "outputs": [
    {
     "name": "stdout",
     "output_type": "stream",
     "text": [
      "[none]                                                                                                                                                                                                                                                                                                                                                                                                                                                                                                                                                                                                                                                                                                                                                                                                                                  1983\n",
      "Fishing|\"bassfishing\"|\"é£ã\"|\"ãã¹é£ã\"|\"ãã©ãã¯ãã¹\"|\"ãã©ãã¯ãã¹é£ã\"|\"ã©ã¤ãã·ã§ã¢ã¸ã®ã³ã°\"|\"ã·ã§ã¢ã¸ã®ã³ã°\"|\"ã¸ã®ã³ã°\"|\"ä½è³ããã§ããã\"|\"é£ãããã§ããã\"|\"æ³³ããé£ã\"|\"ã¢ã¸ã³ã°\"|\"ã¨ã®ã³ã°\"|\"ä½è³\"|\"ç¦å²¡\"|\"é·å´\"|\"å¤§å\"|\"çæ¬\"|\"å®®å´\"|\"é¹¿å",
      "å³¶\"|\"ä¹å·\"|\"ããã£ã±ã\"|\"é¸ã£ã±ã\"|\"éæ± \"|\"ãªã¶ã¼ãã¼\"|\"ã¯ãªã¼ã¯\"|\"å·\"|\"å·ãã¹\"|\"ãã¹ãã£ãã·ã³ã°\"|\"æ¥\"|\"å¤\"|\"ç§\"|\"å¬\"|\"ã«ã¢ã¼ãã£ãã·ã³ã°\"                                                                                                                                                                                                                                                                                                     145\n",
      "æç|\"ãã­ã°\"|\"ã¨ã³ã¿ã¼ãã¤ã¡ã³ã\"|\"ãã£ã¦ã¿ã\"|\"ãã­ã\"|\"ãã¼ãã\"|\"ä½è³ããã§ããã\"|\"é£ãããã§ããã\"                                                                                                                                                                                                                                                                                                                                                                                                                                                                                                                                                                                                                                                                                      108\n",
      "ãã¼ãã|\"ä½è³ããã§ããã\"|\"é£ãããã§ããã\"|\"é£ã\"                                                                                                                                                                                                                                                                                                                                                                                                                                                                                                                                                                                                                                                                                                                                                               76\n",
      "hajime|\"ã¯ããããã¡ãã¼\"|\"funny\"|\"crazy\"|\"japanese\"|\"ã¯ãã\"                                                                                                                                                                                                                                                                                                                                                                                                                                                                                                                                                                                                                                                                                                                                                                  69\n",
      "æ°´æºããã³ã|\"é½å¸ä¼èª¬\"|\"æ¤è¨¼\"|\"å®é¨\"|\"ç§å­¦\"|\"ãç¬ã\"|\"é¢ç½\"|\"é¢ç½ã\"|\"ä¼ç»\"|\"æ¥½ãã\"|\"ã¯ã¯ã¯ã¯\"|\"ã«ã³ã¿\"|\"ããã¼\"                                                                                                                                                                                                                                                                                                                                                                                                                                                                                                                                                                                                                                                                                 64\n",
      "Sri Lanka|\"Sinhala\"|\"TV Derana\"|\"Derana\"|\"DTV\"|\"Lanka\"|\"Premium\"|\"Entertainment\"|\"Deweni Inima\"|\"Dewana Inima\"|\"Deveni Inima\"|\"Devana Inima\"|\"Cricket\"|\"Sri Lanka Cricket\"|\"Cricket Match\"|\"Dawana Inima\"|\"Deweni Enima\"|\"Deveni Enima\"|\"Deweni\"|\"02nd Innings\"|\"Innings\"|\"Second Inning\"|\"Cricket Team\"|\"Saranga Mendis\"|\"Janaka Siriwardana\"|\"Saman Edirimuni\"|\"Best Teledrama\"|\"Sri Lankan Teledrama\"|\"Top Teledrama\"|\"Sri Lanka's Best\"|\"Play Cricket\"|\"Love\"|\"Romantic\"|\"School\"|\"School Love\"|\"Adventure\"|\"Fight\"                                                                                                                                                                                                                                                                                                                   56\n",
      "ãç¬ã|\"ãããã\"|\"é¢ç½ã\"|\"ãã«\"|\"ã¢ã\"|\"ç¸é¦¬ãã©ã³ã¸ã¹ã¿\"|\"ã¸ãã»ã¼\"|\"ãã­ãã¼\"|\"ãã«ä¾\"|\"ãã¿\"|\"ã¸ããã©\"|\"ã¸ãã¨ã\"|\"ãã­ãã©\"|\"ãã­ã¨ã\"|\"ã¨ããããã\"|\"ãã¼ã¾\"|\"ã¸ã³\"|\"ã«ã¯ã°ã\"|\"ãã\"|\"ã¸ã³ãã\"                                                                                                                                                                                                                                                                                                                                                                                                                                                                                                                                                         53\n",
      "ãããã¾ã|\"ãç¬ã\"|\"è¸äºº\"|\"ãããã¨\"|\"ãã³ãã\"|\"ã·ã¥ã©ã \"|\"ãããã\"|\"çç¬\"|\"å®æ³\"|\"æ¤è¨¼\"|\"funny\"|\"crazy\"|\"Japanese\"|\"comedy\"                                                                                                                                                                                                                                                                                                                                                                                                                                                                                                                                                                                                                                                                           52\n",
      "ã¹ã«ã¤ãã¼ã¹                                                                                                                                                                                                                                                                                                                                                                                                                                                                                                                                                                                                                                                                                                                                                                                                                        51\n",
      "æ´ç¬|\"å°æ¥\"|\"ãã¯ãã£ã³ãã«\"|\"Kohachannel\"|\"ã«ã¯ã¤ã¤\"|\"ã·ãã¿ã¼\"|\"shiba\"|\"dog\"|\"LINEçãæ¿ã\"|\"LINEã¹ã¿ã³ã\"|\"å®é¨\"                                                                                                                                                                                                                                                                                                                                                                                                                                                                                                                                                                                                                                                                                          50\n",
      "musubiyori|\"UCYJnKTyn-1lbNRV5G92UMfA\"|\"ç«\"|\"cat\"                                                                                                                                                                                                                                                                                                                                                                                                                                                                                                                                                                                                                                                                                                                                                                                         48\n",
      "MEGWIN|\"ã²ã¼ã \"|\"æç\"|\"è\"|\"ã¡ã°ã¦ã£ã³\"                                                                                                                                                                                                                                                                                                                                                                                                                                                                                                                                                                                                                                                                                                                                                                                       47\n",
      "å¤é|\"å¤éã«\"|\"å¤éã«èªããæ¼é»ã®å¤©ä½¿é\"|\"ãããã\"|\"ã°ã\"|\"ãã®ã¾ã­\"|\"ã¢ã\"|\"ã³ã³ã\"|\"ãã¿\"|\"ãã¿åç»\"|\"ãã«\"|\"ã¢ããã\"|\"ãªã¢ã¯ã·ã§ã³\"|\"ä¸çºã®ã£ã°\"|\"ä¸çºè¸\"|\"çç¬\"|\"æé«\"|\"æ¥½ãã\"|\"ç¬ãã\"|\"ãã³ã\"|\"ã³ããã¯ãã³ã\"|\"ãç¬ã\"|\"é¢ç½æ å\"|\"è¡ææ å\"|\"youtuber\"                                                                                                                                                                                                                                                                                                                                                                                                                                                                               46\n",
      "ãã¤ãµã¤æ¢åµå£|\"æ²ç¸\"|\"é£ã\"|\"ãµãã¤ãã«\"|\"ãµãã²ã¼\"|\"ãã¤ãµã¤\"|\"ããã­ãª\"|\"ã¹ãã¼ã¹ããªããªã¼\"|\"ã¯ã¼ã«ãã¯ãã­ã³ã°\"|\"ã¯ã¼ã«ãã­ããã³\"|\"3åã¯ãã­ã³ã°\"|\"æãåç»\"|\"é­\"|\"å·¨å¤§é­\"|\"ãµã¡\"|\"ãªãªã¦ãã®\"|\"é«ç´é­\"|\"å±éº\"|\"éé",
      "·\"|\"çµ¶æ¯\"|\"ãã¤ã³ã\"|\"haisai\"|\"ã¹ããã\"|\"åå¤§æ±å³¶\"|\"åå¤§æ±å³¶\"|\"é£ãçæ´»\"|\"ãã\"|\"è\"|\"ãã\"                                                                                                                                                                                                                                                                                                                                                                                                        46\n",
      "æ°´æºããã³ã|\"æ°´æºã¾ããã³ã\"|\"mizutamaribond\"|\"mizutamaribondosatoutominaga\"                                                                                                                                                                                                                                                                                                                                                                                                                                                                                                                                                                                                                                                                                                                                                46\n",
      "æ­ã¡ãã|\"å®ä½ç¾æ­ä¸é\"|\"æ­ã£ã¦ã¿ã\"|\"æã£ã¦ã¿ã\"|\"ãã\"|\"å¸\"|\"å¸å¾",
      "ã¡\"|\"ãã®ã¾ã­\"|\"ã©ãã\"|\"çæ¾é\"|\"å®æ³\"|\"ãã³ç\"|\"å¦¹\"                                                                                                                                                                                                                                                                                                                                                                                                                                                                                                                                                                                                                                                                        43\n",
      "ç«|\"æ¨ã¦ç«\"|\"ãã£ã¬ã­ãçæ´»è¨\"|\"ãã£ã¬ã¼\"|\"ã­ãã³\"|\"ã¹ã«ã¼\"|\"ã¬ã\"|\"cat\"|\"animal\"|\"cute\"|\"ãããã\"|\"å­ç«\"|\"ãã£ã¬ã­ã\"|\"ç«å®æ³\"|\"ãã³\"|\"ç¬\"|\"ã¤ã\"|\"ãããã\"|\"dog\"|\"ãããã³ã°\"|\"ãããã\"|\"å¯æã\"|\"ã­ã\"|\"è¡æ\"|\"ããã­ãª\"|\"ã©ã£ãã\"|\"ç¥å\"|\"ããã¯\"|\"ãã£ãºãã¼\"|\"ç«ã«ãã§\"|\"ãã¥ã¼ã«\"|\"ã­ã¤ã¤ã«ã«ãã³\"|\"UUUM\"|\"disney\"|\"tigger\"|\"robin\"|\"nick\"|\"judy\"|\"ãã«\"|\"æ¥\"|\"å¬\"|\"å¤\"|\"ç§\"|\"å¸å£\"|\"ææ¿\"|\"æé¤\"|\"ã¬ãããã¿\"|\"ãã ã¹ã¿ã¼\"|\"è\"|\"ãµããã\"|\"ã´ã«ã\"|\"ãã©ã \"|\"ã®ã¿ã¼\"|\"ãã¿ã¼\"|\"ã«ã¡ã©\"|\"ä¸ç¼\"|\"æ°´\"|\"æ\"                                                                                                                                                                        38\n",
      "æãæ¹|\"æç\"|\"é£ã\"|\"ãã­ã\"|\"ãã¾ããã¯ãã¯\"|\"åºèº«\"|\"ã¤ããã\"|\"ãã¤ãµã¤\"|\"é³ãã§ã\"|\"ASMR\"                                                                                                                                                                                                                                                                                                                                                                                                                                                                                                                                                                                                                                                                                                              33\n",
      "foodchallenge|\"SocialEating\"|\"Social Eating\"|\"eating show\"|\"æ¨ä¸ããã\"|\"å¤§é£ã\"|\"kinoshita yuka\"|\"MUKBANG\"|\"cooking\"|\"food\"|\"ã¬ã·ã\"|\"ã¯ãã­ã³ã°\"|\"ãã£ã¬ã³ã¸\"|\"ç¾å³ããç©\"|\"é£ã¹ç©\"                                                                                                                                                                                                                                                                                                                                                                                                                                                                                                                                                                                                                        32\n",
      "å§«|\"ããªã³ã»ã¹\"|\"ãå§«æ§\"|\"å°å­¦ç\"|\"ããªã³ã»ã¹å§«ã¹ã¤ã¼ã\"|\"ããªã³ã»ã¹å§«ã¹ã¤ã¼ãï¼´ï¼¶\"|\"ã²ãã¡ãã\"|\"ãããã\"|\"Princess Hime Suite\"|\"Princess Hime Suite TV\"|\"princess\"|\"schoolchildren Princess Hime\"|\"PrincessHimeCHANNEL\"|\"Japanese\"                                                                                                                                                                                                                                                                                                                                                                                                                                                                                                                                                          29\n",
      "ããã³ã³|\"ããã¹ã­\"|\"ã¹ã­ãã\"|\"æ°å°\"|\"æé\"|\"äºæ",
      "\"|\"ä¸æ\"|\"ççº\"|\"ããªã¼ãº\"|\"ã¬ãã­\"|\"çå¤\"|\"ç¥\"|\"ããã°è«­å\"                                                                                                                                                                                                                                                                                                                                                                                                                                                                                                                                                                                                                                                                                       28\n",
      "Maru|\"cat\"|\"kitty\"|\"pets\"|\"ã¾ã\"|\"ç«\"|\"ã­ã\"                                                                                                                                                                                                                                                                                                                                                                                                                                                                                                                                                                                                                                                                                                                                                                                         28\n",
      "ã·ããªã¢ã³ãã¹ã­ã¼|\"Siberian Husky\"|\"æå¤ª\"|\"ç¬\"|\"dog\"                                                                                                                                                                                                                                                                                                                                                                                                                                                                                                                                                                                                                                                                                                                                                                         27\n",
      "å­ç«|\"ç«\"|\"ã­ã\"|\"ãã³\"|\"ã¬ã\"|\"ãããã\"|\"ããã\"|\"ãããã\"|\"ã­ã¸ãã©\"|\"cats\"|\"cat\"|\"kawaii\"|\"pet\"|\"kitten\"|\"kitty\"|\"funny\"|\"cute\"|\"FKWN\"|\"ãã",
      "ãã¡ãã\"|\"ããã¡ãã\"                                                                                                                                                                                                                                                                                                                                                                                                                                                                                                                                                                                                                                25\n",
      "Kazu|\"ã«ãº\"|\"ååã¬ãã¥ã¼\"                                                                                                                                                                                                                                                                                                                                                                                                                                                                                                                                                                                                                                                                                                                                                                                                        25\n",
      "ã¡ã³ã¿ãªã¹ã|\"DaiGo\"|\"ã¡ã³ã¿ãªãºã \"|\"ãã³ãã³åç»\"                                                                                                                                                                                                                                                                                                                                                                                                                                                                                                                                                                                                                                                                                                                                                                      25\n",
      "ãµãã«ã¼|\"æ¥æ¬èª\"|\"å®æ³\"|\"è§£èª¬\"|\"ã´ã¼ã«ãã¤ã©ã¤ã\"|\"goals\"|\"skills\"|\"highlight\"|\"æ¥æ¬ä»£è¡¨\"|\"FIFA\"|\"ã¦ã¤ãã³ã°ã¤ã¬ãã³\"|\"ã¦ã¤ã¤ã¬\"|\"PES\"                                                                                                                                                                                                                                                                                                                                                                                                                                                                                                                                                                                                                                                               25\n",
      "ç§ç°ç¬|\"ããã\"|\"akita\"|\"inu\"|\"dog\"|\"Akita (dog)\"|\"å­ç¬\"|\"puppy\"|\"ããã\"|\"ï¼ï¼ï¼ï¼å¹´\"                                                                                                                                                                                                                                                                                                                                                                                                                                                                                                                                                                                                                                                                                                                                    24\n",
      "ãã©ã¤ã ãã¥ã¼ã¹                                                                                                                                                                                                                                                                                                                                                                                                                                                                                                                                                                                                                                                                                                                                                                                                                  24\n",
      "                                                                                                                                                                                                                                                                                                                                                                                                                                                                                                                                                                                                                                                                                                                                                                                                                                        ... \n",
      "ããã³|\"ãµã³ãã¤ãã\"|\"ãã¾ã\"|\"åµ\"|\"egg\"|\"èãæ­\"|\"ããã±ããµã³ã\"|\"ããã«ãµã³ã\"|\"ããã«ãºãµã³ã\"|\"æç\"|\"ã¬ã·ã\"|\"ä½ãæ¹\"|\"ãã£ã¡ããã­ã\"|\"kattyanneru\"|\"ã¹ã¿ã\"|\"ã¹ã¿ã¼ããã¯ã¹\"                                                                                                                                                                                                                                                                                                                                                                                                                                                                                                                                                                                         1\n",
      "ä¹æ¨å|\"ä¹æ¨åå·¥äºä¸­\"|\"ä¹æ¨å46\"|\"ä¹æ¨åã£ã¦ã©ã\"|\"ããããã³\"|\"ä¹æ¨ä¸­\"|\"ç½ç³éº»è¡£\"|\"è¥¿éä¸ç¬\"|\"æ¥æ\"|\"é½è¤é£é³¥\"                                                                                                                                                                                                                                                                                                                                                                                                                                                                                                                                                                                                                                                                                   1\n",
      "ç¼é¡å¸å ´|\"CM\"|\"ã¡ã¬ã\"|\"ãµã³ã°ã©ã¹\"|\"ã³ã³ã¿ã¯ã\"|\"JINS\"|\"ZOFF\"                                                                                                                                                                                                                                                                                                                                                                                                                                                                                                                                                                                                                                                                                                                                                            1\n",
      "æããã¹|\"ã³ã¤ã³ãã¹\"|\"æã³ãã¹\"|\"æãã¨ã\"|\"ã¯ãã¡ã",
      "ã\"|\"erica\"|\"nao\"|\"åæ²¢äº®\"|\"ä¸­æã¢ã³\"|\"é«æ©èé\"|\"ãµãã³ã\"|\"TBS\"|\"ææ\"|\"ãã©ã¨ãã£\"|\"ã«ãº\"|\"ç¿ãã\"|\"ã¨ãã\"|\"ãã³ã©ã¹\"|\"èç·\"|\"ã¿ã®ãã\"|\"ã¦ã¤\"|\"ããã¡ãã\"|\"çµ¹æ\"|\"ã¡ãªã¿\"|\"ã«ã¡å\"|\"ãã¨ã\"|\"éæ¬ãã¨ã\"|\"ç¾ç©\"|\"ãªã§ã¼ã¿\"|\"ãã",
      "ãã¡ãã\"|\"å°é¢è£å¤ª\"|\"ãã¼ã­ã¼ãã¬ã¼ã\"|\"Cheeky Parade\"|\"ããªã¼ã°ãããã³\"                                                                                                                                                                                                                                                                                                                                                 1\n",
      "ç«¶é¦¬|\"è¶£å³\"|\"å¤§å½ãã\"|\"åé¢ç«¶é¦¬\"|\"åé¢æ±ç«¶é¦¬\"|\"æµ¦åç«¶é¦¬\"|\"å¤§äºç«¶é¦¬\"|\"è¹æ©ç«¶é¦¬\"|\"å·å´ç«¶é¦¬\"|\"ã¹ãããã¯\"                                                                                                                                                                                                                                                                                                                                                                                                                                                                                                                                                                                                                                                                                              1\n",
      "TrendJunctionChannel|\"UCKnn3xK2gFHPsciFUIi4Pfw\"|\"ãã¬ã³ã\"|\"è¸è½\"|\"è©±é¡\"|\"è¡æ\"|\"ãã¤ã­ã³ã°\"|\"åä¸å¿\"|\"çä¸\"|\"ãã¤ãã¿ã¼\"                                                                                                                                                                                                                                                                                                                                                                                                                                                                                                                                                                                                                                                                                         1\n",
      "ã³ãã³|\"åæ¢åµã³ãã³\"|\"æ²é»ã®15å\"|\"11äººç®ã®ã¹ãã©ã¤ã«ã¼\"|\"çµ¶æµ·ã®æ¢åµ\"|\"ç°æ¬¡å",
      "ã®çææ\"|\"æ¥­ç«ã®åæ¥èµ\"|\"ç´é»ã®æªå¤¢\"|\"ããç´",
      "ã®ææ­\"                                                                                                                                                                                                                                                                                                                                                                                                                                                                                                                                                                                                                                                      1\n",
      "æäºº|\"ææ\"|\"é¢ç½ã©ã¤ã³\"|\"ã»ã«ã¤ããã·ã®\"|\"sekainofusigich\"                                                                                                                                                                                                                                                                                                                                                                                                                                                                                                                                                                                                                                                                                                                                                                1\n",
      "ããããç¬|\"ç¬\"|\"ã³ãã¼ã«ããã³ã¬ããªããã¼\"|\"ä¿¡ãããããªãã³ãã¼ã«ããã³ã¬ããªããã¼ãããããã¨\"|\"ããããç¬\"|\"å¯æãã´ã¼ã«ãã³ã¬ããªã¼ãã¼\"|\"ããããã´ã¼ã«ãã³ã¬ããªãã¼\"|\"ãããããã\"                                                                                                                                                                                                                                                                                                                                                                                                                                                                                                                                                          1\n",
      "å¤§è°·ç¿å¹³|\"shohei ohtani\"|\"ç¾å°æ å\"|\"5å·ãã¼ã ã©ã³\"|\"ã«ã¬ã³ããå±ãï¼å¤§è°·ç¿å¹³ã·ã§ã¼ã¿ã¤ã \"                                                                                                                                                                                                                                                                                                                                                                                                                                                                                                                                                                                                                                                                                                                 1\n",
      "ã©ã¸ãª|\"ãã¯ã¹ã\"|\"ããã¤ã\"|\"shintsuyo\"|\"power splash\"|\"èãªã\"|\"é¦åæ",
      "å¾\"|\"xxS-M-A-Pxx\"                                                                                                                                                                                                                                                                                                                                                                                                                                                                                                                                                                                                                                                                                                                                1\n",
      "tulfo|\"raffy tulfo\"|\"raffy tulfo in action\"|\"wanted sa radyo\"|\"tv5\"|\"tulfo in action\"|\"raffy tulfo in action latest\"|\"tulfo in action 2018\"|\"raffy tulfo in action live\"|\"raffy tulfo wanted sa radyo latest\"|\"tulfo in action latest\"|\"raffy tulfo 2018\"|\"raffy tulfo in action 2018\"|\"tulfo in action 2018 latest\"|\"tulfo 2018\"|\"wanted sa radyo raffy tulfo latest 2018\"|\"wanted sa radyo 2018\"                                                                                                                                                                                                                                                                                                                                                                                                                                         1\n",
      "ãããã¤|\"ãã¤ãã¤\"|\"ãã¤ã³ãã£ãã¤ã³\"|\"å²¡æ\"|\"å²¡æéå²\"|\"å¤§æé£\"|\"ã³ã¡ãã£\"|\"ãã©ã¨ãã£\"|\"ã¸ã£ãã¼ãº\"|\"è¿½æ¼\"|\"ãããããã¤ã³ãã£ãã¤ã³\"|\"æ©æ¬ç°å¥\"                                                                                                                                                                                                                                                                                                                                                                                                                                                                                                                                                                                                                               1\n",
      "Mili|\"Cytus\"|\"DEEMO\"|\"Rayark\"|\"ãã¦ã\"|\"ãã«ã«ãããã¹ãã£ã³ã°ã¬ã¤\"|\"amazarashi\"|\"ç±³æ´¥çå¸«\"|\"SEKAI NO OWARI\"|\"supercell\"|\"EGOIST\"|\"Aimer\"|\"Lisa\"|\"æ¾¤éå¼ä¹\"|\"DEDE MOUSE\"|\"DAOKO\"|\"world's end girlfriend\"                                                                                                                                                                                                                                                                                                                                                                                                                                                                                                                                                                                                          1\n",
      "å¤§é£ã|\"ãã«çã\"|\"ã©ã¼ã¡ã³\"|\"ã¤ããã\"|\"ããã\"|\"è¾ã\"                                                                                                                                                                                                                                                                                                                                                                                                                                                                                                                                                                                                                                                                                                                                                                1\n",
      "ã¹ãã¼ãã¼ã|\"éªåº­\"|\"SNOWGARDEN\"|\"ã¹ãã¼ã¬ã¼ãã³\"|\"Snowboard\"|\"æ¸¡è¾ºMAR.4\"|\"ç½é¦¬\"|\"Hakuba\"|\"é·é\"|\"nagano\"|\"ã¹ãã¼ã\"|\"SCOOTER\"|\"ã¹ã¯ã¼ã¿ã¼\"|\"å°å·éä¸¸\"|\"éä¸¸ããã\"|\"MAR.4\"|\"ç«ç\"|\"ç«çã¹ã­ã¼ãã¼ã¯\"|\"SCOOTERsnowboard\"|\"GoPro\"|\"GoPro5\"|\"hero5\"|\"hero5black\"|\"GoProJapan\"|\"VICIOUSVENOM\"|\"GoPro6\"|\"è©¦ä¹ä¼\"|\"ã¬ãã¥ã¼\"|\"ã°ã©ããª\"|\"ã°ã©ã³ãããªãã¯\"|\"ããã¥ãªãªã¾ã¼ã\"                                                                                                                                                                                                                                                                                                                                                                                       1\n",
      "å°ç°æ¥|\"ãã¤ã¤æ¹æ­£\"|\"HELLOW NEW ODAKYU\"|\"è¤ã",
      "ç·\"|\"ä»£ã",
      "æ¨ä¸å\"|\"ä¸ç°è°·ä»£ç°\"|\"ä¸åæ²¢\"|\"ç´é\"|\"E233ç³»\"|\"E233ç³»2000çªå°\"|\"4000ç³»\"|\"å¸¸ç£ç·åé§",
      "åè»\"|\"å¸¸ç£ç·\"|\"æ±äº¬ã¡ãã­\"|\"ç¶¾ç¬\"|\"ååä½\"|\"åä»£ç°ç·\"|\"6000ç³»\"|\"209ç³»\"|\"16000ç³»\"|\"åã±ä¸éå\"|\"çºç°\"|\"æåå­¦åå\"|\"ç¸æ¨¡å¤§é\"|\"ä¼å¢å\"|\"ã­ãã³ã¹ã«ã¼\"|\"å¯å£«å±±\"|\"ï¼§ï¼³ï¼¥\"|\"åæ¥\"|\"70000å½¢\"|\"è»å",
      "æ¾é\"|\"ããã¥ã¼\"|\"MSE\"|\"EXE Î±\"|\"ã¡ãã­ã¯ãã­\"                                                                                                                                                                                                                                                                                                                                            1\n",
      "nepali comedy video|\"nepali comedy serial\"|\"nepali funny drama\"|\"nepali serial\"|\"nepali serial drama\"|\"nepali serial comedy\"|\"nepali comedy drama\"|\"nepali social serial\"|\"harke haldar\"|\"harke haldar latest\"|\"harke haldar this week\"|\"harke haldar new episode\"|\"comedy\"|\"nepali\"|\"drama\"|\"serial\"|\"nepali society\"|\"entertainment\"|\"risani maaf\"|\"kantipur tv\"|\"kantipur television\"|\"kantipur hd\"|\"kantipur tv live\"|\"ekantipur\"|\"ek channel\"|\"episode 371\"|\"harke haldar episode 371\"                                                                                                                                                                                                                                                                                                                                                1\n",
      "ã¬ã½ãªã³ã¹ã¿ã³ãã§æ®å½±ãããæãç¬éTOP5|\"UMAã®åç»\"|\"UFOã®åç»\"|\"UMAã®æãããåç»\"|\"TOP10æãåç»\"|\"æãç¬é\"|\"ãã¹ããªã¼\"|\"ãã¹ããªã¼åç»\"|\"ãåã\"|\"ã´ã¼ã¹ã\"|\"TOP10æãããç¬é\"                                                                                                                                                                                                                                                                                                                                                                                                                                                                                                                                                                                      1\n",
      "NIMS|\"ä¸è¬\"|\"å",
      "¬é\"|\"ç©è³ª\"|\"ææ\"|\"ç ç©¶\"|\"æ©æ§\"|\"é§\"|\"æ¾å°ç·\"                                                                                                                                                                                                                                                                                                                                                                                                                                                                                                                                                                                                                                                                                                                                                               1\n",
      "INSIDER|\"this is america\"|\"childish gambino\"|\"music video\"|\"music video analysis\"|\"black lives matter\"|\"charleston shooting\"                                                                                                                                                                                                                                                                                                                                                                                                                                                                                                                                                                                                                                                                                                               1\n",
      "ã¦ã«ãã©ãã³ã®ã³ã¬|\"ã¦ã«ãã©ãã³ãã¯ããªã¼\"|\"ã¦ã«ãã©ãã³X\"|\"ã¦ã«ãã©ãã³ãªã¼ã\"|\"ã¦ã«ãã©ãã³ã¸ã¼ã\"                                                                                                                                                                                                                                                                                                                                                                                                                                                                                                                                                                                                                                                                                          1\n",
      "ã¯ã³ãã¼ã¹|\"ã¯ã³ãã¼ã¹ 897\"|\"one piece 897\"                                                                                                                                                                                                                                                                                                                                                                                                                                                                                                                                                                                                                                                                                                                                                                                      1\n",
      "ã²ããã³ 2018å¹´3æ20æ¥|\"2018å¹´3æ20æ¥\"|\"ã²ããã³\"                                                                                                                                                                                                                                                                                                                                                                                                                                                                                                                                                                                                                                                                                                                                                                            1\n",
      "ç§¦æé¦¬|\"ã¸ã£ãã«ã«\"|\"ã·ãã\"|\"ã¢ãªã²ã¼ã¿ã¼\"|\"ã¬ã¼\"|\"ãã¤ã¯\"|\"ãã¹é£ã\"|\"fishing\"|\"Jackall\"|\"pike\"|\"florida\"|\"ããªããªã©ã¤ã¶ã¼\"|\"é£ãããã§ããã\"                                                                                                                                                                                                                                                                                                                                                                                                                                                                                                                                                                                                                                                1\n",
      "ã¢ã³ãã³éå ±|\"ã¢ã³ãã³\"|\"MHW\"|\"ã¢ã³ãã³ã¯ã¼ã«ã\"|\"ã¢ã³ã¹ã¿ã¼ãã³ã¿ã¼ã¯ã¼ã«ã\"|\"ã¢ã³ã¹ã¿ã¼ãã³ã¿ã¼\"|\"ã¢ã³ã¹ã¿ã¼ãã³ã¿ã¼ã¯ã­ã¹\"|\"ã¢ã³ãã³ã¯ã­ã¹\"|\"MHXX\"|\"ã¢ã³ãã³ããã«ã¯ã­ã¹\"|\"ã¢ã³ãã³å®æ³\"|\"ã¢ã³ã¹ã¿ã¼\"|\"ãã³ã¿ã¼\"|\"ã¯ã¼ã«ã\"|\"ã¢ã³ãã³ã¾ã¨ãch\"|\"ãããªã¾\"                                                                                                                                                                                                                                                                                                                                                                                                                                                                            1\n",
      "ã¨ã¿ãã|\"åå·ã¨ãã\"|\"ãã©ããããã¼ãã¼\"|\"ä¸¡å½\"|\"Big Ship\"|\"ããã°ã·ãã\"|\"ã¢ã³ã¼ã¹ãã£ãã¯ã©ã¤ã\"|\"æ­ãã¾\"|\"å¼¾ãèªã\"|\"CHAGE&ASKA\"|\"ASKA\"|\"aska\"|\"é£é³¥\"|\"ã¢ã¹ã«\"|\"Too many people\"|\"æ°æ²\"|\"æ¡ç°ä½³ç¥\"|\"ãµã¶ã³ãªã¼ã«ã¹ã¿ã¼ãº\"|\"TUBE\"|\"ç²ãã«ã¯\"|\"back number\"|\"TBS\"|\"ã¢ã³ããã¥ã©ã«\"|\"ç³åãã¨ã¿\"|\"éæãã©ã\"|\"ä¸»é¡æ­\"|\"ãã«\"|\"ãã«ãµã¤ãº\"|\"ãµã¤ãº\"|\"Full size\"|\"Full\"|\"æ°¸éè½é\"|\"æ¾éªæ³°å­\"|\"æ»è¤è³¢ä¸\"|\"ä½è¤ å¥\"|\"åç°ç¥ä¸\"|\"è°·åç« ä»\"|\"é¢¨å¹ã¸ã¥ã³\"|\"ä¸­æé",
      "ä¿\"|\"ãªã¼ã«ãã¤ããããã³\"|\"æéæºã®ãªã¼ã«ãã¤ããããã³\"|\"ANN\"|\"æéæºã®ANN\"|\"å¼¾ãã¦ã¿ã\"|\"æ­ã£ã¦ã¿ã\"|\"è¸ã£ã¦ã¿ã\"|\"ãã³ã¹\"|\"æãã³ã¹\"|\"ãã©ããã\"|\"lemon\"|\"ç±³æ´¥çå¸«\"       1\n",
      "ä¹æ¨å46ã®ãã®ã|\"ä¹æ¨å46\"|\"æ¨å£æ¥å¥ã»è¡è¤ç¾å½©ã»ä¼è¤ç´å¥\"                                                                                                                                                                                                                                                                                                                                                                                                                                                                                                                                                                                                                                                                                                                                                         1\n",
      "2ch|\"2ã¡ããã­ã\"|\"5ch\"|\"5ã¡ããã­ã\"|\"ã³ããæ¼«ç»é¤¨\"|\"ã³ãã\"|\"ãã³ã¬åç»\"|\"æ¼«ç»\"|\"ãã³ã¬\"|\"ã¢ãã¡\"|\"æå­ãèª­ãåç»\"|\"Manga\"|\"Anime\"|\"Cartoons\"|\"ã²ã¾ã¤ã¶ç·ä¼\"                                                                                                                                                                                                                                                                                                                                                                                                                                                                                                                                                                                                                                1\n",
      "è¸è½ãã¹ããªã¢|\"UCj8g8G17xo6yr4pMAwSz6Zg\"|\"çå­ãã¾\"|\"çå­å",
      "è¦ªç\"|\"ç§ç¯ å®®ãå¤«å¦»\"|\"ç§ç¯ å®®å®¶\"|\"å¤©ççåä¸¡éä¸\"|\"å°å®¤å­\"|\"çµå©\"|\"å»¶æ\"|\"ç«¹ç°ææ³°æ°\"                                                                                                                                                                                                                                                                                                                                                                                                                                                                                                                                                                                                                                              1\n",
      "Name: tags, Length: 8292, dtype: int64\n"
     ]
    }
   ],
   "source": [
    "print(video[\"tags\"].value_counts())"
   ]
  },
  {
   "cell_type": "code",
   "execution_count": 151,
   "metadata": {},
   "outputs": [
    {
     "data": {
      "text/plain": [
       "<matplotlib.axes._subplots.AxesSubplot at 0x1c2fb06438>"
      ]
     },
     "execution_count": 151,
     "metadata": {},
     "output_type": "execute_result"
    },
    {
     "data": {
      "image/png": "[encoded data removed]",
      "text/plain": [
       "<Figure size 432x288 with 1 Axes>"
      ]
     },
     "metadata": {
      "needs_background": "light"
     },
     "output_type": "display_data"
    }
   ],
   "source": [
    "sns.barplot(x=video[\"category_id\"],y=video[\"pred_views\"],data=video,hue=\"publish_year\")"
   ]
  },
  {
   "cell_type": "code",
   "execution_count": 152,
   "metadata": {},
   "outputs": [
    {
     "data": {
      "text/plain": [
       "<matplotlib.axes._subplots.AxesSubplot at 0x1c304b1da0>"
      ]
     },
     "execution_count": 152,
     "metadata": {},
     "output_type": "execute_result"
    },
    {
     "data": {
      "image/png": "[encoded data removed]",
      "text/plain": [
       "<Figure size 432x288 with 1 Axes>"
      ]
     },
     "metadata": {
      "needs_background": "light"
     },
     "output_type": "display_data"
    }
   ],
   "source": [
    "sns.barplot(x=video[\"category_id\"],y=video[\"likes\"],data=video,hue=\"publish_year\")"
   ]
  },
  {
   "cell_type": "code",
   "execution_count": 153,
   "metadata": {},
   "outputs": [
    {
     "data": {
      "text/plain": [
       "<matplotlib.axes._subplots.AxesSubplot at 0x1c306bfac8>"
      ]
     },
     "execution_count": 153,
     "metadata": {},
     "output_type": "execute_result"
    },
    {
     "data": {
      "image/png": "[encoded data removed]",
      "text/plain": [
       "<Figure size 432x288 with 1 Axes>"
      ]
     },
     "metadata": {
      "needs_background": "light"
     },
     "output_type": "display_data"
    }
   ],
   "source": [
    "sns.barplot(x=video[\"category_id\"],y=video[\"dislikes\"],data=video, hue=\"publish_year\")"
   ]
  },
  {
   "cell_type": "code",
   "execution_count": 154,
   "metadata": {},
   "outputs": [
    {
     "data": {
      "text/plain": [
       "<matplotlib.axes._subplots.AxesSubplot at 0x1c308844e0>"
      ]
     },
     "execution_count": 154,
     "metadata": {},
     "output_type": "execute_result"
    },
    {
     "data": {
      "image/png": "[encoded data removed]",
      "text/plain": [
       "<Figure size 432x288 with 1 Axes>"
      ]
     },
     "metadata": {
      "needs_background": "light"
     },
     "output_type": "display_data"
    }
   ],
   "source": [
    "sns.barplot(x=video[\"category_id\"],y=video[\"comment_count\"],data=video,hue=\"publish_year\")"
   ]
  },
  {
   "cell_type": "code",
   "execution_count": 155,
   "metadata": {},
   "outputs": [],
   "source": [
    "y=np.log(video[\"pred_views\"])\n",
    "x1=np.log(video[\"likes\"])\n",
    "x2=np.log(video[\"dislikes\"])\n",
    "x3=np.log(video[\"comment_count\"])"
   ]
  },
  {
   "cell_type": "code",
   "execution_count": 156,
   "metadata": {},
   "outputs": [
    {
     "data": {
      "text/plain": [
       "<matplotlib.axes._subplots.AxesSubplot at 0x1c30aa4a90>"
      ]
     },
     "execution_count": 156,
     "metadata": {},
     "output_type": "execute_result"
    },
    {
     "data": {
      "image/png": "[encoded data removed]",
      "text/plain": [
       "<Figure size 432x288 with 1 Axes>"
      ]
     },
     "metadata": {
      "needs_background": "light"
     },
     "output_type": "display_data"
    }
   ],
   "source": [
    "sns.regplot(x=x1,y=y,fit_reg=False)"
   ]
  },
  {
   "cell_type": "code",
   "execution_count": 157,
   "metadata": {},
   "outputs": [
    {
     "data": {
      "text/plain": [
       "<matplotlib.axes._subplots.AxesSubplot at 0x1c32dbbcc0>"
      ]
     },
     "execution_count": 157,
     "metadata": {},
     "output_type": "execute_result"
    },
    {
     "data": {
      "image/png": "[encoded data removed]",
      "text/plain": [
       "<Figure size 432x288 with 1 Axes>"
      ]
     },
     "metadata": {
      "needs_background": "light"
     },
     "output_type": "display_data"
    }
   ],
   "source": [
    "sns.regplot(x=x2,y=y,fit_reg=False)"
   ]
  },
  {
   "cell_type": "code",
   "execution_count": 158,
   "metadata": {},
   "outputs": [
    {
     "data": {
      "text/plain": [
       "<matplotlib.axes._subplots.AxesSubplot at 0x1c32ed61d0>"
      ]
     },
     "execution_count": 158,
     "metadata": {},
     "output_type": "execute_result"
    },
    {
     "data": {
      "image/png": "[encoded data removed]",
      "text/plain": [
       "<Figure size 432x288 with 1 Axes>"
      ]
     },
     "metadata": {
      "needs_background": "light"
     },
     "output_type": "display_data"
    }
   ],
   "source": [
    "sns.regplot(x=x3,y=y,fit_reg=False)"
   ]
  },
  {
   "cell_type": "code",
   "execution_count": 159,
   "metadata": {},
   "outputs": [
    {
     "name": "stdout",
     "output_type": "stream",
     "text": [
      "False    17076\n",
      "True      1323\n",
      "Name: comments_disabled, dtype: int64\n"
     ]
    },
    {
     "data": {
      "text/plain": [
       "<matplotlib.axes._subplots.AxesSubplot at 0x1c32fe7b38>"
      ]
     },
     "execution_count": 159,
     "metadata": {},
     "output_type": "execute_result"
    },
    {
     "data": {
      "image/png": "[encoded data removed]",
      "text/plain": [
       "<Figure size 432x288 with 1 Axes>"
      ]
     },
     "metadata": {
      "needs_background": "light"
     },
     "output_type": "display_data"
    }
   ],
   "source": [
    "print(video[\"comments_disabled\"].value_counts())\n",
    "sns.countplot(x=\"comments_disabled\",data=video)"
   ]
  },
  {
   "cell_type": "code",
   "execution_count": 160,
   "metadata": {},
   "outputs": [
    {
     "name": "stdout",
     "output_type": "stream",
     "text": [
      "False    17145\n",
      "True      1254\n",
      "Name: ratings_disabled, dtype: int64\n"
     ]
    },
    {
     "data": {
      "text/plain": [
       "<matplotlib.axes._subplots.AxesSubplot at 0x1c330dc668>"
      ]
     },
     "execution_count": 160,
     "metadata": {},
     "output_type": "execute_result"
    },
    {
     "data": {
      "image/png": "[encoded data removed]",
      "text/plain": [
       "<Figure size 432x288 with 1 Axes>"
      ]
     },
     "metadata": {
      "needs_background": "light"
     },
     "output_type": "display_data"
    }
   ],
   "source": [
    "print(video[\"ratings_disabled\"].value_counts())\n",
    "sns.countplot(x=\"ratings_disabled\",data=video)"
   ]
  },
  {
   "cell_type": "code",
   "execution_count": 161,
   "metadata": {},
   "outputs": [
    {
     "name": "stdout",
     "output_type": "stream",
     "text": [
      "False    18387\n",
      "True        12\n",
      "Name: video_error_or_removed, dtype: int64\n"
     ]
    },
    {
     "data": {
      "text/plain": [
       "<matplotlib.axes._subplots.AxesSubplot at 0x1c32feebe0>"
      ]
     },
     "execution_count": 161,
     "metadata": {},
     "output_type": "execute_result"
    },
    {
     "data": {
      "image/png": "[encoded data removed]",
      "text/plain": [
       "<Figure size 432x288 with 1 Axes>"
      ]
     },
     "metadata": {
      "needs_background": "light"
     },
     "output_type": "display_data"
    }
   ],
   "source": [
    "print(video[\"video_error_or_removed\"].value_counts())\n",
    "sns.countplot(x=\"video_error_or_removed\",data=video)"
   ]
  },
  {
   "cell_type": "code",
   "execution_count": null,
   "metadata": {},
   "outputs": [],
   "source": []
  },
  {
   "cell_type": "code",
   "execution_count": 162,
   "metadata": {},
   "outputs": [
    {
     "data": {
      "text/plain": [
       "<matplotlib.axes._subplots.AxesSubplot at 0x1c3305cd68>"
      ]
     },
     "execution_count": 162,
     "metadata": {},
     "output_type": "execute_result"
    },
    {
     "data": {
      "image/png": "[encoded data removed]",
      "text/plain": [
       "<Figure size 720x1080 with 1 Axes>"
      ]
     },
     "metadata": {
      "needs_background": "light"
     },
     "output_type": "display_data"
    }
   ],
   "source": [
    "like_dislike_ratio = video.groupby('category_id')['likes'].agg('sum') / video.groupby('category_id')['dislikes'].agg('sum')\n",
    "like_dislike_ratio = like_dislike_ratio.sort_values(ascending=False).reset_index()\n",
    "like_dislike_ratio.columns = ['category_id','ratio']\n",
    "plt.subplots(figsize=(10, 15))\n",
    "sns.barplot(x=\"category_id\", y=\"ratio\", data=like_dislike_ratio,\n",
    "            label=\"Likes-Dislikes Ratio\", color=\"b\")"
   ]
  },
  {
   "cell_type": "code",
   "execution_count": 163,
   "metadata": {},
   "outputs": [
    {
     "data": {
      "text/plain": [
       "<matplotlib.axes._subplots.AxesSubplot at 0x1c336450b8>"
      ]
     },
     "execution_count": 163,
     "metadata": {},
     "output_type": "execute_result"
    },
    {
     "data": {
      "image/png": "[encoded data removed]",
      "text/plain": [
       "<Figure size 720x1080 with 1 Axes>"
      ]
     },
     "metadata": {
      "needs_background": "light"
     },
     "output_type": "display_data"
    }
   ],
   "source": [
    "views_comment_ratio = video.groupby('category_id')['pred_views'].agg('sum') / video.groupby('category_id')['comment_count'].agg('sum')\n",
    "views_comment_ratio = views_comment_ratio.sort_values(ascending=False).reset_index()\n",
    "views_comment_ratio.columns = ['category_id','ratio']\n",
    "plt.subplots(figsize=(10, 15))\n",
    "sns.barplot(x=\"category_id\", y=\"ratio\", data=views_comment_ratio,\n",
    "            label=\"Views-Comments Ratio\", color=\"r\")"
   ]
  },
  {
   "cell_type": "code",
   "execution_count": 164,
   "metadata": {},
   "outputs": [
    {
     "data": {
      "text/plain": [
       "<matplotlib.axes._subplots.AxesSubplot at 0x1c336510b8>"
      ]
     },
     "execution_count": 164,
     "metadata": {},
     "output_type": "execute_result"
    },
    {
     "data": {
      "image/png": "[encoded data removed]",
      "text/plain": [
       "<Figure size 720x1080 with 1 Axes>"
      ]
     },
     "metadata": {
      "needs_background": "light"
     },
     "output_type": "display_data"
    }
   ],
   "source": [
    "view_dislike_ratio = video.groupby('category_id')['dislikes'].agg('sum') / video.groupby('category_id')['pred_views'].agg('sum')\n",
    "view_dislike_ratio = view_dislike_ratio.sort_values(ascending=False).reset_index()\n",
    "view_dislike_ratio.columns = ['category_id','ratio']\n",
    "plt.subplots(figsize=(10, 15))\n",
    "sns.barplot(x=\"category_id\", y=\"ratio\", data=view_dislike_ratio,\n",
    "            label=\"Views-Dislikes Ratio\", color=\"y\")"
   ]
  },
  {
   "cell_type": "code",
   "execution_count": null,
   "metadata": {},
   "outputs": [],
   "source": []
  },
  {
   "cell_type": "code",
   "execution_count": null,
   "metadata": {},
   "outputs": [],
   "source": []
  },
  {
   "cell_type": "code",
   "execution_count": 165,
   "metadata": {},
   "outputs": [
    {
     "data": {
      "text/html": [
       "<div>\n",
       "<style scoped>\n",
       "    .dataframe tbody tr th:only-of-type {\n",
       "        vertical-align: middle;\n",
       "    }\n",
       "\n",
       "    .dataframe tbody tr th {\n",
       "        vertical-align: top;\n",
       "    }\n",
       "\n",
       "    .dataframe thead th {\n",
       "        text-align: right;\n",
       "    }\n",
       "</style>\n",
       "<table border=\"1\" class=\"dataframe\">\n",
       "  <thead>\n",
       "    <tr style=\"text-align: right;\">\n",
       "      <th></th>\n",
       "      <th>video_id</th>\n",
       "      <th>trending_date</th>\n",
       "      <th>title</th>\n",
       "      <th>channel_title</th>\n",
       "      <th>category_id</th>\n",
       "      <th>publish_time</th>\n",
       "      <th>tags</th>\n",
       "      <th>likes</th>\n",
       "      <th>dislikes</th>\n",
       "      <th>comment_count</th>\n",
       "      <th>thumbnail_link</th>\n",
       "      <th>comments_disabled</th>\n",
       "      <th>ratings_disabled</th>\n",
       "      <th>video_error_or_removed</th>\n",
       "      <th>description</th>\n",
       "      <th>pred_views</th>\n",
       "      <th>publish_year</th>\n",
       "      <th>trending_month</th>\n",
       "    </tr>\n",
       "  </thead>\n",
       "  <tbody>\n",
       "    <tr>\n",
       "      <th>0</th>\n",
       "      <td>5ugKfHgsmYw</td>\n",
       "      <td>18.07.02</td>\n",
       "      <td>é¸èªããªãåç´ã«è½ä¸ï¼è·¯ä¸ã®è»ã...</td>\n",
       "      <td>æäºéä¿¡æ åã»ã³ã¿ã¼</td>\n",
       "      <td>25</td>\n",
       "      <td>2018-02-06 03:04:37</td>\n",
       "      <td>äºæ",
       "|\"ä½è³\"|\"ä½è³ç\"|\"ããªã³ãã¿ã...</td>\n",
       "      <td>591</td>\n",
       "      <td>189</td>\n",
       "      <td>0</td>\n",
       "      <td>https://i.ytimg.com/vi/5ugKfHgsmYw/default.jpg</td>\n",
       "      <td>True</td>\n",
       "      <td>False</td>\n",
       "      <td>False</td>\n",
       "      <td>ä½è³çç¥å¼å¸ã®æ°å®¶ã«å¢è½ããé¸ä...</td>\n",
       "      <td>188085</td>\n",
       "      <td>2018</td>\n",
       "      <td>2</td>\n",
       "    </tr>\n",
       "    <tr>\n",
       "      <th>3</th>\n",
       "      <td>5wNnwChvmsQ</td>\n",
       "      <td>18.07.02</td>\n",
       "      <td>æ±äº¬ãã£ãºãã¼ãªã¾ã¼ãã®å",
       "ã­ã£ã...</td>\n",
       "      <td>ã¢ã·ã¿ãã¯ãã¤</td>\n",
       "      <td>25</td>\n",
       "      <td>2018-02-06 06:08:49</td>\n",
       "      <td>ã¢ã·ã¿ãã¯ãã¤</td>\n",
       "      <td>1165</td>\n",
       "      <td>277</td>\n",
       "      <td>545</td>\n",
       "      <td>https://i.ytimg.com/vi/5wNnwChvmsQ/default.jpg</td>\n",
       "      <td>False</td>\n",
       "      <td>False</td>\n",
       "      <td>False</td>\n",
       "      <td>æ±äº¬ãã£ãºãã¼ãªã¾ã¼ãã®å",
       "ã­ã£ã...</td>\n",
       "      <td>96255</td>\n",
       "      <td>2018</td>\n",
       "      <td>2</td>\n",
       "    </tr>\n",
       "    <tr>\n",
       "      <th>4</th>\n",
       "      <td>B7J47qFvdsk</td>\n",
       "      <td>18.07.02</td>\n",
       "      <td>æ¦®åå¥ã",
       "ãè¡æã®æ­»ãã ãµãï¼æ ç...</td>\n",
       "      <td>ã·ãããã¥ãã¤</td>\n",
       "      <td>1</td>\n",
       "      <td>2018-02-06 02:30:00</td>\n",
       "      <td>[none]</td>\n",
       "      <td>1336</td>\n",
       "      <td>74</td>\n",
       "      <td>201</td>\n",
       "      <td>https://i.ytimg.com/vi/B7J47qFvdsk/default.jpg</td>\n",
       "      <td>False</td>\n",
       "      <td>False</td>\n",
       "      <td>False</td>\n",
       "      <td>å®¶ã«å¸°ã£ã¦ãããµã©ãªã¼ãã³ã®ãã...</td>\n",
       "      <td>108408</td>\n",
       "      <td>2018</td>\n",
       "      <td>2</td>\n",
       "    </tr>\n",
       "    <tr>\n",
       "      <th>5</th>\n",
       "      <td>OIDfjdGERr8</td>\n",
       "      <td>18.07.02</td>\n",
       "      <td>æè³ãã¤ãããã®æ­»å ãå",
       "å¤«ã»åç...</td>\n",
       "      <td>æ¿ç½ï¼ï¼ã¹ã¼ãã¼è¸è½ãã£ã³ãã«ï...</td>\n",
       "      <td>22</td>\n",
       "      <td>2018-02-06 03:27:10</td>\n",
       "      <td>æè³ãã¤ã|\"å",
       "«æ¨äºå¸å­\"|\"æ²³éæ¯å­...</td>\n",
       "      <td>0</td>\n",
       "      <td>0</td>\n",
       "      <td>53</td>\n",
       "      <td>https://i.ytimg.com/vi/OIDfjdGERr8/default.jpg</td>\n",
       "      <td>False</td>\n",
       "      <td>True</td>\n",
       "      <td>False</td>\n",
       "      <td>Twitterå§ãã¾ããï¼\\n\\nç»é²ãããã...</td>\n",
       "      <td>193593</td>\n",
       "      <td>2018</td>\n",
       "      <td>2</td>\n",
       "    </tr>\n",
       "    <tr>\n",
       "      <th>7</th>\n",
       "      <td>MPQaySneSUc</td>\n",
       "      <td>18.07.02</td>\n",
       "      <td>ç´æLIVE ã°ããã£! 2018å¹´2æ6æ¥ 180206</td>\n",
       "      <td>ãã¤ã­ã³ã° 2018</td>\n",
       "      <td>23</td>\n",
       "      <td>2018-02-06 07:01:29</td>\n",
       "      <td>[none]</td>\n",
       "      <td>51</td>\n",
       "      <td>167</td>\n",
       "      <td>164</td>\n",
       "      <td>https://i.ytimg.com/vi/MPQaySneSUc/default.jpg</td>\n",
       "      <td>False</td>\n",
       "      <td>False</td>\n",
       "      <td>False</td>\n",
       "      <td>ç´æLIVE ã°ããã£! 2018å¹´2æ6æ¥ 180206</td>\n",
       "      <td>66272</td>\n",
       "      <td>2018</td>\n",
       "      <td>2</td>\n",
       "    </tr>\n",
       "  </tbody>\n",
       "</table>\n",
       "</div>"
      ],
      "text/plain": [
       "      video_id trending_date  \\\n",
       "0  5ugKfHgsmYw      18.07.02   \n",
       "3  5wNnwChvmsQ      18.07.02   \n",
       "4  B7J47qFvdsk      18.07.02   \n",
       "5  OIDfjdGERr8      18.07.02   \n",
       "7  MPQaySneSUc      18.07.02   \n",
       "\n",
       "                                               title  \\\n",
       "0  é¸èªããªãåç´ã«è½ä¸ï¼è·¯ä¸ã®è»ã...   \n",
       "3  æ±äº¬ãã£ãºãã¼ãªã¾ã¼ãã®å\n",
       "ã­ã£ã...   \n",
       "4  æ¦®åå¥ã\n",
       "ãè¡æã®æ­»ãã ãµãï¼æ ç...   \n",
       "5  æè³ãã¤ãããã®æ­»å ãå\n",
       "å¤«ã»åç...   \n",
       "7    ç´æLIVE ã°ããã£! 2018å¹´2æ6æ¥ 180206   \n",
       "\n",
       "                                       channel_title  category_id  \\\n",
       "0                     æäºéä¿¡æ åã»ã³ã¿ã¼           25   \n",
       "3                              ã¢ã·ã¿ãã¯ãã¤           25   \n",
       "4                              ã·ãããã¥ãã¤            1   \n",
       "5  æ¿ç½ï¼ï¼ã¹ã¼ãã¼è¸è½ãã£ã³ãã«ï...           22   \n",
       "7                               ãã¤ã­ã³ã° 2018           23   \n",
       "\n",
       "         publish_time                                               tags  \\\n",
       "0 2018-02-06 03:04:37  äºæ\n",
       "|\"ä½è³\"|\"ä½è³ç\"|\"ããªã³ãã¿ã...   \n",
       "3 2018-02-06 06:08:49                              ã¢ã·ã¿ãã¯ãã¤   \n",
       "4 2018-02-06 02:30:00                                             [none]   \n",
       "5 2018-02-06 03:27:10  æè³ãã¤ã|\"å\n",
       "«æ¨äºå¸å­\"|\"æ²³éæ¯å­...   \n",
       "7 2018-02-06 07:01:29                                             [none]   \n",
       "\n",
       "   likes  dislikes  comment_count  \\\n",
       "0    591       189              0   \n",
       "3   1165       277            545   \n",
       "4   1336        74            201   \n",
       "5      0         0             53   \n",
       "7     51       167            164   \n",
       "\n",
       "                                   thumbnail_link  comments_disabled  \\\n",
       "0  https://i.ytimg.com/vi/5ugKfHgsmYw/default.jpg               True   \n",
       "3  https://i.ytimg.com/vi/5wNnwChvmsQ/default.jpg              False   \n",
       "4  https://i.ytimg.com/vi/B7J47qFvdsk/default.jpg              False   \n",
       "5  https://i.ytimg.com/vi/OIDfjdGERr8/default.jpg              False   \n",
       "7  https://i.ytimg.com/vi/MPQaySneSUc/default.jpg              False   \n",
       "\n",
       "   ratings_disabled  video_error_or_removed  \\\n",
       "0             False                   False   \n",
       "3             False                   False   \n",
       "4             False                   False   \n",
       "5              True                   False   \n",
       "7             False                   False   \n",
       "\n",
       "                                         description  pred_views  \\\n",
       "0  ä½è³çç¥å¼å¸ã®æ°å®¶ã«å¢è½ããé¸ä...      188085   \n",
       "3  æ±äº¬ãã£ãºãã¼ãªã¾ã¼ãã®å\n",
       "ã­ã£ã...       96255   \n",
       "4  å®¶ã«å¸°ã£ã¦ãããµã©ãªã¼ãã³ã®ãã...      108408   \n",
       "5  Twitterå§ãã¾ããï¼\\n\\nç»é²ãããã...      193593   \n",
       "7    ç´æLIVE ã°ããã£! 2018å¹´2æ6æ¥ 180206       66272   \n",
       "\n",
       "   publish_year  trending_month  \n",
       "0          2018               2  \n",
       "3          2018               2  \n",
       "4          2018               2  \n",
       "5          2018               2  \n",
       "7          2018               2  "
      ]
     },
     "execution_count": 165,
     "metadata": {},
     "output_type": "execute_result"
    }
   ],
   "source": [
    "video.head()"
   ]
  },
  {
   "cell_type": "code",
   "execution_count": 166,
   "metadata": {},
   "outputs": [
    {
     "data": {
      "text/plain": [
       "Index(['video_id', 'trending_date', 'title', 'channel_title', 'category_id',\n",
       "       'publish_time', 'tags', 'likes', 'dislikes', 'comment_count',\n",
       "       'thumbnail_link', 'comments_disabled', 'ratings_disabled',\n",
       "       'video_error_or_removed', 'description', 'pred_views', 'publish_year',\n",
       "       'trending_month'],\n",
       "      dtype='object')"
      ]
     },
     "execution_count": 166,
     "metadata": {},
     "output_type": "execute_result"
    }
   ],
   "source": [
    "video.columns"
   ]
  },
  {
   "cell_type": "code",
   "execution_count": 167,
   "metadata": {},
   "outputs": [],
   "source": [
    "video.drop(['video_id', 'trending_date', 'title', 'channel_title', 'publish_time', 'tags', 'thumbnail_link', 'description', 'comments_disabled', 'ratings_disabled', 'video_error_or_removed', 'publish_year'], axis=1, inplace=True)"
   ]
  },
  {
   "cell_type": "code",
   "execution_count": 168,
   "metadata": {},
   "outputs": [
    {
     "data": {
      "text/plain": [
       "275146.8050981032"
      ]
     },
     "execution_count": 168,
     "metadata": {},
     "output_type": "execute_result"
    }
   ],
   "source": [
    "\n",
    "popular = video['pred_views'].mean()\n",
    "popular"
   ]
  },
  {
   "cell_type": "code",
   "execution_count": 169,
   "metadata": {},
   "outputs": [
    {
     "data": {
      "text/plain": [
       "(18399, 15075)"
      ]
     },
     "execution_count": 169,
     "metadata": {},
     "output_type": "execute_result"
    }
   ],
   "source": [
    "first_half = video[video['pred_views']< popular]\n",
    "len(video), len(first_half)"
   ]
  },
  {
   "cell_type": "code",
   "execution_count": 170,
   "metadata": {},
   "outputs": [
    {
     "data": {
      "text/plain": [
       "69774.90951907131"
      ]
     },
     "execution_count": 170,
     "metadata": {},
     "output_type": "execute_result"
    }
   ],
   "source": [
    "\n",
    "not_popular = first_half['pred_views'].mean()\n",
    "not_popular"
   ]
  },
  {
   "cell_type": "code",
   "execution_count": null,
   "metadata": {},
   "outputs": [],
   "source": []
  },
  {
   "cell_type": "code",
   "execution_count": 171,
   "metadata": {},
   "outputs": [],
   "source": [
    "is_popular = []\n",
    "for view in video['pred_views']:\n",
    "    if view < not_popular:\n",
    "      is_popular.append('not_popular')\n",
    "    elif not_popular < view < popular:\n",
    "      is_popular.append('popular')\n",
    "    else:\n",
    "      is_popular.append('very popular')\n",
    "video['is_popular'] = is_popular"
   ]
  },
  {
   "cell_type": "code",
   "execution_count": null,
   "metadata": {},
   "outputs": [],
   "source": []
  },
  {
   "cell_type": "code",
   "execution_count": 172,
   "metadata": {},
   "outputs": [],
   "source": [
    "video.drop(['pred_views' ], axis=1, inplace = True)"
   ]
  },
  {
   "cell_type": "code",
   "execution_count": 173,
   "metadata": {},
   "outputs": [
    {
     "data": {
      "text/html": [
       "<div>\n",
       "<style scoped>\n",
       "    .dataframe tbody tr th:only-of-type {\n",
       "        vertical-align: middle;\n",
       "    }\n",
       "\n",
       "    .dataframe tbody tr th {\n",
       "        vertical-align: top;\n",
       "    }\n",
       "\n",
       "    .dataframe thead th {\n",
       "        text-align: right;\n",
       "    }\n",
       "</style>\n",
       "<table border=\"1\" class=\"dataframe\">\n",
       "  <thead>\n",
       "    <tr style=\"text-align: right;\">\n",
       "      <th></th>\n",
       "      <th>category_id</th>\n",
       "      <th>likes</th>\n",
       "      <th>dislikes</th>\n",
       "      <th>comment_count</th>\n",
       "      <th>trending_month</th>\n",
       "      <th>is_popular</th>\n",
       "    </tr>\n",
       "  </thead>\n",
       "  <tbody>\n",
       "    <tr>\n",
       "      <th>0</th>\n",
       "      <td>25</td>\n",
       "      <td>591</td>\n",
       "      <td>189</td>\n",
       "      <td>0</td>\n",
       "      <td>2</td>\n",
       "      <td>popular</td>\n",
       "    </tr>\n",
       "    <tr>\n",
       "      <th>3</th>\n",
       "      <td>25</td>\n",
       "      <td>1165</td>\n",
       "      <td>277</td>\n",
       "      <td>545</td>\n",
       "      <td>2</td>\n",
       "      <td>popular</td>\n",
       "    </tr>\n",
       "    <tr>\n",
       "      <th>4</th>\n",
       "      <td>1</td>\n",
       "      <td>1336</td>\n",
       "      <td>74</td>\n",
       "      <td>201</td>\n",
       "      <td>2</td>\n",
       "      <td>popular</td>\n",
       "    </tr>\n",
       "    <tr>\n",
       "      <th>5</th>\n",
       "      <td>22</td>\n",
       "      <td>0</td>\n",
       "      <td>0</td>\n",
       "      <td>53</td>\n",
       "      <td>2</td>\n",
       "      <td>popular</td>\n",
       "    </tr>\n",
       "    <tr>\n",
       "      <th>7</th>\n",
       "      <td>23</td>\n",
       "      <td>51</td>\n",
       "      <td>167</td>\n",
       "      <td>164</td>\n",
       "      <td>2</td>\n",
       "      <td>not_popular</td>\n",
       "    </tr>\n",
       "  </tbody>\n",
       "</table>\n",
       "</div>"
      ],
      "text/plain": [
       "   category_id  likes  dislikes  comment_count  trending_month   is_popular\n",
       "0           25    591       189              0               2      popular\n",
       "3           25   1165       277            545               2      popular\n",
       "4            1   1336        74            201               2      popular\n",
       "5           22      0         0             53               2      popular\n",
       "7           23     51       167            164               2  not_popular"
      ]
     },
     "execution_count": 173,
     "metadata": {},
     "output_type": "execute_result"
    }
   ],
   "source": [
    "video.head()"
   ]
  },
  {
   "cell_type": "code",
   "execution_count": 174,
   "metadata": {},
   "outputs": [],
   "source": [
    "X = video.iloc[:, 0:5]\n",
    "y = video.iloc[:, 5]"
   ]
  },
  {
   "cell_type": "code",
   "execution_count": 175,
   "metadata": {},
   "outputs": [
    {
     "data": {
      "text/plain": [
       "(18399, 5)"
      ]
     },
     "execution_count": 175,
     "metadata": {},
     "output_type": "execute_result"
    }
   ],
   "source": [
    "X.shape"
   ]
  },
  {
   "cell_type": "code",
   "execution_count": 176,
   "metadata": {},
   "outputs": [],
   "source": [
    "X_train, X_test, y_train, y_test = train_test_split(X, y, test_size = 0.3)"
   ]
  },
  {
   "cell_type": "code",
   "execution_count": 177,
   "metadata": {},
   "outputs": [
    {
     "data": {
      "text/html": [
       "<div>\n",
       "<style scoped>\n",
       "    .dataframe tbody tr th:only-of-type {\n",
       "        vertical-align: middle;\n",
       "    }\n",
       "\n",
       "    .dataframe tbody tr th {\n",
       "        vertical-align: top;\n",
       "    }\n",
       "\n",
       "    .dataframe thead th {\n",
       "        text-align: right;\n",
       "    }\n",
       "</style>\n",
       "<table border=\"1\" class=\"dataframe\">\n",
       "  <thead>\n",
       "    <tr style=\"text-align: right;\">\n",
       "      <th></th>\n",
       "      <th>category_id</th>\n",
       "      <th>likes</th>\n",
       "      <th>dislikes</th>\n",
       "      <th>comment_count</th>\n",
       "      <th>trending_month</th>\n",
       "    </tr>\n",
       "  </thead>\n",
       "  <tbody>\n",
       "    <tr>\n",
       "      <th>12923</th>\n",
       "      <td>23</td>\n",
       "      <td>3567</td>\n",
       "      <td>140</td>\n",
       "      <td>1072</td>\n",
       "      <td>4</td>\n",
       "    </tr>\n",
       "    <tr>\n",
       "      <th>13507</th>\n",
       "      <td>22</td>\n",
       "      <td>3514</td>\n",
       "      <td>379</td>\n",
       "      <td>1426</td>\n",
       "      <td>5</td>\n",
       "    </tr>\n",
       "    <tr>\n",
       "      <th>20148</th>\n",
       "      <td>17</td>\n",
       "      <td>6402</td>\n",
       "      <td>497</td>\n",
       "      <td>872</td>\n",
       "      <td>6</td>\n",
       "    </tr>\n",
       "    <tr>\n",
       "      <th>4983</th>\n",
       "      <td>22</td>\n",
       "      <td>1007</td>\n",
       "      <td>102</td>\n",
       "      <td>290</td>\n",
       "      <td>3</td>\n",
       "    </tr>\n",
       "    <tr>\n",
       "      <th>8422</th>\n",
       "      <td>24</td>\n",
       "      <td>4190</td>\n",
       "      <td>561</td>\n",
       "      <td>805</td>\n",
       "      <td>3</td>\n",
       "    </tr>\n",
       "    <tr>\n",
       "      <th>12610</th>\n",
       "      <td>20</td>\n",
       "      <td>0</td>\n",
       "      <td>0</td>\n",
       "      <td>0</td>\n",
       "      <td>4</td>\n",
       "    </tr>\n",
       "    <tr>\n",
       "      <th>16978</th>\n",
       "      <td>24</td>\n",
       "      <td>2962</td>\n",
       "      <td>72</td>\n",
       "      <td>18</td>\n",
       "      <td>5</td>\n",
       "    </tr>\n",
       "    <tr>\n",
       "      <th>1902</th>\n",
       "      <td>17</td>\n",
       "      <td>370</td>\n",
       "      <td>420</td>\n",
       "      <td>56</td>\n",
       "      <td>2</td>\n",
       "    </tr>\n",
       "    <tr>\n",
       "      <th>8484</th>\n",
       "      <td>22</td>\n",
       "      <td>313</td>\n",
       "      <td>26</td>\n",
       "      <td>17</td>\n",
       "      <td>3</td>\n",
       "    </tr>\n",
       "    <tr>\n",
       "      <th>7290</th>\n",
       "      <td>24</td>\n",
       "      <td>154</td>\n",
       "      <td>8</td>\n",
       "      <td>29</td>\n",
       "      <td>3</td>\n",
       "    </tr>\n",
       "    <tr>\n",
       "      <th>10188</th>\n",
       "      <td>22</td>\n",
       "      <td>81</td>\n",
       "      <td>1</td>\n",
       "      <td>31</td>\n",
       "      <td>3</td>\n",
       "    </tr>\n",
       "    <tr>\n",
       "      <th>17195</th>\n",
       "      <td>20</td>\n",
       "      <td>446</td>\n",
       "      <td>76</td>\n",
       "      <td>48</td>\n",
       "      <td>5</td>\n",
       "    </tr>\n",
       "    <tr>\n",
       "      <th>16681</th>\n",
       "      <td>28</td>\n",
       "      <td>0</td>\n",
       "      <td>0</td>\n",
       "      <td>22</td>\n",
       "      <td>5</td>\n",
       "    </tr>\n",
       "    <tr>\n",
       "      <th>8966</th>\n",
       "      <td>25</td>\n",
       "      <td>39</td>\n",
       "      <td>25</td>\n",
       "      <td>40</td>\n",
       "      <td>3</td>\n",
       "    </tr>\n",
       "    <tr>\n",
       "      <th>11858</th>\n",
       "      <td>22</td>\n",
       "      <td>63842</td>\n",
       "      <td>1502</td>\n",
       "      <td>7015</td>\n",
       "      <td>4</td>\n",
       "    </tr>\n",
       "    <tr>\n",
       "      <th>5977</th>\n",
       "      <td>19</td>\n",
       "      <td>1021</td>\n",
       "      <td>194</td>\n",
       "      <td>452</td>\n",
       "      <td>3</td>\n",
       "    </tr>\n",
       "    <tr>\n",
       "      <th>17099</th>\n",
       "      <td>25</td>\n",
       "      <td>1970</td>\n",
       "      <td>382</td>\n",
       "      <td>977</td>\n",
       "      <td>5</td>\n",
       "    </tr>\n",
       "    <tr>\n",
       "      <th>4428</th>\n",
       "      <td>24</td>\n",
       "      <td>1353</td>\n",
       "      <td>2</td>\n",
       "      <td>27</td>\n",
       "      <td>3</td>\n",
       "    </tr>\n",
       "    <tr>\n",
       "      <th>18896</th>\n",
       "      <td>24</td>\n",
       "      <td>4315</td>\n",
       "      <td>136</td>\n",
       "      <td>1760</td>\n",
       "      <td>6</td>\n",
       "    </tr>\n",
       "    <tr>\n",
       "      <th>2482</th>\n",
       "      <td>10</td>\n",
       "      <td>4506</td>\n",
       "      <td>10</td>\n",
       "      <td>462</td>\n",
       "      <td>2</td>\n",
       "    </tr>\n",
       "    <tr>\n",
       "      <th>9512</th>\n",
       "      <td>24</td>\n",
       "      <td>68</td>\n",
       "      <td>4</td>\n",
       "      <td>0</td>\n",
       "      <td>4</td>\n",
       "    </tr>\n",
       "    <tr>\n",
       "      <th>5361</th>\n",
       "      <td>24</td>\n",
       "      <td>38</td>\n",
       "      <td>2</td>\n",
       "      <td>4</td>\n",
       "      <td>3</td>\n",
       "    </tr>\n",
       "    <tr>\n",
       "      <th>14696</th>\n",
       "      <td>22</td>\n",
       "      <td>67</td>\n",
       "      <td>6</td>\n",
       "      <td>1</td>\n",
       "      <td>5</td>\n",
       "    </tr>\n",
       "    <tr>\n",
       "      <th>259</th>\n",
       "      <td>26</td>\n",
       "      <td>112</td>\n",
       "      <td>17</td>\n",
       "      <td>72</td>\n",
       "      <td>2</td>\n",
       "    </tr>\n",
       "    <tr>\n",
       "      <th>7710</th>\n",
       "      <td>25</td>\n",
       "      <td>1276</td>\n",
       "      <td>44</td>\n",
       "      <td>175</td>\n",
       "      <td>3</td>\n",
       "    </tr>\n",
       "    <tr>\n",
       "      <th>15072</th>\n",
       "      <td>24</td>\n",
       "      <td>194</td>\n",
       "      <td>109</td>\n",
       "      <td>99</td>\n",
       "      <td>5</td>\n",
       "    </tr>\n",
       "    <tr>\n",
       "      <th>3320</th>\n",
       "      <td>15</td>\n",
       "      <td>475</td>\n",
       "      <td>35</td>\n",
       "      <td>37</td>\n",
       "      <td>2</td>\n",
       "    </tr>\n",
       "    <tr>\n",
       "      <th>14574</th>\n",
       "      <td>23</td>\n",
       "      <td>8947</td>\n",
       "      <td>136</td>\n",
       "      <td>1049</td>\n",
       "      <td>5</td>\n",
       "    </tr>\n",
       "    <tr>\n",
       "      <th>20466</th>\n",
       "      <td>24</td>\n",
       "      <td>1204</td>\n",
       "      <td>275</td>\n",
       "      <td>288</td>\n",
       "      <td>6</td>\n",
       "    </tr>\n",
       "    <tr>\n",
       "      <th>16026</th>\n",
       "      <td>26</td>\n",
       "      <td>580</td>\n",
       "      <td>27</td>\n",
       "      <td>135</td>\n",
       "      <td>5</td>\n",
       "    </tr>\n",
       "    <tr>\n",
       "      <th>...</th>\n",
       "      <td>...</td>\n",
       "      <td>...</td>\n",
       "      <td>...</td>\n",
       "      <td>...</td>\n",
       "      <td>...</td>\n",
       "    </tr>\n",
       "    <tr>\n",
       "      <th>19637</th>\n",
       "      <td>24</td>\n",
       "      <td>144</td>\n",
       "      <td>47</td>\n",
       "      <td>124</td>\n",
       "      <td>6</td>\n",
       "    </tr>\n",
       "    <tr>\n",
       "      <th>18390</th>\n",
       "      <td>17</td>\n",
       "      <td>368</td>\n",
       "      <td>79</td>\n",
       "      <td>496</td>\n",
       "      <td>5</td>\n",
       "    </tr>\n",
       "    <tr>\n",
       "      <th>17698</th>\n",
       "      <td>24</td>\n",
       "      <td>6668</td>\n",
       "      <td>3250</td>\n",
       "      <td>1199</td>\n",
       "      <td>5</td>\n",
       "    </tr>\n",
       "    <tr>\n",
       "      <th>7805</th>\n",
       "      <td>17</td>\n",
       "      <td>371</td>\n",
       "      <td>30</td>\n",
       "      <td>278</td>\n",
       "      <td>3</td>\n",
       "    </tr>\n",
       "    <tr>\n",
       "      <th>13573</th>\n",
       "      <td>17</td>\n",
       "      <td>49</td>\n",
       "      <td>4</td>\n",
       "      <td>6</td>\n",
       "      <td>4</td>\n",
       "    </tr>\n",
       "    <tr>\n",
       "      <th>9529</th>\n",
       "      <td>17</td>\n",
       "      <td>18</td>\n",
       "      <td>5</td>\n",
       "      <td>6</td>\n",
       "      <td>4</td>\n",
       "    </tr>\n",
       "    <tr>\n",
       "      <th>5305</th>\n",
       "      <td>24</td>\n",
       "      <td>5800</td>\n",
       "      <td>140</td>\n",
       "      <td>1005</td>\n",
       "      <td>3</td>\n",
       "    </tr>\n",
       "    <tr>\n",
       "      <th>10409</th>\n",
       "      <td>24</td>\n",
       "      <td>4019</td>\n",
       "      <td>85</td>\n",
       "      <td>1144</td>\n",
       "      <td>4</td>\n",
       "    </tr>\n",
       "    <tr>\n",
       "      <th>8199</th>\n",
       "      <td>24</td>\n",
       "      <td>41</td>\n",
       "      <td>31</td>\n",
       "      <td>38</td>\n",
       "      <td>3</td>\n",
       "    </tr>\n",
       "    <tr>\n",
       "      <th>7735</th>\n",
       "      <td>24</td>\n",
       "      <td>4374</td>\n",
       "      <td>330</td>\n",
       "      <td>905</td>\n",
       "      <td>3</td>\n",
       "    </tr>\n",
       "    <tr>\n",
       "      <th>142</th>\n",
       "      <td>23</td>\n",
       "      <td>27</td>\n",
       "      <td>38</td>\n",
       "      <td>6</td>\n",
       "      <td>2</td>\n",
       "    </tr>\n",
       "    <tr>\n",
       "      <th>1698</th>\n",
       "      <td>22</td>\n",
       "      <td>33</td>\n",
       "      <td>2</td>\n",
       "      <td>1</td>\n",
       "      <td>2</td>\n",
       "    </tr>\n",
       "    <tr>\n",
       "      <th>19493</th>\n",
       "      <td>22</td>\n",
       "      <td>840</td>\n",
       "      <td>59</td>\n",
       "      <td>126</td>\n",
       "      <td>6</td>\n",
       "    </tr>\n",
       "    <tr>\n",
       "      <th>17523</th>\n",
       "      <td>17</td>\n",
       "      <td>4747</td>\n",
       "      <td>353</td>\n",
       "      <td>5496</td>\n",
       "      <td>5</td>\n",
       "    </tr>\n",
       "    <tr>\n",
       "      <th>4403</th>\n",
       "      <td>24</td>\n",
       "      <td>190</td>\n",
       "      <td>10</td>\n",
       "      <td>4</td>\n",
       "      <td>3</td>\n",
       "    </tr>\n",
       "    <tr>\n",
       "      <th>9397</th>\n",
       "      <td>10</td>\n",
       "      <td>113983</td>\n",
       "      <td>4307</td>\n",
       "      <td>7537</td>\n",
       "      <td>4</td>\n",
       "    </tr>\n",
       "    <tr>\n",
       "      <th>8543</th>\n",
       "      <td>1</td>\n",
       "      <td>50</td>\n",
       "      <td>32</td>\n",
       "      <td>16</td>\n",
       "      <td>3</td>\n",
       "    </tr>\n",
       "    <tr>\n",
       "      <th>16597</th>\n",
       "      <td>26</td>\n",
       "      <td>431</td>\n",
       "      <td>332</td>\n",
       "      <td>91</td>\n",
       "      <td>5</td>\n",
       "    </tr>\n",
       "    <tr>\n",
       "      <th>6934</th>\n",
       "      <td>25</td>\n",
       "      <td>398</td>\n",
       "      <td>20</td>\n",
       "      <td>88</td>\n",
       "      <td>3</td>\n",
       "    </tr>\n",
       "    <tr>\n",
       "      <th>19435</th>\n",
       "      <td>10</td>\n",
       "      <td>18935</td>\n",
       "      <td>104</td>\n",
       "      <td>1900</td>\n",
       "      <td>6</td>\n",
       "    </tr>\n",
       "    <tr>\n",
       "      <th>4030</th>\n",
       "      <td>17</td>\n",
       "      <td>0</td>\n",
       "      <td>0</td>\n",
       "      <td>111</td>\n",
       "      <td>2</td>\n",
       "    </tr>\n",
       "    <tr>\n",
       "      <th>19188</th>\n",
       "      <td>24</td>\n",
       "      <td>4120</td>\n",
       "      <td>326</td>\n",
       "      <td>435</td>\n",
       "      <td>6</td>\n",
       "    </tr>\n",
       "    <tr>\n",
       "      <th>19081</th>\n",
       "      <td>24</td>\n",
       "      <td>23181</td>\n",
       "      <td>371</td>\n",
       "      <td>4984</td>\n",
       "      <td>6</td>\n",
       "    </tr>\n",
       "    <tr>\n",
       "      <th>14355</th>\n",
       "      <td>1</td>\n",
       "      <td>48</td>\n",
       "      <td>4</td>\n",
       "      <td>0</td>\n",
       "      <td>5</td>\n",
       "    </tr>\n",
       "    <tr>\n",
       "      <th>8025</th>\n",
       "      <td>24</td>\n",
       "      <td>7562</td>\n",
       "      <td>435</td>\n",
       "      <td>1987</td>\n",
       "      <td>3</td>\n",
       "    </tr>\n",
       "    <tr>\n",
       "      <th>8539</th>\n",
       "      <td>22</td>\n",
       "      <td>76</td>\n",
       "      <td>3</td>\n",
       "      <td>16</td>\n",
       "      <td>3</td>\n",
       "    </tr>\n",
       "    <tr>\n",
       "      <th>7121</th>\n",
       "      <td>1</td>\n",
       "      <td>829</td>\n",
       "      <td>8</td>\n",
       "      <td>218</td>\n",
       "      <td>3</td>\n",
       "    </tr>\n",
       "    <tr>\n",
       "      <th>19388</th>\n",
       "      <td>10</td>\n",
       "      <td>0</td>\n",
       "      <td>0</td>\n",
       "      <td>141</td>\n",
       "      <td>6</td>\n",
       "    </tr>\n",
       "    <tr>\n",
       "      <th>6621</th>\n",
       "      <td>24</td>\n",
       "      <td>402</td>\n",
       "      <td>27</td>\n",
       "      <td>93</td>\n",
       "      <td>3</td>\n",
       "    </tr>\n",
       "    <tr>\n",
       "      <th>8386</th>\n",
       "      <td>20</td>\n",
       "      <td>755</td>\n",
       "      <td>280</td>\n",
       "      <td>467</td>\n",
       "      <td>3</td>\n",
       "    </tr>\n",
       "  </tbody>\n",
       "</table>\n",
       "<p>12879 rows × 5 columns</p>\n",
       "</div>"
      ],
      "text/plain": [
       "       category_id   likes  dislikes  comment_count  trending_month\n",
       "12923           23    3567       140           1072               4\n",
       "13507           22    3514       379           1426               5\n",
       "20148           17    6402       497            872               6\n",
       "4983            22    1007       102            290               3\n",
       "8422            24    4190       561            805               3\n",
       "12610           20       0         0              0               4\n",
       "16978           24    2962        72             18               5\n",
       "1902            17     370       420             56               2\n",
       "8484            22     313        26             17               3\n",
       "7290            24     154         8             29               3\n",
       "10188           22      81         1             31               3\n",
       "17195           20     446        76             48               5\n",
       "16681           28       0         0             22               5\n",
       "8966            25      39        25             40               3\n",
       "11858           22   63842      1502           7015               4\n",
       "5977            19    1021       194            452               3\n",
       "17099           25    1970       382            977               5\n",
       "4428            24    1353         2             27               3\n",
       "18896           24    4315       136           1760               6\n",
       "2482            10    4506        10            462               2\n",
       "9512            24      68         4              0               4\n",
       "5361            24      38         2              4               3\n",
       "14696           22      67         6              1               5\n",
       "259             26     112        17             72               2\n",
       "7710            25    1276        44            175               3\n",
       "15072           24     194       109             99               5\n",
       "3320            15     475        35             37               2\n",
       "14574           23    8947       136           1049               5\n",
       "20466           24    1204       275            288               6\n",
       "16026           26     580        27            135               5\n",
       "...            ...     ...       ...            ...             ...\n",
       "19637           24     144        47            124               6\n",
       "18390           17     368        79            496               5\n",
       "17698           24    6668      3250           1199               5\n",
       "7805            17     371        30            278               3\n",
       "13573           17      49         4              6               4\n",
       "9529            17      18         5              6               4\n",
       "5305            24    5800       140           1005               3\n",
       "10409           24    4019        85           1144               4\n",
       "8199            24      41        31             38               3\n",
       "7735            24    4374       330            905               3\n",
       "142             23      27        38              6               2\n",
       "1698            22      33         2              1               2\n",
       "19493           22     840        59            126               6\n",
       "17523           17    4747       353           5496               5\n",
       "4403            24     190        10              4               3\n",
       "9397            10  113983      4307           7537               4\n",
       "8543             1      50        32             16               3\n",
       "16597           26     431       332             91               5\n",
       "6934            25     398        20             88               3\n",
       "19435           10   18935       104           1900               6\n",
       "4030            17       0         0            111               2\n",
       "19188           24    4120       326            435               6\n",
       "19081           24   23181       371           4984               6\n",
       "14355            1      48         4              0               5\n",
       "8025            24    7562       435           1987               3\n",
       "8539            22      76         3             16               3\n",
       "7121             1     829         8            218               3\n",
       "19388           10       0         0            141               6\n",
       "6621            24     402        27             93               3\n",
       "8386            20     755       280            467               3\n",
       "\n",
       "[12879 rows x 5 columns]"
      ]
     },
     "execution_count": 177,
     "metadata": {},
     "output_type": "execute_result"
    }
   ],
   "source": [
    "X_train"
   ]
  },
  {
   "cell_type": "code",
   "execution_count": 178,
   "metadata": {},
   "outputs": [],
   "source": [
    "AdaModel = AdaBoostClassifier(n_estimators=100, learning_rate=1)"
   ]
  },
  {
   "cell_type": "code",
   "execution_count": 179,
   "metadata": {},
   "outputs": [],
   "source": [
    "model = AdaModel.fit(X_train, y_train)\n",
    "\n",
    "y_pred = model.predict(X_test)"
   ]
  },
  {
   "cell_type": "code",
   "execution_count": 180,
   "metadata": {},
   "outputs": [
    {
     "name": "stdout",
     "output_type": "stream",
     "text": [
      "Accuracy: 0.7701086956521739\n"
     ]
    }
   ],
   "source": [
    "print(\"Accuracy:\", metrics.accuracy_score(y_test, y_pred))"
   ]
  },
  {
   "cell_type": "code",
   "execution_count": null,
   "metadata": {},
   "outputs": [],
   "source": []
  },
  {
   "cell_type": "code",
   "execution_count": null,
   "metadata": {},
   "outputs": [],
   "source": []
  },
  {
   "cell_type": "code",
   "execution_count": null,
   "metadata": {},
   "outputs": [],
   "source": []
  },
  {
   "cell_type": "code",
   "execution_count": null,
   "metadata": {},
   "outputs": [],
   "source": []
  }
 ],
 "metadata": {
  "kernelspec": {
   "display_name": "Python 3",
   "language": "python",
   "name": "python3"
  },
  "language_info": {
   "codemirror_mode": {
    "name": "ipython",
    "version": 3
   },
   "file_extension": ".py",
   "mimetype": "text/x-python",
   "name": "python",
   "nbconvert_exporter": "python",
   "pygments_lexer": "ipython3",
   "version": "3.7.3"
  }
 },
 "nbformat": 4,
 "nbformat_minor": 2
}
